{
 "cells": [
  {
   "cell_type": "code",
   "execution_count": 1,
   "metadata": {},
   "outputs": [
    {
     "name": "stderr",
     "output_type": "stream",
     "text": [
      "C:\\Users\\polluxs\\Anaconda3\\lib\\site-packages\\statsmodels\\compat\\pandas.py:56: FutureWarning: The pandas.core.datetools module is deprecated and will be removed in a future version. Please use the pandas.tseries module instead.\n",
      "  from pandas.core import datetools\n"
     ]
    }
   ],
   "source": [
    "import pandas as pd\n",
    "import numpy as np\n",
    "import os\n",
    "from datetime import datetime\n",
    "from sklearn.linear_model import LinearRegression\n",
    "from statsmodels.tsa.arima_model import ARMA, AR, ARIMA\n",
    "from statsmodels.tsa.stattools import adfuller"
   ]
  },
  {
   "cell_type": "markdown",
   "metadata": {},
   "source": [
    "### Importing & Building Raw Data Set"
   ]
  },
  {
   "cell_type": "code",
   "execution_count": 2,
   "metadata": {},
   "outputs": [],
   "source": [
    "file_lst = os.listdir('./raw_data_nfl_QB/')\n",
    "for idx,f in enumerate(file_lst):\n",
    "    if idx == 0:\n",
    "        data = pd.read_csv('./raw_data_nfl_QB/{}'.format(f))\n",
    "    else:\n",
    "        temp_df = pd.read_csv('./raw_data_nfl_QB/{}'.format(f))\n",
    "        data = pd.concat([data,temp_df],axis = 0)"
   ]
  },
  {
   "cell_type": "code",
   "execution_count": 3,
   "metadata": {},
   "outputs": [],
   "source": [
    "data.reset_index(inplace=True)"
   ]
  },
  {
   "cell_type": "markdown",
   "metadata": {},
   "source": [
    "### Renaming"
   ]
  },
  {
   "cell_type": "code",
   "execution_count": 4,
   "metadata": {},
   "outputs": [],
   "source": [
    "data['Rank_QBR'] = data['Rk']\n",
    "data['Sack'] = data['Sk']\n",
    "data['Completions'] = data['Cmp']\n",
    "data['Attempts'] = data['Att']\n",
    "data['Passing_Yards'] = data['Yds']\n",
    "data['Sack_Yards'] = data['Yds.1']\n",
    "data['QBR'] = data['Rate']\n",
    "data['Yds_Per_Attempt'] =  data['Y/A']\n",
    "data['Adj_Yd_Per_Attempt'] = data['AY/A']"
   ]
  },
  {
   "cell_type": "markdown",
   "metadata": {},
   "source": [
    "### Feature Engineering"
   ]
  },
  {
   "cell_type": "code",
   "execution_count": 5,
   "metadata": {},
   "outputs": [],
   "source": [
    "data['Year'] = data['Date'].str.split('-', 1, expand=True)[0]\n",
    "data['Year'] = data['Year'].astype(str).astype(int)\n",
    "data['Month'] = data['Date'].str.split('-', 2, expand=True)[1]\n",
    "data['Month'] = data['Month'].astype(str).astype(int)\n",
    "data['Name'] = data['Unnamed: 1'].str.split('\\\\', 1, expand=True)[0]\n",
    "data['Home_Away'] = (data['Unnamed: 6']=='@').map({False:'Home', True:'Away'})\n",
    "data['Home_Team'] = (data['Home_Away']=='Home').map({True:1, False:0})"
   ]
  },
  {
   "cell_type": "code",
   "execution_count": 6,
   "metadata": {},
   "outputs": [],
   "source": [
    "QB_ID = []\n",
    "for a, b in zip(data['Year'], data['Name']):\n",
    "    Qid = '{}_{}'.format(a,b)\n",
    "    QB_ID.append(Qid)\n",
    "    \n",
    "data['QB_ID'] = QB_ID"
   ]
  },
  {
   "cell_type": "markdown",
   "metadata": {},
   "source": [
    "### Dropping Irrelevant & Redundant Columns"
   ]
  },
  {
   "cell_type": "code",
   "execution_count": 7,
   "metadata": {},
   "outputs": [],
   "source": [
    "## Dropping Columns that have been renamed or are irrelevant('Lg')\n",
    "drop_cols = ['Rk', 'Sk', 'Cmp', 'Yds', 'Lg', 'Att', 'Yds', 'Yds.1',\n",
    "             'Rate', 'Y/A', 'AY/A', 'index', 'Unnamed: 1', 'Unnamed: 6']\n",
    "data.drop(drop_cols, axis=1, inplace=True)"
   ]
  },
  {
   "cell_type": "markdown",
   "metadata": {},
   "source": [
    "### Trimming Dataframe to Passing Attempts >= 5"
   ]
  },
  {
   "cell_type": "code",
   "execution_count": 8,
   "metadata": {},
   "outputs": [],
   "source": [
    "## Dropping Attempts Below 5\n",
    "data = data.loc[data['Attempts']>=5]"
   ]
  },
  {
   "cell_type": "code",
   "execution_count": 9,
   "metadata": {},
   "outputs": [
    {
     "data": {
      "text/plain": [
       "Index(['Age', 'Date', 'Tm', 'Opp', 'Result', 'G#', 'Week', 'Day', 'Cmp%', 'TD',\n",
       "       'Int', 'Rank_QBR', 'Sack', 'Completions', 'Attempts', 'Passing_Yards',\n",
       "       'Sack_Yards', 'QBR', 'Yds_Per_Attempt', 'Adj_Yd_Per_Attempt', 'Year',\n",
       "       'Month', 'Name', 'Home_Away', 'Home_Team', 'QB_ID'],\n",
       "      dtype='object')"
      ]
     },
     "execution_count": 9,
     "metadata": {},
     "output_type": "execute_result"
    }
   ],
   "source": [
    "data.columns"
   ]
  },
  {
   "cell_type": "markdown",
   "metadata": {},
   "source": [
    "### Check for Stationarity"
   ]
  },
  {
   "cell_type": "code",
   "execution_count": 10,
   "metadata": {},
   "outputs": [],
   "source": [
    "results_Yds = adfuller(data['Passing_Yards'].values)\n",
    "results_TD = adfuller(data['TD'].values)\n",
    "results_Int = adfuller(data['Int'].values)"
   ]
  },
  {
   "cell_type": "code",
   "execution_count": 11,
   "metadata": {
    "scrolled": true
   },
   "outputs": [
    {
     "name": "stdout",
     "output_type": "stream",
     "text": [
      "Yards Dickey Fuller Test\n",
      "-13.7318326603 T-Statistic\n",
      "1.13632329758e-25 P_value\n",
      "{'1%': -3.4333601308010926, '5%': -2.8628697724738688, '10%': -2.5674779041352886} Critical Values\n",
      "TD Dickey Fuller Test\n",
      "-14.8315014124 T-Statistic\n",
      "1.89618765822e-27 P_value\n",
      "{'1%': -3.4333684674663467, '5%': -2.8628734534635902, '10%': -2.5674798640234444} Critical Values\n",
      "Int Dickey Fuller Test\n",
      "-15.1702199755 T-Statistic\n",
      "6.40644513972e-28 P_value\n",
      "{'1%': -3.4333670748168506, '5%': -2.8628728385507474, '10%': -2.567479536622141} Critical Values\n"
     ]
    }
   ],
   "source": [
    "print('Yards Dickey Fuller Test')\n",
    "print(results_Yds[0], 'T-Statistic')\n",
    "print(results_Yds[1], 'P_value')\n",
    "print(results_Yds[4], 'Critical Values')\n",
    "print('TD Dickey Fuller Test')\n",
    "print(results_TD[0], 'T-Statistic')\n",
    "print(results_TD[1], 'P_value')\n",
    "print(results_TD[4], 'Critical Values')\n",
    "print('Int Dickey Fuller Test')\n",
    "print(results_Int[0], 'T-Statistic')\n",
    "print(results_Int[1], 'P_value')\n",
    "print(results_Int[4], 'Critical Values')"
   ]
  },
  {
   "cell_type": "code",
   "execution_count": 15,
   "metadata": {},
   "outputs": [],
   "source": [
    "### shows variables are stationary"
   ]
  },
  {
   "cell_type": "code",
   "execution_count": 12,
   "metadata": {},
   "outputs": [],
   "source": [
    "## Break Down By Week\n",
    "Week1_df = data.loc[data['Week']==1]\n",
    "Week2_df = data.loc[data['Week']==2]\n",
    "Week3_df = data.loc[data['Week']==3]\n",
    "Week4_df = data.loc[data['Week']==4]\n",
    "Week5_df = data.loc[data['Week']==5]\n",
    "Week6_df = data.loc[data['Week']==6]\n",
    "Week7_df = data.loc[data['Week']==7]\n",
    "Week8_df = data.loc[data['Week']==8]\n",
    "Week9_df = data.loc[data['Week']==9]\n",
    "Week10_df = data.loc[data['Week']==10]\n",
    "Week11_df = data.loc[data['Week']==11]\n",
    "Week12_df = data.loc[data['Week']==12]\n",
    "Week13_df = data.loc[data['Week']==13]\n",
    "Week14_df = data.loc[data['Week']==14]\n",
    "Week15_df = data.loc[data['Week']==15]\n",
    "Week16_df = data.loc[data['Week']==16]\n",
    "Week17_df = data.loc[data['Week']==17]"
   ]
  },
  {
   "cell_type": "code",
   "execution_count": 13,
   "metadata": {},
   "outputs": [],
   "source": [
    "## Break Down By Season\n",
    "df_2016 = data.loc[data['Year']==2016]\n",
    "df_2015 = data.loc[data['Year']==2015]\n",
    "df_2014 = data.loc[data['Year']==2014]\n",
    "df_2013 = data.loc[data['Year']==2013]"
   ]
  },
  {
   "cell_type": "markdown",
   "metadata": {},
   "source": [
    "convert date to date time object for time series set as index \n",
    "\n",
    "###drop low completion numbers\n",
    "\n",
    "###aggregate by weeks over years\n",
    "\n",
    "###label qbs by year\n",
    "\n",
    "####check for stationary if not turn into stationary\n",
    "\n",
    "    stats models package\n",
    "    \n",
    "    check lecture"
   ]
  },
  {
   "cell_type": "code",
   "execution_count": 14,
   "metadata": {},
   "outputs": [],
   "source": [
    "X = data[['Cmp%', 'TD', 'Int', 'Sack', 'Completions', 'Attempts','Sack_Yards', 'QBR']]\n",
    "y = data['Passing_Yards']\n",
    "lr_yards = LinearRegression()\n",
    "lr_yards.fit(X,y)\n",
    "\n",
    "predict_yards = lr_yards.predict(X)"
   ]
  },
  {
   "cell_type": "code",
   "execution_count": 15,
   "metadata": {},
   "outputs": [
    {
     "data": {
      "text/plain": [
       "array([ -4.11355449, -15.30438064,  34.30612255,  -0.71574486,\n",
       "        10.57206503,  -0.26594138,   0.13497222,   2.8726782 ])"
      ]
     },
     "execution_count": 15,
     "metadata": {},
     "output_type": "execute_result"
    }
   ],
   "source": [
    "lr_yards.coef_"
   ]
  },
  {
   "cell_type": "code",
   "execution_count": 16,
   "metadata": {},
   "outputs": [],
   "source": [
    "residuals = predict_yards - y.values\n",
    "\n",
    "ar_yards = ARMA(residuals, (2,1)).fit()\n",
    "params = ar_yards.params"
   ]
  },
  {
   "cell_type": "code",
   "execution_count": 183,
   "metadata": {},
   "outputs": [],
   "source": [
    "df = df_2014.loc[df_2014['Week']==1]"
   ]
  },
  {
   "cell_type": "code",
   "execution_count": 188,
   "metadata": {},
   "outputs": [],
   "source": [
    "wk = [78.26,20,3,4,18,23,31,127.9]"
   ]
  },
  {
   "cell_type": "code",
   "execution_count": 226,
   "metadata": {},
   "outputs": [],
   "source": [
    "Xs = df[['Cmp%', 'TD', 'Int', 'Sack', 'Completions', 'Attempts','Sack_Yards', 'QBR']]\n",
    "y = df['Passing_Yards']"
   ]
  },
  {
   "cell_type": "code",
   "execution_count": 316,
   "metadata": {},
   "outputs": [],
   "source": [
    "y = ['Passing_Yards']\n",
    "X = ['Cmp%', 'TD', 'Int', 'Sack', 'Completions', 'Attempts','Sack_Yards', 'QBR']\n",
    "peyton_13 = df_2013[df_2013['QB_ID'] == '2013_Peyton Manning']\n",
    "X_peyton_13 = peyton_13[X]\n",
    "y_peyton_13 = peyton_13[y]"
   ]
  },
  {
   "cell_type": "markdown",
   "metadata": {},
   "source": [
    "list of every unique qb id\n"
   ]
  },
  {
   "cell_type": "code",
   "execution_count": 289,
   "metadata": {},
   "outputs": [],
   "source": [
    "peyton_13 = peyton_13.sort_values('G#')\n",
    "\n",
    "peyton_13.reset_index(inplace=True)"
   ]
  },
  {
   "cell_type": "code",
   "execution_count": 313,
   "metadata": {},
   "outputs": [
    {
     "data": {
      "text/html": [
       "<div>\n",
       "<style scoped>\n",
       "    .dataframe tbody tr th:only-of-type {\n",
       "        vertical-align: middle;\n",
       "    }\n",
       "\n",
       "    .dataframe tbody tr th {\n",
       "        vertical-align: top;\n",
       "    }\n",
       "\n",
       "    .dataframe thead th {\n",
       "        text-align: right;\n",
       "    }\n",
       "</style>\n",
       "<table border=\"1\" class=\"dataframe\">\n",
       "  <thead>\n",
       "    <tr style=\"text-align: right;\">\n",
       "      <th></th>\n",
       "      <th>Cmp%</th>\n",
       "      <th>TD</th>\n",
       "      <th>Int</th>\n",
       "      <th>Sack</th>\n",
       "      <th>Completions</th>\n",
       "      <th>Attempts</th>\n",
       "      <th>Sack_Yards</th>\n",
       "      <th>QBR</th>\n",
       "    </tr>\n",
       "  </thead>\n",
       "  <tbody>\n",
       "    <tr>\n",
       "      <th>0</th>\n",
       "      <td>64.29</td>\n",
       "      <td>7</td>\n",
       "      <td>0</td>\n",
       "      <td>3</td>\n",
       "      <td>27</td>\n",
       "      <td>42</td>\n",
       "      <td>17</td>\n",
       "      <td>141.1</td>\n",
       "    </tr>\n",
       "    <tr>\n",
       "      <th>1</th>\n",
       "      <td>69.77</td>\n",
       "      <td>2</td>\n",
       "      <td>0</td>\n",
       "      <td>0</td>\n",
       "      <td>30</td>\n",
       "      <td>43</td>\n",
       "      <td>0</td>\n",
       "      <td>105.5</td>\n",
       "    </tr>\n",
       "  </tbody>\n",
       "</table>\n",
       "</div>"
      ],
      "text/plain": [
       "    Cmp%  TD  Int  Sack  Completions  Attempts  Sack_Yards    QBR\n",
       "0  64.29   7    0     3           27        42          17  141.1\n",
       "1  69.77   2    0     0           30        43           0  105.5"
      ]
     },
     "execution_count": 313,
     "metadata": {},
     "output_type": "execute_result"
    }
   ],
   "source": [
    "week = 3\n",
    "w = week-1\n",
    "train = peyton_13[:w][X]\n",
    "train"
   ]
  },
  {
   "cell_type": "code",
   "execution_count": 348,
   "metadata": {},
   "outputs": [],
   "source": [
    "y_pred_peyton =  lr_yards.predict(train)"
   ]
  },
  {
   "cell_type": "code",
   "execution_count": 349,
   "metadata": {},
   "outputs": [
    {
     "data": {
      "text/plain": [
       "array([ 332.25375778,  315.26899881])"
      ]
     },
     "execution_count": 349,
     "metadata": {},
     "output_type": "execute_result"
    }
   ],
   "source": [
    "y_pred_peyton"
   ]
  },
  {
   "cell_type": "code",
   "execution_count": 355,
   "metadata": {},
   "outputs": [
    {
     "data": {
      "text/plain": [
       "array([ 129.74624222,   14.73100119])"
      ]
     },
     "execution_count": 355,
     "metadata": {},
     "output_type": "execute_result"
    }
   ],
   "source": [
    "np.array(y_peyton_13['Passing_Yards'][:w] - y_pred_peyton)"
   ]
  },
  {
   "cell_type": "code",
   "execution_count": 339,
   "metadata": {},
   "outputs": [
    {
     "data": {
      "text/plain": [
       "array([462, 330], dtype=int64)"
      ]
     },
     "execution_count": 339,
     "metadata": {},
     "output_type": "execute_result"
    }
   ],
   "source": [
    "y_peyton_13[:w].values.reshape(1,2).flatten()"
   ]
  },
  {
   "cell_type": "code",
   "execution_count": 343,
   "metadata": {},
   "outputs": [],
   "source": [
    "resid = y_pred_peyton - y_peyton_13[:w].values"
   ]
  },
  {
   "cell_type": "code",
   "execution_count": null,
   "metadata": {},
   "outputs": [],
   "source": [
    "ar_yards = ARMA(residuals, (2,1), freq=).fit()"
   ]
  },
  {
   "cell_type": "code",
   "execution_count": 492,
   "metadata": {},
   "outputs": [],
   "source": [
    "def yard_projections(mstr_df,qb_id,week,lr_yards,ar_yards):\n",
    "    '''\n",
    "    mstr_df: Pandas DF; master df with all qbs in all years and all weeks\n",
    "    qb_id: string; the id of the qq you want to make a prediction\n",
    "    week: int, predicting week\n",
    "    lr_yards: linear regression model for yards\n",
    "    ar_yards: ArMA model object for yard residuals\n",
    "    \n",
    "    '''\n",
    "    ycol = ['Passing_Yards'] ## Target Variable\n",
    "    Xcols = ['Cmp%', 'TD', 'Int', 'Sack', 'Completions', 'Attempts','Sack_Yards', 'QBR'] ## predictors\n",
    "    ## create temp df for each QB by Year and week\n",
    "    ## then reset index\n",
    "    temp_df = mstr_df[mstr_df['QB_ID'] == qb_id]\n",
    "    temp_df = temp_df.sort_values('G#')\n",
    "    temp_df.reset_index(inplace=True)\n",
    "    X = temp_df[Xcols]\n",
    "    y = temp_df[ycol]\n",
    "    ## grabbing the weeks before the week specified\n",
    "    w = week-1\n",
    "    prev_weeks = temp_df[:w][Xcols]\n",
    "    y_pred = lr_yards.predict(prev_weeks)\n",
    "    resid = np.array(y[ycol][:w]).flatten()-y_pred\n",
    "    print(type(resid))\n",
    "    dates\n",
    "    ar_yards.predict(resid, start=temp_df.index[w], end=temp_df.index[w+1])"
   ]
  },
  {
   "cell_type": "markdown",
   "metadata": {},
   "source": [
    "## Predict week 4 for Peyton"
   ]
  },
  {
   "cell_type": "code",
   "execution_count": 494,
   "metadata": {},
   "outputs": [
    {
     "name": "stdout",
     "output_type": "stream",
     "text": [
      "<class 'numpy.ndarray'>\n"
     ]
    },
    {
     "ename": "TypeError",
     "evalue": "predict() got multiple values for argument 'start'",
     "output_type": "error",
     "traceback": [
      "\u001b[1;31m---------------------------------------------------------------------------\u001b[0m",
      "\u001b[1;31mTypeError\u001b[0m                                 Traceback (most recent call last)",
      "\u001b[1;32m<ipython-input-494-d9eafd592499>\u001b[0m in \u001b[0;36m<module>\u001b[1;34m()\u001b[0m\n\u001b[1;32m----> 1\u001b[1;33m \u001b[0myard_projections\u001b[0m\u001b[1;33m(\u001b[0m\u001b[0mdata\u001b[0m\u001b[1;33m,\u001b[0m \u001b[1;34m'2014_Peyton Manning'\u001b[0m\u001b[1;33m,\u001b[0m \u001b[1;36m4\u001b[0m\u001b[1;33m,\u001b[0m \u001b[0mlr_yards\u001b[0m\u001b[1;33m,\u001b[0m \u001b[0mar_yards\u001b[0m\u001b[1;33m)\u001b[0m\u001b[1;33m\u001b[0m\u001b[0m\n\u001b[0m",
      "\u001b[1;32m<ipython-input-492-bd3d7d6a8530>\u001b[0m in \u001b[0;36myard_projections\u001b[1;34m(mstr_df, qb_id, week, lr_yards, ar_yards)\u001b[0m\n\u001b[0;32m     25\u001b[0m     \u001b[0mprint\u001b[0m\u001b[1;33m(\u001b[0m\u001b[0mtype\u001b[0m\u001b[1;33m(\u001b[0m\u001b[0mresid\u001b[0m\u001b[1;33m)\u001b[0m\u001b[1;33m)\u001b[0m\u001b[1;33m\u001b[0m\u001b[0m\n\u001b[0;32m     26\u001b[0m \u001b[1;33m\u001b[0m\u001b[0m\n\u001b[1;32m---> 27\u001b[1;33m     \u001b[0mar_yards\u001b[0m\u001b[1;33m.\u001b[0m\u001b[0mpredict\u001b[0m\u001b[1;33m(\u001b[0m\u001b[0mresid\u001b[0m\u001b[1;33m,\u001b[0m \u001b[0mstart\u001b[0m\u001b[1;33m=\u001b[0m\u001b[0mtemp_df\u001b[0m\u001b[1;33m.\u001b[0m\u001b[0mindex\u001b[0m\u001b[1;33m[\u001b[0m\u001b[0mw\u001b[0m\u001b[1;33m]\u001b[0m\u001b[1;33m,\u001b[0m \u001b[0mend\u001b[0m\u001b[1;33m=\u001b[0m\u001b[0mtemp_df\u001b[0m\u001b[1;33m.\u001b[0m\u001b[0mindex\u001b[0m\u001b[1;33m[\u001b[0m\u001b[0mw\u001b[0m\u001b[1;33m+\u001b[0m\u001b[1;36m1\u001b[0m\u001b[1;33m]\u001b[0m\u001b[1;33m)\u001b[0m\u001b[1;33m\u001b[0m\u001b[0m\n\u001b[0m",
      "\u001b[1;32m~\\Anaconda3\\lib\\site-packages\\statsmodels\\base\\wrapper.py\u001b[0m in \u001b[0;36mwrapper\u001b[1;34m(self, *args, **kwargs)\u001b[0m\n\u001b[0;32m     93\u001b[0m             \u001b[0mobj\u001b[0m \u001b[1;33m=\u001b[0m \u001b[0mdata\u001b[0m\u001b[1;33m.\u001b[0m\u001b[0mwrap_output\u001b[0m\u001b[1;33m(\u001b[0m\u001b[0mfunc\u001b[0m\u001b[1;33m(\u001b[0m\u001b[0mresults\u001b[0m\u001b[1;33m,\u001b[0m \u001b[1;33m*\u001b[0m\u001b[0margs\u001b[0m\u001b[1;33m,\u001b[0m \u001b[1;33m**\u001b[0m\u001b[0mkwargs\u001b[0m\u001b[1;33m)\u001b[0m\u001b[1;33m,\u001b[0m \u001b[0mhow\u001b[0m\u001b[1;33m[\u001b[0m\u001b[1;36m0\u001b[0m\u001b[1;33m]\u001b[0m\u001b[1;33m,\u001b[0m \u001b[0mhow\u001b[0m\u001b[1;33m[\u001b[0m\u001b[1;36m1\u001b[0m\u001b[1;33m:\u001b[0m\u001b[1;33m]\u001b[0m\u001b[1;33m)\u001b[0m\u001b[1;33m\u001b[0m\u001b[0m\n\u001b[0;32m     94\u001b[0m         \u001b[1;32melif\u001b[0m \u001b[0mhow\u001b[0m\u001b[1;33m:\u001b[0m\u001b[1;33m\u001b[0m\u001b[0m\n\u001b[1;32m---> 95\u001b[1;33m             \u001b[0mobj\u001b[0m \u001b[1;33m=\u001b[0m \u001b[0mdata\u001b[0m\u001b[1;33m.\u001b[0m\u001b[0mwrap_output\u001b[0m\u001b[1;33m(\u001b[0m\u001b[0mfunc\u001b[0m\u001b[1;33m(\u001b[0m\u001b[0mresults\u001b[0m\u001b[1;33m,\u001b[0m \u001b[1;33m*\u001b[0m\u001b[0margs\u001b[0m\u001b[1;33m,\u001b[0m \u001b[1;33m**\u001b[0m\u001b[0mkwargs\u001b[0m\u001b[1;33m)\u001b[0m\u001b[1;33m,\u001b[0m \u001b[0mhow\u001b[0m\u001b[1;33m)\u001b[0m\u001b[1;33m\u001b[0m\u001b[0m\n\u001b[0m\u001b[0;32m     96\u001b[0m         \u001b[1;32mreturn\u001b[0m \u001b[0mobj\u001b[0m\u001b[1;33m\u001b[0m\u001b[0m\n\u001b[0;32m     97\u001b[0m \u001b[1;33m\u001b[0m\u001b[0m\n",
      "\u001b[1;31mTypeError\u001b[0m: predict() got multiple values for argument 'start'"
     ]
    }
   ],
   "source": [
    "yard_projections(data, '2014_Peyton Manning', 4, lr_yards, ar_yards)"
   ]
  },
  {
   "cell_type": "code",
   "execution_count": 242,
   "metadata": {},
   "outputs": [],
   "source": [
    "p_13_hat = lr_yards.predict(peyton_13)"
   ]
  },
  {
   "cell_type": "code",
   "execution_count": 243,
   "metadata": {},
   "outputs": [
    {
     "data": {
      "text/plain": [
       "array([ 332.25375778,  321.20055572,  275.37970925,  205.20029177,\n",
       "        320.42678748,  397.25766565,  297.78777995,  354.3627831 ,\n",
       "        271.76038609,  315.26899881,  340.52211455,  330.59862009,\n",
       "        383.98076174,  305.25320622,  338.63383161,  362.27231315])"
      ]
     },
     "execution_count": 243,
     "metadata": {},
     "output_type": "execute_result"
    }
   ],
   "source": [
    "p_13_hat"
   ]
  },
  {
   "cell_type": "code",
   "execution_count": 252,
   "metadata": {},
   "outputs": [
    {
     "data": {
      "text/html": [
       "<div>\n",
       "<style scoped>\n",
       "    .dataframe tbody tr th:only-of-type {\n",
       "        vertical-align: middle;\n",
       "    }\n",
       "\n",
       "    .dataframe tbody tr th {\n",
       "        vertical-align: top;\n",
       "    }\n",
       "\n",
       "    .dataframe thead th {\n",
       "        text-align: right;\n",
       "    }\n",
       "</style>\n",
       "<table border=\"1\" class=\"dataframe\">\n",
       "  <thead>\n",
       "    <tr style=\"text-align: right;\">\n",
       "      <th></th>\n",
       "      <th>Cmp%</th>\n",
       "      <th>TD</th>\n",
       "      <th>Int</th>\n",
       "      <th>Sack</th>\n",
       "      <th>Completions</th>\n",
       "      <th>Attempts</th>\n",
       "      <th>Sack_Yards</th>\n",
       "      <th>QBR</th>\n",
       "    </tr>\n",
       "  </thead>\n",
       "  <tbody>\n",
       "    <tr>\n",
       "      <th>0</th>\n",
       "      <td>64.29</td>\n",
       "      <td>7</td>\n",
       "      <td>0</td>\n",
       "      <td>3</td>\n",
       "      <td>27</td>\n",
       "      <td>42</td>\n",
       "      <td>17</td>\n",
       "      <td>141.1</td>\n",
       "    </tr>\n",
       "    <tr>\n",
       "      <th>37</th>\n",
       "      <td>69.44</td>\n",
       "      <td>4</td>\n",
       "      <td>0</td>\n",
       "      <td>2</td>\n",
       "      <td>25</td>\n",
       "      <td>36</td>\n",
       "      <td>17</td>\n",
       "      <td>135.2</td>\n",
       "    </tr>\n",
       "    <tr>\n",
       "      <th>78</th>\n",
       "      <td>60.00</td>\n",
       "      <td>1</td>\n",
       "      <td>0</td>\n",
       "      <td>0</td>\n",
       "      <td>24</td>\n",
       "      <td>40</td>\n",
       "      <td>0</td>\n",
       "      <td>94.1</td>\n",
       "    </tr>\n",
       "    <tr>\n",
       "      <th>127</th>\n",
       "      <td>52.78</td>\n",
       "      <td>2</td>\n",
       "      <td>1</td>\n",
       "      <td>2</td>\n",
       "      <td>19</td>\n",
       "      <td>36</td>\n",
       "      <td>18</td>\n",
       "      <td>70.4</td>\n",
       "    </tr>\n",
       "    <tr>\n",
       "      <th>141</th>\n",
       "      <td>62.86</td>\n",
       "      <td>5</td>\n",
       "      <td>2</td>\n",
       "      <td>0</td>\n",
       "      <td>22</td>\n",
       "      <td>35</td>\n",
       "      <td>0</td>\n",
       "      <td>118.2</td>\n",
       "    </tr>\n",
       "  </tbody>\n",
       "</table>\n",
       "</div>"
      ],
      "text/plain": [
       "      Cmp%  TD  Int  Sack  Completions  Attempts  Sack_Yards    QBR\n",
       "0    64.29   7    0     3           27        42          17  141.1\n",
       "37   69.44   4    0     2           25        36          17  135.2\n",
       "78   60.00   1    0     0           24        40           0   94.1\n",
       "127  52.78   2    1     2           19        36          18   70.4\n",
       "141  62.86   5    2     0           22        35           0  118.2"
      ]
     },
     "execution_count": 252,
     "metadata": {},
     "output_type": "execute_result"
    }
   ],
   "source": [
    "peyton_13.head()"
   ]
  },
  {
   "cell_type": "code",
   "execution_count": null,
   "metadata": {},
   "outputs": [],
   "source": [
    "ar_yards()"
   ]
  }
 ],
 "metadata": {
  "kernelspec": {
   "display_name": "Python 3",
   "language": "python",
   "name": "python3"
  },
  "language_info": {
   "codemirror_mode": {
    "name": "ipython",
    "version": 3
   },
   "file_extension": ".py",
   "mimetype": "text/x-python",
   "name": "python",
   "nbconvert_exporter": "python",
   "pygments_lexer": "ipython3",
   "version": "3.6.3"
  }
 },
 "nbformat": 4,
 "nbformat_minor": 2
}
