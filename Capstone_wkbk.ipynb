{
 "cells": [
  {
   "cell_type": "code",
   "execution_count": 258,
   "metadata": {},
   "outputs": [],
   "source": [
    "import pandas as pd\n",
    "import numpy as np\n",
    "import os\n",
    "from sklearn.linear_model import LinearRegression\n",
    "from statsmodels.tsa.arima_model import ARMA\n",
    "from statsmodels.tsa.stattools import adfuller"
   ]
  },
  {
   "cell_type": "markdown",
   "metadata": {},
   "source": [
    "### Importing & Building Raw Data Set"
   ]
  },
  {
   "cell_type": "code",
   "execution_count": 259,
   "metadata": {},
   "outputs": [],
   "source": [
    "file_lst = os.listdir('./raw_data_nfl_QB/')\n",
    "for idx,f in enumerate(file_lst):\n",
    "    if idx == 0:\n",
    "        data = pd.read_csv('./raw_data_nfl_QB/{}'.format(f))\n",
    "    else:\n",
    "        temp_df = pd.read_csv('./raw_data_nfl_QB/{}'.format(f))\n",
    "        data = pd.concat([data,temp_df],axis = 0)"
   ]
  },
  {
   "cell_type": "code",
   "execution_count": 260,
   "metadata": {},
   "outputs": [],
   "source": [
    "data.reset_index(inplace=True)"
   ]
  },
  {
   "cell_type": "markdown",
   "metadata": {},
   "source": [
    "### Renaming"
   ]
  },
  {
   "cell_type": "code",
   "execution_count": 261,
   "metadata": {},
   "outputs": [],
   "source": [
    "data['Rank_QBR'] = data['Rk']\n",
    "data['Sack'] = data['Sk']\n",
    "data['Completions'] = data['Cmp']\n",
    "data['Attempts'] = data['Att']\n",
    "data['Passing_Yards'] = data['Yds']\n",
    "data['Sack_Yards'] = data['Yds.1']\n",
    "data['QBR'] = data['Rate']\n",
    "data['Yds_Per_Attempt'] =  data['Y/A']\n",
    "data['Adj_Yd_Per_Attempt'] = data['AY/A']"
   ]
  },
  {
   "cell_type": "markdown",
   "metadata": {},
   "source": [
    "### Feature Engineering"
   ]
  },
  {
   "cell_type": "markdown",
   "metadata": {},
   "source": [
    "Assuming basic scoring for calculation of fantasy points column\n",
    "\n",
    "    25 yards = 1 pt\n",
    "    1 TD = 6 pts\n",
    "    1 Int = -2 pts"
   ]
  },
  {
   "cell_type": "code",
   "execution_count": 262,
   "metadata": {},
   "outputs": [],
   "source": [
    "data['Year'] = data['Date'].str.split('-', 1, expand=True)[0]\n",
    "data['Year'] = data['Year'].astype(str).astype(int)\n",
    "data['Month'] = data['Date'].str.split('-', 2, expand=True)[1]\n",
    "data['Month'] = data['Month'].astype(str).astype(int)\n",
    "data['Name'] = data['Unnamed: 1'].str.split('\\\\', 1, expand=True)[0]\n",
    "data['Home_Away'] = (data['Unnamed: 6']=='@').map({False:'Home', True:'Away'})\n",
    "data['Home_Team'] = (data['Home_Away']=='Home').map({True:1, False:0})\n",
    "data['Fantasy_Points'] = (data['Passing_Yards']/25)+(data['TD']*6)-(data['Int']*2)"
   ]
  },
  {
   "cell_type": "code",
   "execution_count": 263,
   "metadata": {},
   "outputs": [],
   "source": [
    "QB_ID = []\n",
    "for a, b in zip(data['Year'], data['Name']):\n",
    "    Qid = '{}_{}'.format(a,b)\n",
    "    QB_ID.append(Qid)\n",
    "    \n",
    "data['QB_ID'] = QB_ID"
   ]
  },
  {
   "cell_type": "markdown",
   "metadata": {},
   "source": [
    "### Dropping Irrelevant & Redundant Columns"
   ]
  },
  {
   "cell_type": "code",
   "execution_count": 264,
   "metadata": {},
   "outputs": [],
   "source": [
    "## Dropping Columns that have been renamed or are irrelevant('Lg')\n",
    "drop_cols = ['Rk', 'Sk', 'Cmp', 'Yds', 'Lg', 'Att', 'Yds', 'Yds.1',\n",
    "             'Rate', 'Y/A', 'AY/A', 'index', 'Unnamed: 1', 'Unnamed: 6']\n",
    "data.drop(drop_cols, axis=1, inplace=True)"
   ]
  },
  {
   "cell_type": "markdown",
   "metadata": {},
   "source": [
    "### Trimming Dataframe to Passing Attempts >= 5"
   ]
  },
  {
   "cell_type": "code",
   "execution_count": 265,
   "metadata": {},
   "outputs": [],
   "source": [
    "## Dropping Attempts Below 5\n",
    "data = data.loc[data['Attempts']>=5]"
   ]
  },
  {
   "cell_type": "code",
   "execution_count": 266,
   "metadata": {},
   "outputs": [
    {
     "data": {
      "text/plain": [
       "Index(['Age', 'Date', 'Tm', 'Opp', 'Result', 'G#', 'Week', 'Day', 'Cmp%', 'TD',\n",
       "       'Int', 'Rank_QBR', 'Sack', 'Completions', 'Attempts', 'Passing_Yards',\n",
       "       'Sack_Yards', 'QBR', 'Yds_Per_Attempt', 'Adj_Yd_Per_Attempt', 'Year',\n",
       "       'Month', 'Name', 'Home_Away', 'Home_Team', 'Fantasy_Points', 'QB_ID'],\n",
       "      dtype='object')"
      ]
     },
     "execution_count": 266,
     "metadata": {},
     "output_type": "execute_result"
    }
   ],
   "source": [
    "data.columns"
   ]
  },
  {
   "cell_type": "markdown",
   "metadata": {},
   "source": [
    "### Check for Stationarity"
   ]
  },
  {
   "cell_type": "code",
   "execution_count": 267,
   "metadata": {},
   "outputs": [],
   "source": [
    "results_Yds = adfuller(data['Passing_Yards'].values)\n",
    "results_TD = adfuller(data['TD'].values)\n",
    "results_Int = adfuller(data['Int'].values)"
   ]
  },
  {
   "cell_type": "code",
   "execution_count": 237,
   "metadata": {
    "scrolled": true
   },
   "outputs": [
    {
     "name": "stdout",
     "output_type": "stream",
     "text": [
      "Yards Dickey Fuller Test\n",
      "-11.7174958949 T-Statistic\n",
      "1.43953283153e-21 P_value\n",
      "{'1%': -3.4328579475395395, '5%': -2.8626480184291183, '10%': -2.5673598376418432} Critical Values\n",
      "TD Dickey Fuller Test\n",
      "-11.4002325494 T-Statistic\n",
      "7.68020883773e-21 P_value\n",
      "{'1%': -3.4328598727101833, '5%': -2.8626488686169682, '10%': -2.5673602902877883} Critical Values\n",
      "Int Dickey Fuller Test\n",
      "-16.849530851 T-Statistic\n",
      "1.12153527086e-29 P_value\n",
      "{'1%': -3.4328541060447755, '5%': -2.8626463219585556, '10%': -2.5673589344293486} Critical Values\n"
     ]
    }
   ],
   "source": [
    "print('Yards Dickey Fuller Test')\n",
    "print(results_Yds[0], 'T-Statistic')\n",
    "print(results_Yds[1], 'P_value')\n",
    "print(results_Yds[4], 'Critical Values')\n",
    "print('TD Dickey Fuller Test')\n",
    "print(results_TD[0], 'T-Statistic')\n",
    "print(results_TD[1], 'P_value')\n",
    "print(results_TD[4], 'Critical Values')\n",
    "print('Int Dickey Fuller Test')\n",
    "print(results_Int[0], 'T-Statistic')\n",
    "print(results_Int[1], 'P_value')\n",
    "print(results_Int[4], 'Critical Values')"
   ]
  },
  {
   "cell_type": "code",
   "execution_count": 15,
   "metadata": {},
   "outputs": [],
   "source": [
    "### shows variables are stationary"
   ]
  },
  {
   "cell_type": "code",
   "execution_count": 12,
   "metadata": {},
   "outputs": [],
   "source": [
    "## Break Down By Week\n",
    "Week1_df = data.loc[data['Week']==1]\n",
    "Week2_df = data.loc[data['Week']==2]\n",
    "Week3_df = data.loc[data['Week']==3]\n",
    "Week4_df = data.loc[data['Week']==4]\n",
    "Week5_df = data.loc[data['Week']==5]\n",
    "Week6_df = data.loc[data['Week']==6]\n",
    "Week7_df = data.loc[data['Week']==7]\n",
    "Week8_df = data.loc[data['Week']==8]\n",
    "Week9_df = data.loc[data['Week']==9]\n",
    "Week10_df = data.loc[data['Week']==10]\n",
    "Week11_df = data.loc[data['Week']==11]\n",
    "Week12_df = data.loc[data['Week']==12]\n",
    "Week13_df = data.loc[data['Week']==13]\n",
    "Week14_df = data.loc[data['Week']==14]\n",
    "Week15_df = data.loc[data['Week']==15]\n",
    "Week16_df = data.loc[data['Week']==16]\n",
    "Week17_df = data.loc[data['Week']==17]"
   ]
  },
  {
   "cell_type": "code",
   "execution_count": 238,
   "metadata": {},
   "outputs": [],
   "source": [
    "## Break Down By Season\n",
    "df_2017 = data.loc[data['Year']==2017]\n",
    "df_2016 = data.loc[data['Year']==2016]\n",
    "df_2015 = data.loc[data['Year']==2015]\n",
    "df_2014 = data.loc[data['Year']==2014]\n",
    "df_2013 = data.loc[data['Year']==2013]"
   ]
  },
  {
   "cell_type": "markdown",
   "metadata": {},
   "source": [
    "convert date to date time object for time series set as index \n",
    "\n",
    "###drop low completion numbers\n",
    "\n",
    "###aggregate by weeks over years\n",
    "\n",
    "###label qbs by year\n",
    "\n",
    "####check for stationary if not turn into stationary\n",
    "\n",
    "    stats models package\n",
    "    \n",
    "    check lecture"
   ]
  },
  {
   "cell_type": "code",
   "execution_count": 56,
   "metadata": {},
   "outputs": [],
   "source": [
    "X = data[['Cmp%', 'TD', 'Int', 'Sack', 'Completions', 'Attempts','Sack_Yards', 'QBR']]\n",
    "y = data['Passing_Yards']\n",
    "lr_yards = LinearRegression()\n",
    "lr_yards.fit(X,y)\n",
    "\n",
    "predict_yards = lr_yards.predict(X)"
   ]
  },
  {
   "cell_type": "code",
   "execution_count": 15,
   "metadata": {},
   "outputs": [
    {
     "data": {
      "text/plain": [
       "array([ -4.11355449, -15.30438064,  34.30612255,  -0.71574486,\n",
       "        10.57206503,  -0.26594138,   0.13497222,   2.8726782 ])"
      ]
     },
     "execution_count": 15,
     "metadata": {},
     "output_type": "execute_result"
    }
   ],
   "source": [
    "lr_yards.coef_"
   ]
  },
  {
   "cell_type": "code",
   "execution_count": 30,
   "metadata": {},
   "outputs": [],
   "source": [
    "residuals = predict_yards - y.values\n",
    "\n",
    "ar_yards = ARMA(residuals, (2,1)).fit()\n",
    "params = ar_yards.params"
   ]
  },
  {
   "cell_type": "code",
   "execution_count": 183,
   "metadata": {},
   "outputs": [],
   "source": [
    "df = df_2014.loc[df_2014['Week']==1]"
   ]
  },
  {
   "cell_type": "code",
   "execution_count": 188,
   "metadata": {},
   "outputs": [],
   "source": [
    "wk = [78.26,20,3,4,18,23,31,127.9]"
   ]
  },
  {
   "cell_type": "code",
   "execution_count": 226,
   "metadata": {},
   "outputs": [],
   "source": [
    "Xs = df[['Cmp%', 'TD', 'Int', 'Sack', 'Completions', 'Attempts','Sack_Yards', 'QBR']]\n",
    "y = df['Passing_Yards']"
   ]
  },
  {
   "cell_type": "code",
   "execution_count": 316,
   "metadata": {},
   "outputs": [],
   "source": [
    "y = ['Passing_Yards']\n",
    "X = ['Cmp%', 'TD', 'Int', 'Sack', 'Completions', 'Attempts','Sack_Yards', 'QBR']\n",
    "peyton_13 = df_2013[df_2013['QB_ID'] == '2013_Peyton Manning']\n",
    "X_peyton_13 = peyton_13[X]\n",
    "y_peyton_13 = peyton_13[y]"
   ]
  },
  {
   "cell_type": "markdown",
   "metadata": {},
   "source": [
    "list of every unique qb id\n"
   ]
  },
  {
   "cell_type": "code",
   "execution_count": 289,
   "metadata": {},
   "outputs": [],
   "source": [
    "peyton_13 = peyton_13.sort_values('G#')\n",
    "\n",
    "peyton_13.reset_index(inplace=True)"
   ]
  },
  {
   "cell_type": "code",
   "execution_count": 313,
   "metadata": {},
   "outputs": [
    {
     "data": {
      "text/html": [
       "<div>\n",
       "<style scoped>\n",
       "    .dataframe tbody tr th:only-of-type {\n",
       "        vertical-align: middle;\n",
       "    }\n",
       "\n",
       "    .dataframe tbody tr th {\n",
       "        vertical-align: top;\n",
       "    }\n",
       "\n",
       "    .dataframe thead th {\n",
       "        text-align: right;\n",
       "    }\n",
       "</style>\n",
       "<table border=\"1\" class=\"dataframe\">\n",
       "  <thead>\n",
       "    <tr style=\"text-align: right;\">\n",
       "      <th></th>\n",
       "      <th>Cmp%</th>\n",
       "      <th>TD</th>\n",
       "      <th>Int</th>\n",
       "      <th>Sack</th>\n",
       "      <th>Completions</th>\n",
       "      <th>Attempts</th>\n",
       "      <th>Sack_Yards</th>\n",
       "      <th>QBR</th>\n",
       "    </tr>\n",
       "  </thead>\n",
       "  <tbody>\n",
       "    <tr>\n",
       "      <th>0</th>\n",
       "      <td>64.29</td>\n",
       "      <td>7</td>\n",
       "      <td>0</td>\n",
       "      <td>3</td>\n",
       "      <td>27</td>\n",
       "      <td>42</td>\n",
       "      <td>17</td>\n",
       "      <td>141.1</td>\n",
       "    </tr>\n",
       "    <tr>\n",
       "      <th>1</th>\n",
       "      <td>69.77</td>\n",
       "      <td>2</td>\n",
       "      <td>0</td>\n",
       "      <td>0</td>\n",
       "      <td>30</td>\n",
       "      <td>43</td>\n",
       "      <td>0</td>\n",
       "      <td>105.5</td>\n",
       "    </tr>\n",
       "  </tbody>\n",
       "</table>\n",
       "</div>"
      ],
      "text/plain": [
       "    Cmp%  TD  Int  Sack  Completions  Attempts  Sack_Yards    QBR\n",
       "0  64.29   7    0     3           27        42          17  141.1\n",
       "1  69.77   2    0     0           30        43           0  105.5"
      ]
     },
     "execution_count": 313,
     "metadata": {},
     "output_type": "execute_result"
    }
   ],
   "source": [
    "week = 3\n",
    "w = week-1\n",
    "train = peyton_13[:w][X]\n",
    "train"
   ]
  },
  {
   "cell_type": "code",
   "execution_count": 348,
   "metadata": {},
   "outputs": [],
   "source": [
    "y_pred_peyton =  lr_yards.predict(train)"
   ]
  },
  {
   "cell_type": "code",
   "execution_count": 349,
   "metadata": {},
   "outputs": [
    {
     "data": {
      "text/plain": [
       "array([ 332.25375778,  315.26899881])"
      ]
     },
     "execution_count": 349,
     "metadata": {},
     "output_type": "execute_result"
    }
   ],
   "source": [
    "y_pred_peyton"
   ]
  },
  {
   "cell_type": "code",
   "execution_count": 355,
   "metadata": {},
   "outputs": [
    {
     "data": {
      "text/plain": [
       "array([ 129.74624222,   14.73100119])"
      ]
     },
     "execution_count": 355,
     "metadata": {},
     "output_type": "execute_result"
    }
   ],
   "source": [
    "np.array(y_peyton_13['Passing_Yards'][:w] - y_pred_peyton)"
   ]
  },
  {
   "cell_type": "code",
   "execution_count": 339,
   "metadata": {},
   "outputs": [
    {
     "data": {
      "text/plain": [
       "array([462, 330], dtype=int64)"
      ]
     },
     "execution_count": 339,
     "metadata": {},
     "output_type": "execute_result"
    }
   ],
   "source": [
    "y_peyton_13[:w].values.reshape(1,2).flatten()"
   ]
  },
  {
   "cell_type": "code",
   "execution_count": 343,
   "metadata": {},
   "outputs": [],
   "source": [
    "resid = y_pred_peyton - y_peyton_13[:w].values"
   ]
  },
  {
   "cell_type": "code",
   "execution_count": 268,
   "metadata": {},
   "outputs": [],
   "source": [
    "X = data[['Cmp%', 'TD', 'Int', 'Sack', 'Completions', 'Attempts','Sack_Yards', 'QBR']]\n",
    "y = data['Passing_Yards']\n",
    "lr_yards = LinearRegression()\n",
    "lr_yards.fit(X,y)\n",
    "predict_yards = lr_yards.predict(X)\n",
    "residuals = predict_yards - y.values\n",
    "ar_yards = ARMA(residuals, (4,1)).fit()"
   ]
  },
  {
   "cell_type": "code",
   "execution_count": 269,
   "metadata": {},
   "outputs": [],
   "source": [
    "def yard_projections(mstr_df,qb_id,week,lr_yards,ar_yards):\n",
    "    '''\n",
    "    mstr_df: Pandas DF; master df with all qbs in all years and all weeks\n",
    "    qb_id: string; the id of the QB you want to make a prediction\n",
    "    week: int, predicting week\n",
    "    lr_yards: linear regression model for yards\n",
    "    ar_yards: ARMA model object for yard residuals\n",
    "    \n",
    "    '''\n",
    "    ycol = ['Passing_Yards'] ## Target Variable\n",
    "    Xcols = ['Cmp%', 'TD', 'Int', 'Sack', 'Completions', 'Attempts','Sack_Yards', 'QBR'] ## predictors\n",
    "    ## create temp df for each QB by Year and week\n",
    "    ## then reset index\n",
    "    temp_df = mstr_df[mstr_df['QB_ID'] == qb_id]\n",
    "    temp_df = temp_df.sort_values('G#')\n",
    "    temp_df.reset_index(inplace=True)\n",
    "    X = temp_df[Xcols]\n",
    "    y = temp_df[ycol]\n",
    "    ## grabbing the weeks before the week specified\n",
    "    w = week-1\n",
    "    prev_weeks = temp_df[:w][Xcols]\n",
    "    y_pred = lr_yards.predict(prev_weeks)\n",
    "    resid = np.array(y[ycol][:w]).flatten()-y_pred\n",
    "    dates = temp_df.index\n",
    "    start = dates[w]\n",
    "    end = dates[w]\n",
    "    residual_prediction = ar_yards.predict(start=start, end=end)\n",
    "    pred_yds = residual_prediction + (y_pred.sum()/week)\n",
    "    return pred_yds"
   ]
  },
  {
   "cell_type": "code",
   "execution_count": 270,
   "metadata": {},
   "outputs": [],
   "source": [
    "X = data[['Cmp%', 'Passing_Yards', 'Int', 'Sack', 'Completions', 'Attempts','Sack_Yards', 'QBR']]\n",
    "y = data['TD']\n",
    "lr_TD = LinearRegression()\n",
    "lr_TD.fit(X,y)\n",
    "predict_TD = lr_TD.predict(X)\n",
    "residuals = predict_TD - y.values\n",
    "ar_TD = ARMA(residuals, (4,1)).fit()"
   ]
  },
  {
   "cell_type": "code",
   "execution_count": 271,
   "metadata": {},
   "outputs": [],
   "source": [
    "def TD_projections(mstr_df,qb_id,week,lr_TD,ar_TD):\n",
    "    '''\n",
    "    mstr_df: Pandas DF; master df with all qbs in all years and all weeks\n",
    "    qb_id: string; the id of the qq you want to make a prediction\n",
    "    week: int, predicting week\n",
    "    lr_yards: linear regression model for yards\n",
    "    ar_yards: ARMA model object for yard residuals\n",
    "    \n",
    "    '''\n",
    "    ycol = ['TD'] ## Target Variable\n",
    "    Xcols = ['Cmp%', 'Passing_Yards', 'Int', 'Sack', 'Completions', 'Attempts','Sack_Yards', 'QBR'] ## predictors\n",
    "    ## create temp df for each QB by Year and week\n",
    "    ## then reset index\n",
    "    temp_df = mstr_df[mstr_df['QB_ID'] == qb_id]\n",
    "    temp_df = temp_df.sort_values('G#')\n",
    "    temp_df.reset_index(inplace=True)\n",
    "    X = temp_df[Xcols]\n",
    "    y = temp_df[ycol]\n",
    "    ## grabbing the weeks before the week specified\n",
    "    w = week-1\n",
    "    prev_weeks = temp_df[:w][Xcols]\n",
    "    y_pred = lr_TD.predict(prev_weeks)\n",
    "    resid = np.array(y[ycol][:w]).flatten()-y_pred\n",
    "    dates = temp_df.index\n",
    "    start = dates[w]\n",
    "    end = dates[w]\n",
    "    residual_prediction = ar_TD.predict(start=start, end=end)\n",
    "    pred_TDs = residual_prediction + (y_pred.sum()/week)\n",
    "    return pred_TDs"
   ]
  },
  {
   "cell_type": "code",
   "execution_count": 272,
   "metadata": {},
   "outputs": [],
   "source": [
    "X = data[['Cmp%', 'Passing_Yards', 'TD', 'Sack', 'Completions', 'Attempts','Sack_Yards', 'QBR']]\n",
    "y = data['Int']\n",
    "lr_Int = LinearRegression()\n",
    "lr_Int.fit(X,y)\n",
    "predict_Int = lr_Int.predict(X)\n",
    "residuals = predict_Int - y.values\n",
    "ar_Int = ARMA(residuals, (4,1)).fit()"
   ]
  },
  {
   "cell_type": "code",
   "execution_count": 273,
   "metadata": {},
   "outputs": [],
   "source": [
    "def Int_projections(mstr_df,qb_id,week,lr_Int,ar_Int):\n",
    "    '''\n",
    "    mstr_df: Pandas DF; master df with all qbs in all years and all weeks\n",
    "    qb_id: string; the id of the qq you want to make a prediction\n",
    "    week: int, predicting week\n",
    "    lr_yards: linear regression model for yards\n",
    "    ar_yards: ARMA model object for yard residuals\n",
    "    \n",
    "    '''\n",
    "    ycol = ['Int'] ## Target Variable\n",
    "    Xcols = ['Cmp%', 'Passing_Yards', 'TD', 'Sack', 'Completions', 'Attempts','Sack_Yards', 'QBR'] ## predictors\n",
    "    ## create temp df for each QB by Year and week\n",
    "    ## then reset index\n",
    "    temp_df = mstr_df[mstr_df['QB_ID'] == qb_id]\n",
    "    temp_df = temp_df.sort_values('G#')\n",
    "    temp_df.reset_index(inplace=True)\n",
    "    X = temp_df[Xcols]\n",
    "    y = temp_df[ycol]\n",
    "    ## grabbing the weeks before the week specified\n",
    "    w = week-1\n",
    "    prev_weeks = temp_df[:w][Xcols]\n",
    "    y_pred = lr_Int.predict(prev_weeks)\n",
    "    resid = np.array(y[ycol][:w]).flatten()-y_pred\n",
    "    dates = temp_df.index\n",
    "    start = dates[w]\n",
    "    end = dates[w]\n",
    "    residual_prediction = ar_Int.predict(start=start, end=end)\n",
    "    pred_Ints = residual_prediction + (y_pred.sum()/week)\n",
    "    return pred_Ints"
   ]
  },
  {
   "cell_type": "markdown",
   "metadata": {},
   "source": [
    "## Predict week 4 for Peyton"
   ]
  },
  {
   "cell_type": "code",
   "execution_count": 274,
   "metadata": {},
   "outputs": [],
   "source": [
    "def Fantasy_Points_Calculator(QB_ID, week):\n",
    "    Fantasy_point_prediction = (((yard_projections(data, QB_ID, week, lr_yards, ar_yards))/25)\n",
    "    +((TD_projections(data, QB_ID, week, lr_TD, ar_TD))*6)\n",
    "    -((Int_projections(data, QB_ID, week, lr_Int, ar_Int))*2))\n",
    "    return Fantasy_point_prediction"
   ]
  },
  {
   "cell_type": "code",
   "execution_count": 275,
   "metadata": {},
   "outputs": [
    {
     "data": {
      "text/plain": [
       "array([ 25.4200732])"
      ]
     },
     "execution_count": 275,
     "metadata": {},
     "output_type": "execute_result"
    }
   ],
   "source": [
    "Fantasy_Points_Calculator('2014_Peyton Manning', 12)"
   ]
  },
  {
   "cell_type": "code",
   "execution_count": 282,
   "metadata": {},
   "outputs": [],
   "source": [
    "QB_2017 = df_2017['QB_ID'].unique()"
   ]
  },
  {
   "cell_type": "code",
   "execution_count": null,
   "metadata": {},
   "outputs": [],
   "source": []
  },
  {
   "cell_type": "code",
   "execution_count": 283,
   "metadata": {},
   "outputs": [
    {
     "ename": "ValueError",
     "evalue": "Lengths must match to compare",
     "output_type": "error",
     "traceback": [
      "\u001b[1;31m---------------------------------------------------------------------------\u001b[0m",
      "\u001b[1;31mValueError\u001b[0m                                Traceback (most recent call last)",
      "\u001b[1;32m<ipython-input-283-781db158129c>\u001b[0m in \u001b[0;36m<module>\u001b[1;34m()\u001b[0m\n\u001b[1;32m----> 1\u001b[1;33m \u001b[0mWeek_15_projections\u001b[0m \u001b[1;33m=\u001b[0m \u001b[0mFantasy_Points_Calculator\u001b[0m\u001b[1;33m(\u001b[0m\u001b[0mQB_2017\u001b[0m\u001b[1;33m,\u001b[0m \u001b[1;36m15\u001b[0m\u001b[1;33m)\u001b[0m\u001b[1;33m\u001b[0m\u001b[0m\n\u001b[0m",
      "\u001b[1;32m<ipython-input-274-16ff7fbf6c86>\u001b[0m in \u001b[0;36mFantasy_Points_Calculator\u001b[1;34m(QB_ID, week)\u001b[0m\n\u001b[0;32m      2\u001b[0m     Fantasy_point_prediction = (((yard_projections(data, QB_ID, week, lr_yards, ar_yards))/25)\n\u001b[0;32m      3\u001b[0m     \u001b[1;33m+\u001b[0m\u001b[1;33m(\u001b[0m\u001b[1;33m(\u001b[0m\u001b[0mTD_projections\u001b[0m\u001b[1;33m(\u001b[0m\u001b[0mdata\u001b[0m\u001b[1;33m,\u001b[0m \u001b[0mQB_ID\u001b[0m\u001b[1;33m,\u001b[0m \u001b[0mweek\u001b[0m\u001b[1;33m,\u001b[0m \u001b[0mlr_TD\u001b[0m\u001b[1;33m,\u001b[0m \u001b[0mar_TD\u001b[0m\u001b[1;33m)\u001b[0m\u001b[1;33m)\u001b[0m\u001b[1;33m*\u001b[0m\u001b[1;36m6\u001b[0m\u001b[1;33m)\u001b[0m\u001b[1;33m\u001b[0m\u001b[0m\n\u001b[1;32m----> 4\u001b[1;33m     -((Int_projections(data, QB_ID, week, lr_Int, ar_Int))*2))\n\u001b[0m\u001b[0;32m      5\u001b[0m     \u001b[1;32mreturn\u001b[0m \u001b[0mFantasy_point_prediction\u001b[0m\u001b[1;33m\u001b[0m\u001b[0m\n",
      "\u001b[1;32m<ipython-input-269-203699d8edd9>\u001b[0m in \u001b[0;36myard_projections\u001b[1;34m(mstr_df, qb_id, week, lr_yards, ar_yards)\u001b[0m\n\u001b[0;32m     12\u001b[0m     \u001b[1;31m## create temp df for each QB by Year and week\u001b[0m\u001b[1;33m\u001b[0m\u001b[1;33m\u001b[0m\u001b[0m\n\u001b[0;32m     13\u001b[0m     \u001b[1;31m## then reset index\u001b[0m\u001b[1;33m\u001b[0m\u001b[1;33m\u001b[0m\u001b[0m\n\u001b[1;32m---> 14\u001b[1;33m     \u001b[0mtemp_df\u001b[0m \u001b[1;33m=\u001b[0m \u001b[0mmstr_df\u001b[0m\u001b[1;33m[\u001b[0m\u001b[0mmstr_df\u001b[0m\u001b[1;33m[\u001b[0m\u001b[1;34m'QB_ID'\u001b[0m\u001b[1;33m]\u001b[0m \u001b[1;33m==\u001b[0m \u001b[0mqb_id\u001b[0m\u001b[1;33m]\u001b[0m\u001b[1;33m\u001b[0m\u001b[0m\n\u001b[0m\u001b[0;32m     15\u001b[0m     \u001b[0mtemp_df\u001b[0m \u001b[1;33m=\u001b[0m \u001b[0mtemp_df\u001b[0m\u001b[1;33m.\u001b[0m\u001b[0msort_values\u001b[0m\u001b[1;33m(\u001b[0m\u001b[1;34m'G#'\u001b[0m\u001b[1;33m)\u001b[0m\u001b[1;33m\u001b[0m\u001b[0m\n\u001b[0;32m     16\u001b[0m     \u001b[0mtemp_df\u001b[0m\u001b[1;33m.\u001b[0m\u001b[0mreset_index\u001b[0m\u001b[1;33m(\u001b[0m\u001b[0minplace\u001b[0m\u001b[1;33m=\u001b[0m\u001b[1;32mTrue\u001b[0m\u001b[1;33m)\u001b[0m\u001b[1;33m\u001b[0m\u001b[0m\n",
      "\u001b[1;32m~\\Anaconda3\\lib\\site-packages\\pandas\\core\\ops.py\u001b[0m in \u001b[0;36mwrapper\u001b[1;34m(self, other, axis)\u001b[0m\n\u001b[0;32m    844\u001b[0m             if (not is_scalar(lib.item_from_zerodim(other)) and\n\u001b[0;32m    845\u001b[0m                     len(self) != len(other)):\n\u001b[1;32m--> 846\u001b[1;33m                 \u001b[1;32mraise\u001b[0m \u001b[0mValueError\u001b[0m\u001b[1;33m(\u001b[0m\u001b[1;34m'Lengths must match to compare'\u001b[0m\u001b[1;33m)\u001b[0m\u001b[1;33m\u001b[0m\u001b[0m\n\u001b[0m\u001b[0;32m    847\u001b[0m \u001b[1;33m\u001b[0m\u001b[0m\n\u001b[0;32m    848\u001b[0m             \u001b[1;32mif\u001b[0m \u001b[0misinstance\u001b[0m\u001b[1;33m(\u001b[0m\u001b[0mother\u001b[0m\u001b[1;33m,\u001b[0m \u001b[0mABCPeriodIndex\u001b[0m\u001b[1;33m)\u001b[0m\u001b[1;33m:\u001b[0m\u001b[1;33m\u001b[0m\u001b[0m\n",
      "\u001b[1;31mValueError\u001b[0m: Lengths must match to compare"
     ]
    }
   ],
   "source": [
    "Week_15_projections = Fantasy_Points_Calculator(QB_2017, 15)"
   ]
  },
  {
   "cell_type": "code",
   "execution_count": null,
   "metadata": {},
   "outputs": [],
   "source": []
  },
  {
   "cell_type": "code",
   "execution_count": 220,
   "metadata": {
    "scrolled": true
   },
   "outputs": [],
   "source": [
    "yards = yard_projections(data, '2014_Peyton Manning', 2, lr_yards, ar_yards)\n",
    "TD = TD_projections(data, '2014_Peyton Manning', 2, lr_TD, ar_TD)\n",
    "Ints = Int_projections(data, '2014_Peyton Manning', 2, lr_Int, ar_Int)"
   ]
  },
  {
   "cell_type": "code",
   "execution_count": null,
   "metadata": {},
   "outputs": [],
   "source": []
  },
  {
   "cell_type": "code",
   "execution_count": 128,
   "metadata": {},
   "outputs": [
    {
     "data": {
      "text/html": [
       "<div>\n",
       "<style scoped>\n",
       "    .dataframe tbody tr th:only-of-type {\n",
       "        vertical-align: middle;\n",
       "    }\n",
       "\n",
       "    .dataframe tbody tr th {\n",
       "        vertical-align: top;\n",
       "    }\n",
       "\n",
       "    .dataframe thead th {\n",
       "        text-align: right;\n",
       "    }\n",
       "</style>\n",
       "<table border=\"1\" class=\"dataframe\">\n",
       "  <thead>\n",
       "    <tr style=\"text-align: right;\">\n",
       "      <th></th>\n",
       "      <th>Age</th>\n",
       "      <th>Date</th>\n",
       "      <th>Tm</th>\n",
       "      <th>Opp</th>\n",
       "      <th>Result</th>\n",
       "      <th>G#</th>\n",
       "      <th>Week</th>\n",
       "      <th>Day</th>\n",
       "      <th>Cmp%</th>\n",
       "      <th>TD</th>\n",
       "      <th>...</th>\n",
       "      <th>QBR</th>\n",
       "      <th>Yds_Per_Attempt</th>\n",
       "      <th>Adj_Yd_Per_Attempt</th>\n",
       "      <th>Year</th>\n",
       "      <th>Month</th>\n",
       "      <th>Name</th>\n",
       "      <th>Home_Away</th>\n",
       "      <th>Home_Team</th>\n",
       "      <th>QB_ID</th>\n",
       "      <th>Fantasy_Points</th>\n",
       "    </tr>\n",
       "  </thead>\n",
       "  <tbody>\n",
       "    <tr>\n",
       "      <th>599</th>\n",
       "      <td>38-167</td>\n",
       "      <td>2014-09-07</td>\n",
       "      <td>DEN</td>\n",
       "      <td>IND</td>\n",
       "      <td>W 31-24</td>\n",
       "      <td>1</td>\n",
       "      <td>1</td>\n",
       "      <td>Sun</td>\n",
       "      <td>61.11</td>\n",
       "      <td>3</td>\n",
       "      <td>...</td>\n",
       "      <td>111.9</td>\n",
       "      <td>7.47</td>\n",
       "      <td>9.14</td>\n",
       "      <td>2014</td>\n",
       "      <td>9</td>\n",
       "      <td>Peyton Manning</td>\n",
       "      <td>Home</td>\n",
       "      <td>1</td>\n",
       "      <td>2014_Peyton Manning</td>\n",
       "      <td>28.76</td>\n",
       "    </tr>\n",
       "    <tr>\n",
       "      <th>634</th>\n",
       "      <td>38-230</td>\n",
       "      <td>2014-11-09</td>\n",
       "      <td>DEN</td>\n",
       "      <td>OAK</td>\n",
       "      <td>W 41-17</td>\n",
       "      <td>9</td>\n",
       "      <td>10</td>\n",
       "      <td>Sun</td>\n",
       "      <td>70.45</td>\n",
       "      <td>5</td>\n",
       "      <td>...</td>\n",
       "      <td>111.9</td>\n",
       "      <td>7.73</td>\n",
       "      <td>7.95</td>\n",
       "      <td>2014</td>\n",
       "      <td>11</td>\n",
       "      <td>Peyton Manning</td>\n",
       "      <td>Away</td>\n",
       "      <td>0</td>\n",
       "      <td>2014_Peyton Manning</td>\n",
       "      <td>39.60</td>\n",
       "    </tr>\n",
       "    <tr>\n",
       "      <th>685</th>\n",
       "      <td>38-237</td>\n",
       "      <td>2014-11-16</td>\n",
       "      <td>DEN</td>\n",
       "      <td>STL</td>\n",
       "      <td>L 7-22</td>\n",
       "      <td>10</td>\n",
       "      <td>11</td>\n",
       "      <td>Sun</td>\n",
       "      <td>62.96</td>\n",
       "      <td>1</td>\n",
       "      <td>...</td>\n",
       "      <td>75.3</td>\n",
       "      <td>7.20</td>\n",
       "      <td>5.91</td>\n",
       "      <td>2014</td>\n",
       "      <td>11</td>\n",
       "      <td>Peyton Manning</td>\n",
       "      <td>Away</td>\n",
       "      <td>0</td>\n",
       "      <td>2014_Peyton Manning</td>\n",
       "      <td>17.56</td>\n",
       "    </tr>\n",
       "    <tr>\n",
       "      <th>694</th>\n",
       "      <td>38-244</td>\n",
       "      <td>2014-11-23</td>\n",
       "      <td>DEN</td>\n",
       "      <td>MIA</td>\n",
       "      <td>W 39-36</td>\n",
       "      <td>11</td>\n",
       "      <td>12</td>\n",
       "      <td>Sun</td>\n",
       "      <td>80.00</td>\n",
       "      <td>4</td>\n",
       "      <td>...</td>\n",
       "      <td>135.4</td>\n",
       "      <td>7.34</td>\n",
       "      <td>9.63</td>\n",
       "      <td>2014</td>\n",
       "      <td>11</td>\n",
       "      <td>Peyton Manning</td>\n",
       "      <td>Home</td>\n",
       "      <td>1</td>\n",
       "      <td>2014_Peyton Manning</td>\n",
       "      <td>34.28</td>\n",
       "    </tr>\n",
       "    <tr>\n",
       "      <th>746</th>\n",
       "      <td>38-251</td>\n",
       "      <td>2014-11-30</td>\n",
       "      <td>DEN</td>\n",
       "      <td>KAN</td>\n",
       "      <td>W 29-16</td>\n",
       "      <td>12</td>\n",
       "      <td>13</td>\n",
       "      <td>Sun</td>\n",
       "      <td>50.00</td>\n",
       "      <td>2</td>\n",
       "      <td>...</td>\n",
       "      <td>85.3</td>\n",
       "      <td>5.26</td>\n",
       "      <td>6.44</td>\n",
       "      <td>2014</td>\n",
       "      <td>11</td>\n",
       "      <td>Peyton Manning</td>\n",
       "      <td>Away</td>\n",
       "      <td>0</td>\n",
       "      <td>2014_Peyton Manning</td>\n",
       "      <td>19.16</td>\n",
       "    </tr>\n",
       "    <tr>\n",
       "      <th>793</th>\n",
       "      <td>38-258</td>\n",
       "      <td>2014-12-07</td>\n",
       "      <td>DEN</td>\n",
       "      <td>BUF</td>\n",
       "      <td>W 24-17</td>\n",
       "      <td>13</td>\n",
       "      <td>14</td>\n",
       "      <td>Sun</td>\n",
       "      <td>70.00</td>\n",
       "      <td>0</td>\n",
       "      <td>...</td>\n",
       "      <td>56.9</td>\n",
       "      <td>8.65</td>\n",
       "      <td>4.15</td>\n",
       "      <td>2014</td>\n",
       "      <td>12</td>\n",
       "      <td>Peyton Manning</td>\n",
       "      <td>Home</td>\n",
       "      <td>1</td>\n",
       "      <td>2014_Peyton Manning</td>\n",
       "      <td>2.92</td>\n",
       "    </tr>\n",
       "    <tr>\n",
       "      <th>802</th>\n",
       "      <td>38-265</td>\n",
       "      <td>2014-12-14</td>\n",
       "      <td>DEN</td>\n",
       "      <td>SDG</td>\n",
       "      <td>W 22-10</td>\n",
       "      <td>14</td>\n",
       "      <td>15</td>\n",
       "      <td>Sun</td>\n",
       "      <td>70.00</td>\n",
       "      <td>1</td>\n",
       "      <td>...</td>\n",
       "      <td>125.6</td>\n",
       "      <td>11.65</td>\n",
       "      <td>12.65</td>\n",
       "      <td>2014</td>\n",
       "      <td>12</td>\n",
       "      <td>Peyton Manning</td>\n",
       "      <td>Away</td>\n",
       "      <td>0</td>\n",
       "      <td>2014_Peyton Manning</td>\n",
       "      <td>15.32</td>\n",
       "    </tr>\n",
       "    <tr>\n",
       "      <th>870</th>\n",
       "      <td>38-273</td>\n",
       "      <td>2014-12-22</td>\n",
       "      <td>DEN</td>\n",
       "      <td>CIN</td>\n",
       "      <td>L 28-37</td>\n",
       "      <td>15</td>\n",
       "      <td>16</td>\n",
       "      <td>Mon</td>\n",
       "      <td>63.64</td>\n",
       "      <td>2</td>\n",
       "      <td>...</td>\n",
       "      <td>61.8</td>\n",
       "      <td>7.07</td>\n",
       "      <td>3.89</td>\n",
       "      <td>2014</td>\n",
       "      <td>12</td>\n",
       "      <td>Peyton Manning</td>\n",
       "      <td>Away</td>\n",
       "      <td>0</td>\n",
       "      <td>2014_Peyton Manning</td>\n",
       "      <td>16.44</td>\n",
       "    </tr>\n",
       "    <tr>\n",
       "      <th>901</th>\n",
       "      <td>38-279</td>\n",
       "      <td>2014-12-28</td>\n",
       "      <td>DEN</td>\n",
       "      <td>OAK</td>\n",
       "      <td>W 47-14</td>\n",
       "      <td>16</td>\n",
       "      <td>17</td>\n",
       "      <td>Sun</td>\n",
       "      <td>56.76</td>\n",
       "      <td>0</td>\n",
       "      <td>...</td>\n",
       "      <td>80.1</td>\n",
       "      <td>7.38</td>\n",
       "      <td>7.38</td>\n",
       "      <td>2014</td>\n",
       "      <td>12</td>\n",
       "      <td>Peyton Manning</td>\n",
       "      <td>Home</td>\n",
       "      <td>1</td>\n",
       "      <td>2014_Peyton Manning</td>\n",
       "      <td>10.92</td>\n",
       "    </tr>\n",
       "    <tr>\n",
       "      <th>922</th>\n",
       "      <td>38-174</td>\n",
       "      <td>2014-09-14</td>\n",
       "      <td>DEN</td>\n",
       "      <td>KAN</td>\n",
       "      <td>W 24-17</td>\n",
       "      <td>2</td>\n",
       "      <td>2</td>\n",
       "      <td>Sun</td>\n",
       "      <td>80.77</td>\n",
       "      <td>3</td>\n",
       "      <td>...</td>\n",
       "      <td>143.9</td>\n",
       "      <td>9.31</td>\n",
       "      <td>11.62</td>\n",
       "      <td>2014</td>\n",
       "      <td>9</td>\n",
       "      <td>Peyton Manning</td>\n",
       "      <td>Home</td>\n",
       "      <td>1</td>\n",
       "      <td>2014_Peyton Manning</td>\n",
       "      <td>27.68</td>\n",
       "    </tr>\n",
       "    <tr>\n",
       "      <th>982</th>\n",
       "      <td>38-181</td>\n",
       "      <td>2014-09-21</td>\n",
       "      <td>DEN</td>\n",
       "      <td>SEA</td>\n",
       "      <td>L 20-26</td>\n",
       "      <td>3</td>\n",
       "      <td>3</td>\n",
       "      <td>Sun</td>\n",
       "      <td>63.27</td>\n",
       "      <td>2</td>\n",
       "      <td>...</td>\n",
       "      <td>85.7</td>\n",
       "      <td>6.18</td>\n",
       "      <td>6.08</td>\n",
       "      <td>2014</td>\n",
       "      <td>9</td>\n",
       "      <td>Peyton Manning</td>\n",
       "      <td>Away</td>\n",
       "      <td>0</td>\n",
       "      <td>2014_Peyton Manning</td>\n",
       "      <td>22.12</td>\n",
       "    </tr>\n",
       "    <tr>\n",
       "      <th>1041</th>\n",
       "      <td>38-195</td>\n",
       "      <td>2014-10-05</td>\n",
       "      <td>DEN</td>\n",
       "      <td>ARI</td>\n",
       "      <td>W 41-20</td>\n",
       "      <td>4</td>\n",
       "      <td>5</td>\n",
       "      <td>Sun</td>\n",
       "      <td>65.96</td>\n",
       "      <td>4</td>\n",
       "      <td>...</td>\n",
       "      <td>110.2</td>\n",
       "      <td>10.19</td>\n",
       "      <td>9.98</td>\n",
       "      <td>2014</td>\n",
       "      <td>10</td>\n",
       "      <td>Peyton Manning</td>\n",
       "      <td>Home</td>\n",
       "      <td>1</td>\n",
       "      <td>2014_Peyton Manning</td>\n",
       "      <td>39.16</td>\n",
       "    </tr>\n",
       "    <tr>\n",
       "      <th>1074</th>\n",
       "      <td>38-202</td>\n",
       "      <td>2014-10-12</td>\n",
       "      <td>DEN</td>\n",
       "      <td>NYJ</td>\n",
       "      <td>W 31-17</td>\n",
       "      <td>5</td>\n",
       "      <td>6</td>\n",
       "      <td>Sun</td>\n",
       "      <td>66.67</td>\n",
       "      <td>3</td>\n",
       "      <td>...</td>\n",
       "      <td>117.9</td>\n",
       "      <td>7.18</td>\n",
       "      <td>9.00</td>\n",
       "      <td>2014</td>\n",
       "      <td>10</td>\n",
       "      <td>Peyton Manning</td>\n",
       "      <td>Away</td>\n",
       "      <td>0</td>\n",
       "      <td>2014_Peyton Manning</td>\n",
       "      <td>27.48</td>\n",
       "    </tr>\n",
       "    <tr>\n",
       "      <th>1102</th>\n",
       "      <td>38-209</td>\n",
       "      <td>2014-10-19</td>\n",
       "      <td>DEN</td>\n",
       "      <td>SFO</td>\n",
       "      <td>W 42-17</td>\n",
       "      <td>6</td>\n",
       "      <td>7</td>\n",
       "      <td>Sun</td>\n",
       "      <td>84.62</td>\n",
       "      <td>4</td>\n",
       "      <td>...</td>\n",
       "      <td>157.2</td>\n",
       "      <td>12.23</td>\n",
       "      <td>15.31</td>\n",
       "      <td>2014</td>\n",
       "      <td>10</td>\n",
       "      <td>Peyton Manning</td>\n",
       "      <td>Home</td>\n",
       "      <td>1</td>\n",
       "      <td>2014_Peyton Manning</td>\n",
       "      <td>36.72</td>\n",
       "    </tr>\n",
       "    <tr>\n",
       "      <th>1144</th>\n",
       "      <td>38-213</td>\n",
       "      <td>2014-10-23</td>\n",
       "      <td>DEN</td>\n",
       "      <td>SDG</td>\n",
       "      <td>W 35-21</td>\n",
       "      <td>7</td>\n",
       "      <td>8</td>\n",
       "      <td>Thu</td>\n",
       "      <td>71.43</td>\n",
       "      <td>3</td>\n",
       "      <td>...</td>\n",
       "      <td>124.2</td>\n",
       "      <td>8.17</td>\n",
       "      <td>9.89</td>\n",
       "      <td>2014</td>\n",
       "      <td>10</td>\n",
       "      <td>Peyton Manning</td>\n",
       "      <td>Home</td>\n",
       "      <td>1</td>\n",
       "      <td>2014_Peyton Manning</td>\n",
       "      <td>29.44</td>\n",
       "    </tr>\n",
       "    <tr>\n",
       "      <th>1194</th>\n",
       "      <td>38-223</td>\n",
       "      <td>2014-11-02</td>\n",
       "      <td>DEN</td>\n",
       "      <td>NWE</td>\n",
       "      <td>L 21-43</td>\n",
       "      <td>8</td>\n",
       "      <td>9</td>\n",
       "      <td>Sun</td>\n",
       "      <td>59.65</td>\n",
       "      <td>2</td>\n",
       "      <td>...</td>\n",
       "      <td>80.9</td>\n",
       "      <td>7.68</td>\n",
       "      <td>6.81</td>\n",
       "      <td>2014</td>\n",
       "      <td>11</td>\n",
       "      <td>Peyton Manning</td>\n",
       "      <td>Away</td>\n",
       "      <td>0</td>\n",
       "      <td>2014_Peyton Manning</td>\n",
       "      <td>25.52</td>\n",
       "    </tr>\n",
       "  </tbody>\n",
       "</table>\n",
       "<p>16 rows × 27 columns</p>\n",
       "</div>"
      ],
      "text/plain": [
       "         Age        Date   Tm  Opp   Result  G#  Week  Day   Cmp%  TD  \\\n",
       "599   38-167  2014-09-07  DEN  IND  W 31-24   1     1  Sun  61.11   3   \n",
       "634   38-230  2014-11-09  DEN  OAK  W 41-17   9    10  Sun  70.45   5   \n",
       "685   38-237  2014-11-16  DEN  STL   L 7-22  10    11  Sun  62.96   1   \n",
       "694   38-244  2014-11-23  DEN  MIA  W 39-36  11    12  Sun  80.00   4   \n",
       "746   38-251  2014-11-30  DEN  KAN  W 29-16  12    13  Sun  50.00   2   \n",
       "793   38-258  2014-12-07  DEN  BUF  W 24-17  13    14  Sun  70.00   0   \n",
       "802   38-265  2014-12-14  DEN  SDG  W 22-10  14    15  Sun  70.00   1   \n",
       "870   38-273  2014-12-22  DEN  CIN  L 28-37  15    16  Mon  63.64   2   \n",
       "901   38-279  2014-12-28  DEN  OAK  W 47-14  16    17  Sun  56.76   0   \n",
       "922   38-174  2014-09-14  DEN  KAN  W 24-17   2     2  Sun  80.77   3   \n",
       "982   38-181  2014-09-21  DEN  SEA  L 20-26   3     3  Sun  63.27   2   \n",
       "1041  38-195  2014-10-05  DEN  ARI  W 41-20   4     5  Sun  65.96   4   \n",
       "1074  38-202  2014-10-12  DEN  NYJ  W 31-17   5     6  Sun  66.67   3   \n",
       "1102  38-209  2014-10-19  DEN  SFO  W 42-17   6     7  Sun  84.62   4   \n",
       "1144  38-213  2014-10-23  DEN  SDG  W 35-21   7     8  Thu  71.43   3   \n",
       "1194  38-223  2014-11-02  DEN  NWE  L 21-43   8     9  Sun  59.65   2   \n",
       "\n",
       "           ...          QBR  Yds_Per_Attempt  Adj_Yd_Per_Attempt  Year  Month  \\\n",
       "599        ...        111.9             7.47                9.14  2014      9   \n",
       "634        ...        111.9             7.73                7.95  2014     11   \n",
       "685        ...         75.3             7.20                5.91  2014     11   \n",
       "694        ...        135.4             7.34                9.63  2014     11   \n",
       "746        ...         85.3             5.26                6.44  2014     11   \n",
       "793        ...         56.9             8.65                4.15  2014     12   \n",
       "802        ...        125.6            11.65               12.65  2014     12   \n",
       "870        ...         61.8             7.07                3.89  2014     12   \n",
       "901        ...         80.1             7.38                7.38  2014     12   \n",
       "922        ...        143.9             9.31               11.62  2014      9   \n",
       "982        ...         85.7             6.18                6.08  2014      9   \n",
       "1041       ...        110.2            10.19                9.98  2014     10   \n",
       "1074       ...        117.9             7.18                9.00  2014     10   \n",
       "1102       ...        157.2            12.23               15.31  2014     10   \n",
       "1144       ...        124.2             8.17                9.89  2014     10   \n",
       "1194       ...         80.9             7.68                6.81  2014     11   \n",
       "\n",
       "                Name  Home_Away  Home_Team                QB_ID  \\\n",
       "599   Peyton Manning       Home          1  2014_Peyton Manning   \n",
       "634   Peyton Manning       Away          0  2014_Peyton Manning   \n",
       "685   Peyton Manning       Away          0  2014_Peyton Manning   \n",
       "694   Peyton Manning       Home          1  2014_Peyton Manning   \n",
       "746   Peyton Manning       Away          0  2014_Peyton Manning   \n",
       "793   Peyton Manning       Home          1  2014_Peyton Manning   \n",
       "802   Peyton Manning       Away          0  2014_Peyton Manning   \n",
       "870   Peyton Manning       Away          0  2014_Peyton Manning   \n",
       "901   Peyton Manning       Home          1  2014_Peyton Manning   \n",
       "922   Peyton Manning       Home          1  2014_Peyton Manning   \n",
       "982   Peyton Manning       Away          0  2014_Peyton Manning   \n",
       "1041  Peyton Manning       Home          1  2014_Peyton Manning   \n",
       "1074  Peyton Manning       Away          0  2014_Peyton Manning   \n",
       "1102  Peyton Manning       Home          1  2014_Peyton Manning   \n",
       "1144  Peyton Manning       Home          1  2014_Peyton Manning   \n",
       "1194  Peyton Manning       Away          0  2014_Peyton Manning   \n",
       "\n",
       "      Fantasy_Points  \n",
       "599            28.76  \n",
       "634            39.60  \n",
       "685            17.56  \n",
       "694            34.28  \n",
       "746            19.16  \n",
       "793             2.92  \n",
       "802            15.32  \n",
       "870            16.44  \n",
       "901            10.92  \n",
       "922            27.68  \n",
       "982            22.12  \n",
       "1041           39.16  \n",
       "1074           27.48  \n",
       "1102           36.72  \n",
       "1144           29.44  \n",
       "1194           25.52  \n",
       "\n",
       "[16 rows x 27 columns]"
      ]
     },
     "execution_count": 128,
     "metadata": {},
     "output_type": "execute_result"
    }
   ],
   "source": [
    "data.loc[data['QB_ID']=='2014_Peyton Manning']"
   ]
  },
  {
   "cell_type": "code",
   "execution_count": 97,
   "metadata": {},
   "outputs": [
    {
     "data": {
      "text/plain": [
       "599     269\n",
       "634     340\n",
       "685     389\n",
       "694     257\n",
       "746     179\n",
       "793     173\n",
       "802     233\n",
       "870     311\n",
       "901     273\n",
       "922     242\n",
       "982     303\n",
       "1041    479\n",
       "1074    237\n",
       "1102    318\n",
       "1144    286\n",
       "1194    438\n",
       "Name: Passing_Yards, dtype: int64"
      ]
     },
     "execution_count": 97,
     "metadata": {},
     "output_type": "execute_result"
    }
   ],
   "source": [
    "data['Passing_Yards'].loc[data['QB_ID']=='2014_Peyton Manning']"
   ]
  },
  {
   "cell_type": "code",
   "execution_count": 74,
   "metadata": {},
   "outputs": [
    {
     "data": {
      "text/plain": [
       "0    462\n",
       "Name: Passing_Yards, dtype: int64"
      ]
     },
     "execution_count": 74,
     "metadata": {},
     "output_type": "execute_result"
    }
   ],
   "source": [
    "data['Passing_Yards'][]"
   ]
  },
  {
   "cell_type": "code",
   "execution_count": 242,
   "metadata": {},
   "outputs": [],
   "source": [
    "p_13_hat = lr_yards.predict(peyton_13)"
   ]
  },
  {
   "cell_type": "code",
   "execution_count": 243,
   "metadata": {},
   "outputs": [
    {
     "data": {
      "text/plain": [
       "array([ 332.25375778,  321.20055572,  275.37970925,  205.20029177,\n",
       "        320.42678748,  397.25766565,  297.78777995,  354.3627831 ,\n",
       "        271.76038609,  315.26899881,  340.52211455,  330.59862009,\n",
       "        383.98076174,  305.25320622,  338.63383161,  362.27231315])"
      ]
     },
     "execution_count": 243,
     "metadata": {},
     "output_type": "execute_result"
    }
   ],
   "source": [
    "p_13_hat"
   ]
  },
  {
   "cell_type": "code",
   "execution_count": 252,
   "metadata": {},
   "outputs": [
    {
     "data": {
      "text/html": [
       "<div>\n",
       "<style scoped>\n",
       "    .dataframe tbody tr th:only-of-type {\n",
       "        vertical-align: middle;\n",
       "    }\n",
       "\n",
       "    .dataframe tbody tr th {\n",
       "        vertical-align: top;\n",
       "    }\n",
       "\n",
       "    .dataframe thead th {\n",
       "        text-align: right;\n",
       "    }\n",
       "</style>\n",
       "<table border=\"1\" class=\"dataframe\">\n",
       "  <thead>\n",
       "    <tr style=\"text-align: right;\">\n",
       "      <th></th>\n",
       "      <th>Cmp%</th>\n",
       "      <th>TD</th>\n",
       "      <th>Int</th>\n",
       "      <th>Sack</th>\n",
       "      <th>Completions</th>\n",
       "      <th>Attempts</th>\n",
       "      <th>Sack_Yards</th>\n",
       "      <th>QBR</th>\n",
       "    </tr>\n",
       "  </thead>\n",
       "  <tbody>\n",
       "    <tr>\n",
       "      <th>0</th>\n",
       "      <td>64.29</td>\n",
       "      <td>7</td>\n",
       "      <td>0</td>\n",
       "      <td>3</td>\n",
       "      <td>27</td>\n",
       "      <td>42</td>\n",
       "      <td>17</td>\n",
       "      <td>141.1</td>\n",
       "    </tr>\n",
       "    <tr>\n",
       "      <th>37</th>\n",
       "      <td>69.44</td>\n",
       "      <td>4</td>\n",
       "      <td>0</td>\n",
       "      <td>2</td>\n",
       "      <td>25</td>\n",
       "      <td>36</td>\n",
       "      <td>17</td>\n",
       "      <td>135.2</td>\n",
       "    </tr>\n",
       "    <tr>\n",
       "      <th>78</th>\n",
       "      <td>60.00</td>\n",
       "      <td>1</td>\n",
       "      <td>0</td>\n",
       "      <td>0</td>\n",
       "      <td>24</td>\n",
       "      <td>40</td>\n",
       "      <td>0</td>\n",
       "      <td>94.1</td>\n",
       "    </tr>\n",
       "    <tr>\n",
       "      <th>127</th>\n",
       "      <td>52.78</td>\n",
       "      <td>2</td>\n",
       "      <td>1</td>\n",
       "      <td>2</td>\n",
       "      <td>19</td>\n",
       "      <td>36</td>\n",
       "      <td>18</td>\n",
       "      <td>70.4</td>\n",
       "    </tr>\n",
       "    <tr>\n",
       "      <th>141</th>\n",
       "      <td>62.86</td>\n",
       "      <td>5</td>\n",
       "      <td>2</td>\n",
       "      <td>0</td>\n",
       "      <td>22</td>\n",
       "      <td>35</td>\n",
       "      <td>0</td>\n",
       "      <td>118.2</td>\n",
       "    </tr>\n",
       "  </tbody>\n",
       "</table>\n",
       "</div>"
      ],
      "text/plain": [
       "      Cmp%  TD  Int  Sack  Completions  Attempts  Sack_Yards    QBR\n",
       "0    64.29   7    0     3           27        42          17  141.1\n",
       "37   69.44   4    0     2           25        36          17  135.2\n",
       "78   60.00   1    0     0           24        40           0   94.1\n",
       "127  52.78   2    1     2           19        36          18   70.4\n",
       "141  62.86   5    2     0           22        35           0  118.2"
      ]
     },
     "execution_count": 252,
     "metadata": {},
     "output_type": "execute_result"
    }
   ],
   "source": [
    "peyton_13.head()"
   ]
  },
  {
   "cell_type": "code",
   "execution_count": 280,
   "metadata": {},
   "outputs": [],
   "source": [
    "## Break Down By Week\n",
    "Week1_df = data.loc[data['Week']==1]\n",
    "Week2_df = data.loc[data['Week']==2]\n",
    "Week3_df = data.loc[data['Week']==3]\n",
    "Week4_df = data.loc[data['Week']==4]\n",
    "Week5_df = data.loc[data['Week']==5]\n",
    "Week6_df = data.loc[data['Week']==6]\n",
    "Week7_df = data.loc[data['Week']==7]\n",
    "Week8_df = data.loc[data['Week']==8]\n",
    "Week9_df = data.loc[data['Week']==9]\n",
    "Week10_df = data.loc[data['Week']==10]\n",
    "Week11_df = data.loc[data['Week']==11]\n",
    "Week12_df = data.loc[data['Week']==12]\n",
    "Week13_df = data.loc[data['Week']==13]\n",
    "Week14_df = data.loc[data['Week']==14]\n",
    "Week15_df = data.loc[data['Week']==15]\n",
    "Week16_df = data.loc[data['Week']==16]\n",
    "Week17_df = data.loc[data['Week']==17]\n",
    "\n",
    "## Break Down By Season\n",
    "df_2017 = data.loc[data['Year']==2017]\n",
    "df_2016 = data.loc[data['Year']==2016]\n",
    "df_2015 = data.loc[data['Year']==2015]\n",
    "df_2014 = data.loc[data['Year']==2014]\n",
    "df_2013 = data.loc[data['Year']==2013]"
   ]
  },
  {
   "cell_type": "code",
   "execution_count": null,
   "metadata": {},
   "outputs": [],
   "source": []
  }
 ],
 "metadata": {
  "kernelspec": {
   "display_name": "Python 3",
   "language": "python",
   "name": "python3"
  },
  "language_info": {
   "codemirror_mode": {
    "name": "ipython",
    "version": 3
   },
   "file_extension": ".py",
   "mimetype": "text/x-python",
   "name": "python",
   "nbconvert_exporter": "python",
   "pygments_lexer": "ipython3",
   "version": "3.6.3"
  }
 },
 "nbformat": 4,
 "nbformat_minor": 2
}
