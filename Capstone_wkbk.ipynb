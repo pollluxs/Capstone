{
 "cells": [
  {
   "cell_type": "code",
   "execution_count": 303,
   "metadata": {},
   "outputs": [],
   "source": [
    "import pandas as pd\n",
    "import numpy as np\n",
    "import os\n",
    "from statsmodels.tsa.arima_model import _arma_predict_out_of_sample\n",
    "from sklearn.linear_model import LinearRegression\n",
    "from statsmodels.tsa.arima_model import ARMA\n",
    "from statsmodels.tsa.stattools import adfuller"
   ]
  },
  {
   "cell_type": "markdown",
   "metadata": {},
   "source": [
    "### Importing & Building Raw Data Set"
   ]
  },
  {
   "cell_type": "code",
   "execution_count": 304,
   "metadata": {},
   "outputs": [],
   "source": [
    "file_lst = os.listdir('./raw_data_nfl_QB/')\n",
    "for idx,f in enumerate(file_lst):\n",
    "    if idx == 0:\n",
    "        data = pd.read_csv('./raw_data_nfl_QB/{}'.format(f))\n",
    "    else:\n",
    "        temp_df = pd.read_csv('./raw_data_nfl_QB/{}'.format(f))\n",
    "        data = pd.concat([data,temp_df],axis = 0)"
   ]
  },
  {
   "cell_type": "code",
   "execution_count": 305,
   "metadata": {},
   "outputs": [],
   "source": [
    "data.reset_index(inplace=True)"
   ]
  },
  {
   "cell_type": "markdown",
   "metadata": {},
   "source": [
    "### Renaming"
   ]
  },
  {
   "cell_type": "code",
   "execution_count": 306,
   "metadata": {},
   "outputs": [],
   "source": [
    "data['Rank_QBR'] = data['Rk']\n",
    "data['Sack'] = data['Sk']\n",
    "data['Completions'] = data['Cmp']\n",
    "data['Attempts'] = data['Att']\n",
    "data['Passing_Yards'] = data['Yds']\n",
    "data['Sack_Yards'] = data['Yds.1']\n",
    "data['QBR'] = data['Rate']\n",
    "data['Yds_Per_Attempt'] =  data['Y/A']\n",
    "data['Adj_Yd_Per_Attempt'] = data['AY/A']"
   ]
  },
  {
   "cell_type": "markdown",
   "metadata": {},
   "source": [
    "### Feature Engineering"
   ]
  },
  {
   "cell_type": "markdown",
   "metadata": {},
   "source": [
    "Assuming basic scoring for calculation of fantasy points column\n",
    "\n",
    "    25 yards = 1 pt\n",
    "    1 TD = 6 pts\n",
    "    1 Int = -2 pts"
   ]
  },
  {
   "cell_type": "code",
   "execution_count": 307,
   "metadata": {},
   "outputs": [],
   "source": [
    "data['Year'] = data['Date'].str.split('-', 1, expand=True)[0]\n",
    "data['Year'] = data['Year'].astype(str).astype(int)\n",
    "data['Month'] = data['Date'].str.split('-', 2, expand=True)[1]\n",
    "data['Month'] = data['Month'].astype(str).astype(int)\n",
    "data['Name'] = data['Unnamed: 1'].str.split('\\\\', 1, expand=True)[0]\n",
    "data['Home_Away'] = (data['Unnamed: 6']=='@').map({False:'Home', True:'Away'})\n",
    "data['Home_Team'] = (data['Home_Away']=='Home').map({True:1, False:0})\n",
    "data['Fantasy_Points'] = (data['Passing_Yards']/25)+(data['TD']*6)-(data['Int']*2)"
   ]
  },
  {
   "cell_type": "code",
   "execution_count": 308,
   "metadata": {},
   "outputs": [],
   "source": [
    "QB_ID = []\n",
    "for a, b in zip(data['Year'], data['Name']):\n",
    "    Qid = '{}_{}'.format(a,b)\n",
    "    QB_ID.append(Qid)\n",
    "    \n",
    "data['QB_ID'] = QB_ID"
   ]
  },
  {
   "cell_type": "markdown",
   "metadata": {},
   "source": [
    "### Dropping Irrelevant & Redundant Columns"
   ]
  },
  {
   "cell_type": "code",
   "execution_count": 309,
   "metadata": {},
   "outputs": [],
   "source": [
    "## Dropping Columns that have been renamed or are irrelevant('Lg')\n",
    "drop_cols = ['Rk', 'Sk', 'Cmp', 'Yds', 'Lg', 'Att', 'Yds', 'Yds.1',\n",
    "             'Rate', 'Y/A', 'AY/A', 'index', 'Unnamed: 1', 'Unnamed: 6']\n",
    "data.drop(drop_cols, axis=1, inplace=True)"
   ]
  },
  {
   "cell_type": "markdown",
   "metadata": {},
   "source": [
    "### Trimming Dataframe to Passing Attempts >= 10"
   ]
  },
  {
   "cell_type": "code",
   "execution_count": 310,
   "metadata": {},
   "outputs": [],
   "source": [
    "## Dropping Attempts Below 5\n",
    "data = data.loc[data['Attempts']>=10]"
   ]
  },
  {
   "cell_type": "code",
   "execution_count": 311,
   "metadata": {},
   "outputs": [
    {
     "data": {
      "text/plain": [
       "Index(['Age', 'Date', 'Tm', 'Opp', 'Result', 'G#', 'Week', 'Day', 'Cmp%', 'TD',\n",
       "       'Int', 'Rank_QBR', 'Sack', 'Completions', 'Attempts', 'Passing_Yards',\n",
       "       'Sack_Yards', 'QBR', 'Yds_Per_Attempt', 'Adj_Yd_Per_Attempt', 'Year',\n",
       "       'Month', 'Name', 'Home_Away', 'Home_Team', 'Fantasy_Points', 'QB_ID'],\n",
       "      dtype='object')"
      ]
     },
     "execution_count": 311,
     "metadata": {},
     "output_type": "execute_result"
    }
   ],
   "source": [
    "data.columns"
   ]
  },
  {
   "cell_type": "markdown",
   "metadata": {},
   "source": [
    "### Check for Stationarity"
   ]
  },
  {
   "cell_type": "code",
   "execution_count": 312,
   "metadata": {},
   "outputs": [],
   "source": [
    "results_Yds = adfuller(data['Passing_Yards'].values)\n",
    "results_TD = adfuller(data['TD'].values)\n",
    "results_Int = adfuller(data['Int'].values)"
   ]
  },
  {
   "cell_type": "code",
   "execution_count": 313,
   "metadata": {
    "scrolled": true
   },
   "outputs": [
    {
     "name": "stdout",
     "output_type": "stream",
     "text": [
      "Yards Dickey Fuller Test\n",
      "-9.9578607912 T-Statistic\n",
      "2.41723576211e-17 P_value\n",
      "{'1%': -3.4329527780962255, '5%': -2.8626898965523724, '10%': -2.567382133955709} Critical Values\n",
      "TD Dickey Fuller Test\n",
      "-11.2758637549 T-Statistic\n",
      "1.49719912924e-20 P_value\n",
      "{'1%': -3.4329527780962255, '5%': -2.8626898965523724, '10%': -2.567382133955709} Critical Values\n",
      "Int Dickey Fuller Test\n",
      "-11.7313487594 T-Statistic\n",
      "1.33935739303e-21 P_value\n",
      "{'1%': -3.4329527780962255, '5%': -2.8626898965523724, '10%': -2.567382133955709} Critical Values\n"
     ]
    }
   ],
   "source": [
    "print('Yards Dickey Fuller Test')\n",
    "print(results_Yds[0], 'T-Statistic')\n",
    "print(results_Yds[1], 'P_value')\n",
    "print(results_Yds[4], 'Critical Values')\n",
    "print('TD Dickey Fuller Test')\n",
    "print(results_TD[0], 'T-Statistic')\n",
    "print(results_TD[1], 'P_value')\n",
    "print(results_TD[4], 'Critical Values')\n",
    "print('Int Dickey Fuller Test')\n",
    "print(results_Int[0], 'T-Statistic')\n",
    "print(results_Int[1], 'P_value')\n",
    "print(results_Int[4], 'Critical Values')"
   ]
  },
  {
   "cell_type": "code",
   "execution_count": 15,
   "metadata": {},
   "outputs": [],
   "source": [
    "### shows variables are stationary"
   ]
  },
  {
   "cell_type": "code",
   "execution_count": 314,
   "metadata": {},
   "outputs": [],
   "source": [
    "## Break Down By Week\n",
    "Week1_df = data.loc[data['Week']==1]\n",
    "Week2_df = data.loc[data['Week']==2]\n",
    "Week3_df = data.loc[data['Week']==3]\n",
    "Week4_df = data.loc[data['Week']==4]\n",
    "Week5_df = data.loc[data['Week']==5]\n",
    "Week6_df = data.loc[data['Week']==6]\n",
    "Week7_df = data.loc[data['Week']==7]\n",
    "Week8_df = data.loc[data['Week']==8]\n",
    "Week9_df = data.loc[data['Week']==9]\n",
    "Week10_df = data.loc[data['Week']==10]\n",
    "Week11_df = data.loc[data['Week']==11]\n",
    "Week12_df = data.loc[data['Week']==12]\n",
    "Week13_df = data.loc[data['Week']==13]\n",
    "Week14_df = data.loc[data['Week']==14]\n",
    "Week15_df = data.loc[data['Week']==15]\n",
    "Week16_df = data.loc[data['Week']==16]\n",
    "Week17_df = data.loc[data['Week']==17]"
   ]
  },
  {
   "cell_type": "code",
   "execution_count": 315,
   "metadata": {},
   "outputs": [],
   "source": [
    "## Break Down By Season\n",
    "df_2017 = data.loc[data['Year']==2017]\n",
    "df_2016 = data.loc[data['Year']==2016]\n",
    "df_2015 = data.loc[data['Year']==2015]\n",
    "df_2014 = data.loc[data['Year']==2014]\n",
    "df_2013 = data.loc[data['Year']==2013]"
   ]
  },
  {
   "cell_type": "code",
   "execution_count": 316,
   "metadata": {},
   "outputs": [],
   "source": [
    "X = data[['Cmp%', 'TD', 'Int', 'Sack', 'Completions', 'Attempts','Sack_Yards', 'QBR']]\n",
    "y = data['Passing_Yards']\n",
    "lr_yards = LinearRegression()\n",
    "lr_yards.fit(X,y)\n",
    "predict_yards = lr_yards.predict(X)\n",
    "residuals_yards = predict_yards - y.values\n",
    "ar_yards = ARMA(residuals_yards, (2,1)).fit()"
   ]
  },
  {
   "cell_type": "code",
   "execution_count": 317,
   "metadata": {},
   "outputs": [],
   "source": [
    "def yard_projections(mstr_df,qb_id,week,lr_yards,ar_yards):\n",
    "    '''\n",
    "    mstr_df: Pandas DF; master df with all qbs in all years and all weeks\n",
    "    qb_id: string; the id of the QB you want to make a prediction\n",
    "    week: int, predicting week\n",
    "    lr_yards: linear regression model for yards\n",
    "    ar_yards: ARMA model object for yard residuals\n",
    "    \n",
    "    '''\n",
    "    ycol = ['Passing_Yards'] ## Target Variable\n",
    "    Xcols = ['Cmp%', 'TD', 'Int', 'Sack', 'Completions', 'Attempts','Sack_Yards', 'QBR'] ## predictors\n",
    "    ## create temp df for each QB by Year and week\n",
    "    ## then reset index\n",
    "    temp_df = mstr_df[mstr_df['QB_ID'] == qb_id]\n",
    "    temp_df = temp_df.sort_values('G#')\n",
    "    temp_df.reset_index(inplace=True)\n",
    "    X = temp_df[Xcols]\n",
    "    y = temp_df[ycol]\n",
    "    ## grabbing the weeks before the week specified\n",
    "    w = week-1\n",
    "    prev_weeks = temp_df[:w][Xcols]\n",
    "    y_pred = lr_yards.predict(prev_weeks)\n",
    "    resid = np.array(y[ycol][:w]).flatten()-y_pred\n",
    "    dates = temp_df.index\n",
    "    params = ar_yards.params\n",
    "    residuals = ar_yards.resid\n",
    "    p = ar_yards.k_ar\n",
    "    q = ar_yards.k_ma\n",
    "    k_exog = ar_yards.k_exog\n",
    "    k_trend = ar_yards.k_trend\n",
    "    steps = 1\n",
    "    \n",
    "    # this is the error\n",
    "    \n",
    "#     print(\"Residuals:\")\n",
    "#     print(residuals)\n",
    "#     print(\"Params:\")\n",
    "#     print(params)\n",
    "#     print(\"Steps:\")\n",
    "#     print(steps)\n",
    "#     print(\"p,q:\")\n",
    "#     print(p)\n",
    "#     print('/n')\n",
    "#     print(q\n",
    "#     print(\"Resid:\")\n",
    "#     resid\n",
    "#     print(\"w: {}\".format(w))\n",
    "#     return\n",
    "    \n",
    "    oos_predictions_yards_resid = _arma_predict_out_of_sample(params, steps, residuals, \n",
    "                                    p, q, k_trend, k_exog, \n",
    "                                    endog=resid, exog=None, start=w+1)\n",
    "    \n",
    "    pred_yds = oos_predictions_yards_resid + (y_pred.sum()/week)\n",
    "    return pred_yds\n",
    "#     start = dates[w]\n",
    "#     end = dates[w]\n",
    "#     residual_prediction = ar_yards.predict(start=start, end=end, dynamic=True)\n",
    "#     pred_yds = residual_prediction + (y_pred.sum()/week)\n",
    "#     return pred_yds"
   ]
  },
  {
   "cell_type": "code",
   "execution_count": 318,
   "metadata": {},
   "outputs": [],
   "source": [
    "X = data[['Cmp%', 'Passing_Yards', 'Int', 'Sack', 'Completions', 'Attempts','Sack_Yards', 'QBR']]\n",
    "y = data['TD']\n",
    "lr_TD = LinearRegression()\n",
    "lr_TD.fit(X,y)\n",
    "predict_TD = lr_TD.predict(X)\n",
    "residuals_TD = predict_TD - y.values\n",
    "ar_TD = ARMA(residuals_TD, (2,1)).fit()"
   ]
  },
  {
   "cell_type": "code",
   "execution_count": 319,
   "metadata": {},
   "outputs": [],
   "source": [
    "def TD_projections(mstr_df,qb_id,week,lr_TD,ar_TD):\n",
    "    '''\n",
    "    mstr_df: Pandas DF; master df with all qbs in all years and all weeks\n",
    "    qb_id: string; the id of the qq you want to make a prediction\n",
    "    week: int, predicting week\n",
    "    lr_yards: linear regression model for yards\n",
    "    ar_yards: ARMA model object for yard residuals\n",
    "    \n",
    "    '''\n",
    "    ycol = ['TD'] ## Target Variable\n",
    "    Xcols = ['Cmp%', 'Passing_Yards', 'Int', 'Sack', 'Completions', 'Attempts','Sack_Yards', 'QBR'] ## predictors\n",
    "    ## create temp df for each QB by Year and week\n",
    "    ## then reset index\n",
    "    temp_df = mstr_df[mstr_df['QB_ID'] == qb_id]\n",
    "    temp_df = temp_df.sort_values('G#')\n",
    "    temp_df.reset_index(inplace=True)\n",
    "    X = temp_df[Xcols]\n",
    "    y = temp_df[ycol]\n",
    "    ## grabbing the weeks before the week specified\n",
    "    w = week-1\n",
    "    prev_weeks = temp_df[:w][Xcols]\n",
    "    y_pred = lr_TD.predict(prev_weeks)\n",
    "    resid = np.array(y[ycol][:w]).flatten()-y_pred\n",
    "    dates = temp_df.index\n",
    "    params = ar_TD.params\n",
    "    residuals = ar_TD.resid\n",
    "    p = ar_TD.k_ar\n",
    "    q = ar_TD.k_ma\n",
    "    k_exog = ar_TD.k_exog\n",
    "    k_trend = ar_TD.k_trend\n",
    "    steps = 1\n",
    "    \n",
    "    oos_predictions_TD_resid = _arma_predict_out_of_sample(params, steps, residuals, \n",
    "                                    p, q, k_trend, k_exog, \n",
    "                                    endog=resid, exog=None, start=w+1)\n",
    "    \n",
    "    pred_TD = oos_predictions_TD_resid + (y_pred.sum()/week)\n",
    "    return pred_TD\n",
    "    \n",
    "#     start = dates[w]\n",
    "#     end = dates[w]\n",
    "#     residual_prediction = ar_TD.predict(start=start, end=end, dynamic=True)\n",
    "#     pred_TDs = residual_prediction + (y_pred.sum()/week)\n",
    "#     return pred_TDs"
   ]
  },
  {
   "cell_type": "code",
   "execution_count": 320,
   "metadata": {},
   "outputs": [],
   "source": [
    "X = data[['Cmp%', 'Passing_Yards', 'TD', 'Sack', 'Completions', 'Attempts','Sack_Yards', 'QBR']]\n",
    "y = data['Int']\n",
    "lr_Int = LinearRegression()\n",
    "lr_Int.fit(X,y)\n",
    "predict_Int = lr_Int.predict(X)\n",
    "residuals_Int = predict_Int - y.values\n",
    "ar_Int = ARMA(residuals_Int, (2,1)).fit()"
   ]
  },
  {
   "cell_type": "code",
   "execution_count": 321,
   "metadata": {},
   "outputs": [],
   "source": [
    "def Int_projections(mstr_df,qb_id,week,lr_Int,ar_Int):\n",
    "    '''\n",
    "    mstr_df: Pandas DF; master df with all qbs in all years and all weeks\n",
    "    qb_id: string; the id of the qq you want to make a prediction\n",
    "    week: int, predicting week\n",
    "    lr_yards: linear regression model for yards\n",
    "    ar_yards: ARMA model object for yard residuals\n",
    "    \n",
    "    '''\n",
    "\n",
    "    ycol = ['Int'] ## Target Variable\n",
    "    Xcols = ['Cmp%', 'Passing_Yards', 'TD', 'Sack', 'Completions', 'Attempts','Sack_Yards', 'QBR'] ## predictors\n",
    "    ## create temp df for each QB by Year and week\n",
    "    ## then reset index\n",
    "    temp_df = mstr_df[mstr_df['QB_ID'] == qb_id]\n",
    "    temp_df = temp_df.sort_values('G#')\n",
    "    temp_df.reset_index(inplace=True)\n",
    "    X = temp_df[Xcols]\n",
    "    y = temp_df[ycol]\n",
    "    ## grabbing the weeks before the week specified\n",
    "    w = week-1\n",
    "    prev_weeks = temp_df[:w][Xcols]\n",
    "    y_pred = lr_Int.predict(prev_weeks)\n",
    "    resid = np.array(y[ycol][:w]).flatten()-y_pred\n",
    "    dates = temp_df.index\n",
    "    params = ar_Int.params\n",
    "    residuals = ar_Int.resid\n",
    "    p = ar_Int.k_ar\n",
    "    q = ar_Int.k_ma\n",
    "    k_exog = ar_Int.k_exog\n",
    "    k_trend = ar_Int.k_trend\n",
    "    steps = 1\n",
    "\n",
    "    oos_predictions_Int_resid = _arma_predict_out_of_sample(params, steps, residuals, \n",
    "                                    p, q, k_trend, k_exog, \n",
    "                                    endog=resid, exog=None, start=w+1)\n",
    "\n",
    "    pred_Int = oos_predictions_Int_resid + (y_pred.sum()/week)\n",
    "    return pred_Int\n",
    "#         print(\"the try ran\")\n",
    "#     except:\n",
    "#         ycol = ['Int'] ## Target Variable\n",
    "#         print(\"the except ran\")\n",
    "#         return ycol\n",
    "#         Xcols = ['Cmp%', 'Passing_Yards', 'TD', 'Sack', 'Completions', 'Attempts','Sack_Yards', 'QBR'] ## predictors\n",
    "#         temp_df = mstr_df[mstr_df['QB_ID'] == qb_id]\n",
    "#         return temp_df\n",
    "\n",
    "#     start = dates[w]\n",
    "#     end = dates[w]\n",
    "#     residual_prediction = ar_Int.predict(start=start, end=end, dynamic=True)\n",
    "#     pred_Ints = residual_prediction + (y_pred.sum()/week)\n",
    "#     return pred_Ints"
   ]
  },
  {
   "cell_type": "code",
   "execution_count": 271,
   "metadata": {},
   "outputs": [
    {
     "name": "stdout",
     "output_type": "stream",
     "text": [
      "the try ran\n"
     ]
    },
    {
     "data": {
      "text/plain": [
       "array([ 0.44987674])"
      ]
     },
     "execution_count": 271,
     "metadata": {},
     "output_type": "execute_result"
    }
   ],
   "source": [
    "Int_projections(data, '2017_Tom Savage', 15, lr_Int,ar_Int)"
   ]
  },
  {
   "cell_type": "markdown",
   "metadata": {},
   "source": [
    "## Predict week 4 for Peyton"
   ]
  },
  {
   "cell_type": "code",
   "execution_count": 322,
   "metadata": {},
   "outputs": [],
   "source": [
    "def Fantasy_Points_Calculator(QB_ID, week):\n",
    "    Fantasy_point_prediction = (((yard_projections(data, QB_ID, week, lr_yards, ar_yards))/25)\n",
    "    +((TD_projections(data, QB_ID, week, lr_TD, ar_TD))*6)\n",
    "    -((Int_projections(data, QB_ID, week, lr_Int, ar_Int))*2))\n",
    "    return Fantasy_point_prediction"
   ]
  },
  {
   "cell_type": "code",
   "execution_count": null,
   "metadata": {},
   "outputs": [],
   "source": []
  },
  {
   "cell_type": "code",
   "execution_count": 143,
   "metadata": {},
   "outputs": [],
   "source": [
    "params = ar_yards.params\n",
    "residuals = ar_yards.resid\n",
    "p = ar_yards.k_ar\n",
    "q = ar_yards.k_ma\n",
    "k_exog = ar_yards.k_exog\n",
    "k_trend = ar_yards.k_trend\n",
    "steps = 1\n",
    "\n",
    "oos_predictions_yards_resid = _arma_predict_out_of_sample(params, steps, residuals_yards, \n",
    "                                p, q, k_trend, k_exog, \n",
    "                                endog=residuals, exog=None, start=15)"
   ]
  },
  {
   "cell_type": "code",
   "execution_count": 144,
   "metadata": {},
   "outputs": [],
   "source": [
    "params = ar_TD.params\n",
    "residuals = ar_TD.resid\n",
    "p = ar_TD.k_ar\n",
    "q = ar_TD.k_ma\n",
    "k_exog = ar_TD.k_exog\n",
    "k_trend = ar_TD.k_trend\n",
    "steps = 1\n",
    "\n",
    "oos_predictions_TD_resid = _arma_predict_out_of_sample(params, steps, residuals_TD, \n",
    "                                p, q, k_trend, k_exog, \n",
    "                                endog=residuals, exog=None, start=15)"
   ]
  },
  {
   "cell_type": "code",
   "execution_count": 145,
   "metadata": {},
   "outputs": [],
   "source": [
    "params = ar_yards.params\n",
    "residuals = ar_yards.resid\n",
    "p = ar_yards.k_ar\n",
    "q = ar_yards.k_ma\n",
    "k_exog = ar_yards.k_exog\n",
    "k_trend = ar_yards.k_trend\n",
    "steps = 1\n",
    "\n",
    "oos_predictions_Int_resid = _arma_predict_out_of_sample(params, steps, residuals_Int, \n",
    "                                p, q, k_trend, k_exog, \n",
    "                                endog=residuals, exog=None, start=15)"
   ]
  },
  {
   "cell_type": "code",
   "execution_count": 96,
   "metadata": {},
   "outputs": [],
   "source": [
    "pqbs = df_2017['QB_ID'].unique()"
   ]
  },
  {
   "cell_type": "code",
   "execution_count": 97,
   "metadata": {},
   "outputs": [
    {
     "data": {
      "text/plain": [
       "array(['2017_Matt Ryan', '2017_Tom Brady', '2017_Aaron Rodgers',\n",
       "       '2017_Colin Kaepernick', '2017_Sam Bradford', '2017_Alex Smith',\n",
       "       '2017_Ryan Fitzpatrick', '2017_Landry Jones', '2017_Andy Dalton',\n",
       "       '2017_Matthew Stafford', '2017_Blake Bortles',\n",
       "       '2017_Trevor Siemian', '2017_Russell Wilson', '2017_Carson Wentz',\n",
       "       '2017_Matt Moore', '2017_Robert Griffin', '2017_Andrew Luck',\n",
       "       '2017_Carson Palmer', '2017_Trevone Boykin', '2017_Drew Brees',\n",
       "       '2017_Connor Cook', '2017_Eli Manning', '2017_Jared Goff',\n",
       "       '2017_Brock Osweiler', '2017_Philip Rivers', '2017_Kirk Cousins',\n",
       "       '2017_Matt Cassel', '2017_Jameis Winston', '2017_Joe Flacco',\n",
       "       '2017_Tom Savage', '2017_Dak Prescott', '2017_Matt McGloin',\n",
       "       '2017_Matt Barkley', '2017_EJ Manuel', '2017_David Fales',\n",
       "       '2017_Cam Newton', '2017_Cardale Jones', '2017_Mark Sanchez',\n",
       "       '2017_Sean Mannion', '2017_Derek Carr', '2017_Ben Roethlisberger',\n",
       "       '2017_Tyrod Taylor', '2017_Mike Glennon', '2017_DeShone Kizer',\n",
       "       '2017_Marcus Mariota', '2017_Brian Hoyer', '2017_Deshaun Watson',\n",
       "       '2017_Josh McCown', '2017_Scott Tolzien', '2017_Jay Cutler',\n",
       "       '2017_Kevin Hogan', '2017_Case Keenum', '2017_Jacoby Brissett',\n",
       "       '2017_Ryan Mallett', '2017_Derek Anderson', '2017_Mitch Trubisky',\n",
       "       '2017_C.J. Beathard', '2017_Brett Hundley', '2017_Cody Kessler',\n",
       "       '2017_Drew Stanton', '2017_Nathan Peterman', '2017_Kellen Clemens',\n",
       "       '2017_Blaine Gabbert', '2017_Paxton Lynch', '2017_Geno Smith',\n",
       "       '2017_Jimmy Garoppolo', '2017_Jake Rudock', '2017_T.J. Yates',\n",
       "       '2017_Nick Foles', '2017_A.J. McCarron', '2017_Bryce Petty',\n",
       "       '2017_Joe Webb'], dtype=object)"
      ]
     },
     "execution_count": 97,
     "metadata": {},
     "output_type": "execute_result"
    }
   ],
   "source": [
    "pqbs"
   ]
  },
  {
   "cell_type": "code",
   "execution_count": 323,
   "metadata": {},
   "outputs": [],
   "source": [
    "qbs_2017_14 = Week14_df.loc[Week14_df['QB_ID'].str.split('_', 1, expand=True)[0]=='2017']\n",
    "qbs_2017_13 = Week13_df.loc[Week13_df['QB_ID'].str.split('_', 1, expand=True)[0]=='2017']\n",
    "qbs_2017_12 = Week12_df.loc[Week12_df['QB_ID'].str.split('_', 1, expand=True)[0]=='2017']\n",
    "qbs_2017_11 = Week11_df.loc[Week11_df['QB_ID'].str.split('_', 1, expand=True)[0]=='2017']"
   ]
  },
  {
   "cell_type": "code",
   "execution_count": 324,
   "metadata": {},
   "outputs": [],
   "source": [
    "qbs14 = np.array(qbs_2017_14['QB_ID'])\n",
    "qbs13 = np.array(qbs_2017_13['QB_ID'])\n",
    "qbs12 = np.array(qbs_2017_12['QB_ID'])\n",
    "qbs11 = np.array(qbs_2017_11['QB_ID'])"
   ]
  },
  {
   "cell_type": "code",
   "execution_count": 325,
   "metadata": {},
   "outputs": [],
   "source": [
    "qbs_1merge = list(set(qbs14).intersection(qbs13))\n",
    "qbs_2merge = list(set(qbs_1merge).intersection(qbs12))\n",
    "qbs = list(set(qbs_2merge).intersection(qbs11))"
   ]
  },
  {
   "cell_type": "code",
   "execution_count": 296,
   "metadata": {},
   "outputs": [
    {
     "data": {
      "text/plain": [
       "['2017_Tom Savage',\n",
       " '2017_Carson Wentz',\n",
       " '2017_Tom Brady',\n",
       " '2017_Case Keenum',\n",
       " '2017_Brett Hundley',\n",
       " '2017_Blake Bortles',\n",
       " '2017_Alex Smith',\n",
       " '2017_Russell Wilson',\n",
       " '2017_Dak Prescott',\n",
       " '2017_Drew Brees',\n",
       " '2017_Marcus Mariota',\n",
       " '2017_DeShone Kizer',\n",
       " '2017_Joe Flacco',\n",
       " '2017_Andy Dalton',\n",
       " '2017_Derek Carr',\n",
       " '2017_Philip Rivers',\n",
       " '2017_Mitch Trubisky',\n",
       " '2017_Blaine Gabbert',\n",
       " '2017_Ben Roethlisberger',\n",
       " '2017_Matthew Stafford',\n",
       " '2017_Kirk Cousins',\n",
       " '2017_Jared Goff',\n",
       " '2017_Matt Ryan']"
      ]
     },
     "execution_count": 296,
     "metadata": {},
     "output_type": "execute_result"
    }
   ],
   "source": [
    "qbs"
   ]
  },
  {
   "cell_type": "code",
   "execution_count": null,
   "metadata": {},
   "outputs": [],
   "source": []
  },
  {
   "cell_type": "code",
   "execution_count": 141,
   "metadata": {},
   "outputs": [],
   "source": [
    "from statsmodels.tsa.arima_model import _arma_predict_out_of_sample\n",
    "\n",
    "# get what you need for predicting one-step ahead\n",
    "params = ar_yards.params\n",
    "residuals = ar_yards.resid\n",
    "p = ar_yards.k_ar\n",
    "q = ar_yards.k_ma\n",
    "k_exog = ar_yards.k_exog\n",
    "k_trend = ar_yards.k_trend\n",
    "steps = 1\n",
    "\n",
    "oos_predictions_yards = _arma_predict_out_of_sample(params, steps, residuals, \n",
    "                                p, q, k_trend, k_exog, \n",
    "                                endog=residuals, exog=None, start=15)"
   ]
  },
  {
   "cell_type": "code",
   "execution_count": 142,
   "metadata": {},
   "outputs": [
    {
     "data": {
      "text/plain": [
       "array([-1.015211])"
      ]
     },
     "execution_count": 142,
     "metadata": {},
     "output_type": "execute_result"
    }
   ],
   "source": [
    "oos_predictions_yards_resid"
   ]
  },
  {
   "cell_type": "code",
   "execution_count": 423,
   "metadata": {},
   "outputs": [],
   "source": [
    "qbs_working= ['2017_Tom Brady', '2017_Blake Bortles', \n",
    "              '2017_Alex Smith', '2017_Russell Wilson', '2017_Drew Brees', \n",
    "              '2017_Joe Flacco', '2017_Philip Rivers', \n",
    "              '2017_Matthew Stafford', '2017_Kirk Cousins', '2017_Jared Goff']"
   ]
  },
  {
   "cell_type": "code",
   "execution_count": 359,
   "metadata": {},
   "outputs": [
    {
     "data": {
      "text/plain": [
       "array([ 8.7452356])"
      ]
     },
     "execution_count": 359,
     "metadata": {},
     "output_type": "execute_result"
    }
   ],
   "source": [
    "Fantasy_Points_Calculator('2017_Joe Flacco', 15)"
   ]
  },
  {
   "cell_type": "code",
   "execution_count": 358,
   "metadata": {},
   "outputs": [
    {
     "data": {
      "text/plain": [
       "array([ 10.88122469])"
      ]
     },
     "execution_count": 358,
     "metadata": {},
     "output_type": "execute_result"
    }
   ],
   "source": [
    "Fantasy_Points_Calculator('2017_Blake Bortles', 15)"
   ]
  },
  {
   "cell_type": "code",
   "execution_count": 331,
   "metadata": {},
   "outputs": [
    {
     "data": {
      "text/plain": [
       "array([ 18.07242396])"
      ]
     },
     "execution_count": 331,
     "metadata": {},
     "output_type": "execute_result"
    }
   ],
   "source": [
    "Fantasy_Points_Calculator('2017_Alex Smith', 15)"
   ]
  },
  {
   "cell_type": "code",
   "execution_count": 332,
   "metadata": {},
   "outputs": [
    {
     "data": {
      "text/plain": [
       "array([ 15.08177612])"
      ]
     },
     "execution_count": 332,
     "metadata": {},
     "output_type": "execute_result"
    }
   ],
   "source": [
    "Fantasy_Points_Calculator('2017_Russell Wilson', 15)"
   ]
  },
  {
   "cell_type": "code",
   "execution_count": 353,
   "metadata": {},
   "outputs": [
    {
     "data": {
      "text/plain": [
       "array([ 18.06802724])"
      ]
     },
     "execution_count": 353,
     "metadata": {},
     "output_type": "execute_result"
    }
   ],
   "source": [
    "Fantasy_Points_Calculator('2017_Matt Ryan', 15)"
   ]
  },
  {
   "cell_type": "code",
   "execution_count": null,
   "metadata": {},
   "outputs": [],
   "source": [
    "Fantasy_Points_Calculator('2017_Blake Bortles', 15)"
   ]
  },
  {
   "cell_type": "code",
   "execution_count": null,
   "metadata": {},
   "outputs": [],
   "source": [
    "Fantasy_Points_Calculator('2017_Blake Bortles', 15)"
   ]
  },
  {
   "cell_type": "code",
   "execution_count": null,
   "metadata": {},
   "outputs": [],
   "source": [
    "Fantasy_Points_Calculator('2017_Blake Bortles', 15)"
   ]
  },
  {
   "cell_type": "code",
   "execution_count": null,
   "metadata": {},
   "outputs": [],
   "source": [
    "Fantasy_Points_Calculator('2017_Blake Bortles', 15)"
   ]
  },
  {
   "cell_type": "code",
   "execution_count": null,
   "metadata": {},
   "outputs": [],
   "source": []
  },
  {
   "cell_type": "code",
   "execution_count": 424,
   "metadata": {},
   "outputs": [],
   "source": [
    "week_15_projections = []\n",
    "for i in qbs_working:\n",
    "    projections = Fantasy_Points_Calculator(i, 15)[0]\n",
    "    week_15_projections.append(projections)"
   ]
  },
  {
   "cell_type": "code",
   "execution_count": 425,
   "metadata": {},
   "outputs": [],
   "source": [
    "proj_df = pd.DataFrame(week_15_projections)"
   ]
  },
  {
   "cell_type": "code",
   "execution_count": 426,
   "metadata": {},
   "outputs": [],
   "source": [
    "proj_df['Projections'] = proj_df[0]"
   ]
  },
  {
   "cell_type": "code",
   "execution_count": 427,
   "metadata": {},
   "outputs": [],
   "source": [
    "proj_df.drop([0], axis=1, inplace=True)"
   ]
  },
  {
   "cell_type": "code",
   "execution_count": 428,
   "metadata": {},
   "outputs": [],
   "source": [
    "proj_df['QB'] = qbs_working"
   ]
  },
  {
   "cell_type": "code",
   "execution_count": 422,
   "metadata": {},
   "outputs": [
    {
     "data": {
      "text/html": [
       "<div>\n",
       "<style scoped>\n",
       "    .dataframe tbody tr th:only-of-type {\n",
       "        vertical-align: middle;\n",
       "    }\n",
       "\n",
       "    .dataframe tbody tr th {\n",
       "        vertical-align: top;\n",
       "    }\n",
       "\n",
       "    .dataframe thead th {\n",
       "        text-align: right;\n",
       "    }\n",
       "</style>\n",
       "<table border=\"1\" class=\"dataframe\">\n",
       "  <thead>\n",
       "    <tr style=\"text-align: right;\">\n",
       "      <th></th>\n",
       "      <th>Projections</th>\n",
       "      <th>QB</th>\n",
       "    </tr>\n",
       "  </thead>\n",
       "  <tbody>\n",
       "    <tr>\n",
       "      <th>0</th>\n",
       "      <td>20.953711</td>\n",
       "      <td>2017_Tom Brady</td>\n",
       "    </tr>\n",
       "    <tr>\n",
       "      <th>1</th>\n",
       "      <td>10.881225</td>\n",
       "      <td>2017_Blake Bortles</td>\n",
       "    </tr>\n",
       "    <tr>\n",
       "      <th>2</th>\n",
       "      <td>18.072424</td>\n",
       "      <td>2017_Alex Smith</td>\n",
       "    </tr>\n",
       "    <tr>\n",
       "      <th>3</th>\n",
       "      <td>15.081776</td>\n",
       "      <td>2017_Russell Wilson</td>\n",
       "    </tr>\n",
       "    <tr>\n",
       "      <th>4</th>\n",
       "      <td>16.215238</td>\n",
       "      <td>2017_Drew Brees</td>\n",
       "    </tr>\n",
       "    <tr>\n",
       "      <th>5</th>\n",
       "      <td>8.745236</td>\n",
       "      <td>2017_Joe Flacco</td>\n",
       "    </tr>\n",
       "    <tr>\n",
       "      <th>6</th>\n",
       "      <td>18.134847</td>\n",
       "      <td>2017_Philip Rivers</td>\n",
       "    </tr>\n",
       "    <tr>\n",
       "      <th>7</th>\n",
       "      <td>16.840742</td>\n",
       "      <td>2017_Matthew Stafford</td>\n",
       "    </tr>\n",
       "    <tr>\n",
       "      <th>8</th>\n",
       "      <td>15.741082</td>\n",
       "      <td>2017_Kirk Cousins</td>\n",
       "    </tr>\n",
       "    <tr>\n",
       "      <th>9</th>\n",
       "      <td>16.840403</td>\n",
       "      <td>2017_Jared Goff</td>\n",
       "    </tr>\n",
       "    <tr>\n",
       "      <th>10</th>\n",
       "      <td>18.068027</td>\n",
       "      <td>2017_Matt Ryan</td>\n",
       "    </tr>\n",
       "  </tbody>\n",
       "</table>\n",
       "</div>"
      ],
      "text/plain": [
       "    Projections                     QB\n",
       "0     20.953711         2017_Tom Brady\n",
       "1     10.881225     2017_Blake Bortles\n",
       "2     18.072424        2017_Alex Smith\n",
       "3     15.081776    2017_Russell Wilson\n",
       "4     16.215238        2017_Drew Brees\n",
       "5      8.745236        2017_Joe Flacco\n",
       "6     18.134847     2017_Philip Rivers\n",
       "7     16.840742  2017_Matthew Stafford\n",
       "8     15.741082      2017_Kirk Cousins\n",
       "9     16.840403        2017_Jared Goff\n",
       "10    18.068027         2017_Matt Ryan"
      ]
     },
     "execution_count": 422,
     "metadata": {},
     "output_type": "execute_result"
    }
   ],
   "source": [
    "proj_df"
   ]
  },
  {
   "cell_type": "code",
   "execution_count": 372,
   "metadata": {},
   "outputs": [],
   "source": [
    "test_data = pd.read_csv('Test data')"
   ]
  },
  {
   "cell_type": "code",
   "execution_count": 374,
   "metadata": {},
   "outputs": [],
   "source": [
    "test_data['Rank_QBR'] = test_data['Rk']\n",
    "test_data['Sack'] = test_data['Sk']\n",
    "test_data['Completions'] = test_data['Cmp']\n",
    "test_data['Attempts'] = test_data['Att']\n",
    "test_data['Passing_Yards'] = test_data['Yds']\n",
    "test_data['Sack_Yards'] = test_data['Yds.1']\n",
    "test_data['QBR'] = test_data['Rate']\n",
    "test_data['Yds_Per_Attempt'] =  test_data['Y/A']\n",
    "test_data['Adj_Yd_Per_Attempt'] = test_data['AY/A']"
   ]
  },
  {
   "cell_type": "code",
   "execution_count": 375,
   "metadata": {},
   "outputs": [],
   "source": [
    "test_data['Year'] = test_data['Date'].str.split('-', 1, expand=True)[0]\n",
    "test_data['Year'] = test_data['Year'].astype(str).astype(int)\n",
    "test_data['Month'] = test_data['Date'].str.split('-', 2, expand=True)[1]\n",
    "test_data['Month'] = test_data['Month'].astype(str).astype(int)\n",
    "test_data['Name'] = test_data['Unnamed: 1'].str.split('\\\\', 1, expand=True)[0]\n",
    "test_data['Home_Away'] = (test_data['Unnamed: 6']=='@').map({False:'Home', True:'Away'})\n",
    "test_data['Home_Team'] = (test_data['Home_Away']=='Home').map({True:1, False:0})\n",
    "test_data['Fantasy_Points'] = (test_data['Passing_Yards']/25)+(data['TD']*6)-(data['Int']*2)"
   ]
  },
  {
   "cell_type": "code",
   "execution_count": 376,
   "metadata": {},
   "outputs": [],
   "source": [
    "QB_ID = []\n",
    "for a, b in zip(test_data['Year'], test_data['Name']):\n",
    "    Qid = '{}_{}'.format(a,b)\n",
    "    QB_ID.append(Qid)\n",
    "    \n",
    "test_data['QB_ID'] = QB_ID"
   ]
  },
  {
   "cell_type": "code",
   "execution_count": 407,
   "metadata": {},
   "outputs": [
    {
     "data": {
      "text/html": [
       "<div>\n",
       "<style scoped>\n",
       "    .dataframe tbody tr th:only-of-type {\n",
       "        vertical-align: middle;\n",
       "    }\n",
       "\n",
       "    .dataframe tbody tr th {\n",
       "        vertical-align: top;\n",
       "    }\n",
       "\n",
       "    .dataframe thead th {\n",
       "        text-align: right;\n",
       "    }\n",
       "</style>\n",
       "<table border=\"1\" class=\"dataframe\">\n",
       "  <thead>\n",
       "    <tr style=\"text-align: right;\">\n",
       "      <th></th>\n",
       "      <th>Unnamed: 1</th>\n",
       "      <th>Fantasy_Points</th>\n",
       "    </tr>\n",
       "  </thead>\n",
       "  <tbody>\n",
       "    <tr>\n",
       "      <th>0</th>\n",
       "      <td>Brock Osweiler\\OsweBr00</td>\n",
       "      <td>49.76</td>\n",
       "    </tr>\n",
       "    <tr>\n",
       "      <th>1</th>\n",
       "      <td>Blake Bortles\\BortBl00</td>\n",
       "      <td>31.04</td>\n",
       "    </tr>\n",
       "    <tr>\n",
       "      <th>2</th>\n",
       "      <td>Case Keenum\\KeenCa00</td>\n",
       "      <td>21.44</td>\n",
       "    </tr>\n",
       "    <tr>\n",
       "      <th>3</th>\n",
       "      <td>Cam Newton\\NewtCa00</td>\n",
       "      <td>15.68</td>\n",
       "    </tr>\n",
       "    <tr>\n",
       "      <th>4</th>\n",
       "      <td>Alex Smith\\SmitAl03</td>\n",
       "      <td>19.24</td>\n",
       "    </tr>\n",
       "    <tr>\n",
       "      <th>5</th>\n",
       "      <td>Kirk Cousins\\CousKi00</td>\n",
       "      <td>19.84</td>\n",
       "    </tr>\n",
       "    <tr>\n",
       "      <th>6</th>\n",
       "      <td>Nick Foles\\FoleNi00</td>\n",
       "      <td>25.48</td>\n",
       "    </tr>\n",
       "    <tr>\n",
       "      <th>7</th>\n",
       "      <td>Matthew Stafford\\StafMa00</td>\n",
       "      <td>21.48</td>\n",
       "    </tr>\n",
       "    <tr>\n",
       "      <th>8</th>\n",
       "      <td>Marcus Mariota\\MariMa01</td>\n",
       "      <td>25.64</td>\n",
       "    </tr>\n",
       "    <tr>\n",
       "      <th>9</th>\n",
       "      <td>Ben Roethlisberger\\RoetBe00</td>\n",
       "      <td>29.24</td>\n",
       "    </tr>\n",
       "    <tr>\n",
       "      <th>10</th>\n",
       "      <td>Jimmy Garoppolo\\GaroJi00</td>\n",
       "      <td>25.24</td>\n",
       "    </tr>\n",
       "    <tr>\n",
       "      <th>11</th>\n",
       "      <td>Drew Brees\\BreeDr00</td>\n",
       "      <td>19.40</td>\n",
       "    </tr>\n",
       "    <tr>\n",
       "      <th>12</th>\n",
       "      <td>Eli Manning\\MannEl00</td>\n",
       "      <td>23.36</td>\n",
       "    </tr>\n",
       "    <tr>\n",
       "      <th>13</th>\n",
       "      <td>Tyrod Taylor\\TaylTy00</td>\n",
       "      <td>18.96</td>\n",
       "    </tr>\n",
       "    <tr>\n",
       "      <th>14</th>\n",
       "      <td>Jared Goff\\GoffJa00</td>\n",
       "      <td>14.80</td>\n",
       "    </tr>\n",
       "    <tr>\n",
       "      <th>15</th>\n",
       "      <td>Joe Flacco\\FlacJo00</td>\n",
       "      <td>21.52</td>\n",
       "    </tr>\n",
       "    <tr>\n",
       "      <th>16</th>\n",
       "      <td>Tom Brady\\BradTo00</td>\n",
       "      <td>33.92</td>\n",
       "    </tr>\n",
       "    <tr>\n",
       "      <th>17</th>\n",
       "      <td>Derek Carr\\CarrDe02</td>\n",
       "      <td>18.84</td>\n",
       "    </tr>\n",
       "    <tr>\n",
       "      <th>18</th>\n",
       "      <td>Russell Wilson\\WilsRu00</td>\n",
       "      <td>15.68</td>\n",
       "    </tr>\n",
       "    <tr>\n",
       "      <th>19</th>\n",
       "      <td>Aaron Rodgers\\RodgAa00</td>\n",
       "      <td>21.60</td>\n",
       "    </tr>\n",
       "    <tr>\n",
       "      <th>20</th>\n",
       "      <td>Jacoby Brissett\\BrisJa00</td>\n",
       "      <td>10.32</td>\n",
       "    </tr>\n",
       "    <tr>\n",
       "      <th>21</th>\n",
       "      <td>Mitch Trubisky\\TrubMi00</td>\n",
       "      <td>16.56</td>\n",
       "    </tr>\n",
       "    <tr>\n",
       "      <th>22</th>\n",
       "      <td>Dak Prescott\\PresDa01</td>\n",
       "      <td>16.48</td>\n",
       "    </tr>\n",
       "    <tr>\n",
       "      <th>23</th>\n",
       "      <td>A.J. McCarron\\McCaA.00</td>\n",
       "      <td>4.76</td>\n",
       "    </tr>\n",
       "    <tr>\n",
       "      <th>24</th>\n",
       "      <td>Sean Mannion\\MannSe00</td>\n",
       "      <td>10.16</td>\n",
       "    </tr>\n",
       "    <tr>\n",
       "      <th>25</th>\n",
       "      <td>Philip Rivers\\RivePh00</td>\n",
       "      <td>9.08</td>\n",
       "    </tr>\n",
       "    <tr>\n",
       "      <th>26</th>\n",
       "      <td>Bryce Petty\\PettBr01</td>\n",
       "      <td>9.16</td>\n",
       "    </tr>\n",
       "    <tr>\n",
       "      <th>27</th>\n",
       "      <td>T.J. Yates\\YateT.00</td>\n",
       "      <td>13.12</td>\n",
       "    </tr>\n",
       "    <tr>\n",
       "      <th>28</th>\n",
       "      <td>Jay Cutler\\CutlJa00</td>\n",
       "      <td>NaN</td>\n",
       "    </tr>\n",
       "    <tr>\n",
       "      <th>29</th>\n",
       "      <td>Blaine Gabbert\\GabbBl00</td>\n",
       "      <td>11.56</td>\n",
       "    </tr>\n",
       "    <tr>\n",
       "      <th>30</th>\n",
       "      <td>DeShone Kizer\\KizeDe00</td>\n",
       "      <td>5.84</td>\n",
       "    </tr>\n",
       "    <tr>\n",
       "      <th>31</th>\n",
       "      <td>Trevor Siemian\\SiemTr00</td>\n",
       "      <td>2.68</td>\n",
       "    </tr>\n",
       "    <tr>\n",
       "      <th>32</th>\n",
       "      <td>Andy Dalton\\DaltAn00</td>\n",
       "      <td>NaN</td>\n",
       "    </tr>\n",
       "    <tr>\n",
       "      <th>33</th>\n",
       "      <td>Teddy Bridgewater\\BridTe00</td>\n",
       "      <td>-4.00</td>\n",
       "    </tr>\n",
       "  </tbody>\n",
       "</table>\n",
       "</div>"
      ],
      "text/plain": [
       "                     Unnamed: 1  Fantasy_Points\n",
       "0       Brock Osweiler\\OsweBr00           49.76\n",
       "1        Blake Bortles\\BortBl00           31.04\n",
       "2          Case Keenum\\KeenCa00           21.44\n",
       "3           Cam Newton\\NewtCa00           15.68\n",
       "4           Alex Smith\\SmitAl03           19.24\n",
       "5         Kirk Cousins\\CousKi00           19.84\n",
       "6           Nick Foles\\FoleNi00           25.48\n",
       "7     Matthew Stafford\\StafMa00           21.48\n",
       "8       Marcus Mariota\\MariMa01           25.64\n",
       "9   Ben Roethlisberger\\RoetBe00           29.24\n",
       "10     Jimmy Garoppolo\\GaroJi00           25.24\n",
       "11          Drew Brees\\BreeDr00           19.40\n",
       "12         Eli Manning\\MannEl00           23.36\n",
       "13        Tyrod Taylor\\TaylTy00           18.96\n",
       "14          Jared Goff\\GoffJa00           14.80\n",
       "15          Joe Flacco\\FlacJo00           21.52\n",
       "16           Tom Brady\\BradTo00           33.92\n",
       "17          Derek Carr\\CarrDe02           18.84\n",
       "18      Russell Wilson\\WilsRu00           15.68\n",
       "19       Aaron Rodgers\\RodgAa00           21.60\n",
       "20     Jacoby Brissett\\BrisJa00           10.32\n",
       "21      Mitch Trubisky\\TrubMi00           16.56\n",
       "22        Dak Prescott\\PresDa01           16.48\n",
       "23       A.J. McCarron\\McCaA.00            4.76\n",
       "24        Sean Mannion\\MannSe00           10.16\n",
       "25       Philip Rivers\\RivePh00            9.08\n",
       "26         Bryce Petty\\PettBr01            9.16\n",
       "27          T.J. Yates\\YateT.00           13.12\n",
       "28          Jay Cutler\\CutlJa00             NaN\n",
       "29      Blaine Gabbert\\GabbBl00           11.56\n",
       "30       DeShone Kizer\\KizeDe00            5.84\n",
       "31      Trevor Siemian\\SiemTr00            2.68\n",
       "32         Andy Dalton\\DaltAn00             NaN\n",
       "33   Teddy Bridgewater\\BridTe00           -4.00"
      ]
     },
     "execution_count": 407,
     "metadata": {},
     "output_type": "execute_result"
    }
   ],
   "source": [
    "test_data[[\"Unnamed: 1\", 'Fantasy_Points']]"
   ]
  },
  {
   "cell_type": "code",
   "execution_count": 405,
   "metadata": {},
   "outputs": [],
   "source": [
    "missing_qbs = set(test_data['QB_ID']) - set(proj_df['QB'])"
   ]
  },
  {
   "cell_type": "code",
   "execution_count": null,
   "metadata": {},
   "outputs": [],
   "source": [
    "test_data"
   ]
  },
  {
   "cell_type": "code",
   "execution_count": 431,
   "metadata": {},
   "outputs": [],
   "source": [
    "actual_fantasy_pts = [33.92, 31.04, 19.24, 15.68, 19.40, 21.52, 9.08, 21.48, 19.84, 14.80]\n",
    "\n",
    "\n",
    "proj_df['actual_pts'] = actual_fantasy_pts"
   ]
  },
  {
   "cell_type": "code",
   "execution_count": 436,
   "metadata": {},
   "outputs": [],
   "source": [
    "proj_df['se'] = (proj_df['Projections'] - proj_df['actual_pts'])**2"
   ]
  },
  {
   "cell_type": "code",
   "execution_count": 438,
   "metadata": {},
   "outputs": [],
   "source": [
    "proj_df.drop('rmse',axis=1,inplace=True)"
   ]
  },
  {
   "cell_type": "code",
   "execution_count": 442,
   "metadata": {},
   "outputs": [],
   "source": [
    "rmse = np.sqrt(proj_df['se'].mean())"
   ]
  },
  {
   "cell_type": "code",
   "execution_count": 443,
   "metadata": {},
   "outputs": [
    {
     "data": {
      "text/plain": [
       "9.3489926493359796"
      ]
     },
     "execution_count": 443,
     "metadata": {},
     "output_type": "execute_result"
    }
   ],
   "source": [
    "rmse"
   ]
  },
  {
   "cell_type": "code",
   "execution_count": 365,
   "metadata": {},
   "outputs": [
    {
     "name": "stdout",
     "output_type": "stream",
     "text": [
      "2017_Tom Savage\n"
     ]
    }
   ],
   "source": [
    "week_15_projections = []\n",
    "for i in qbs:\n",
    "    try:\n",
    "        projections = Fantasy_Points_Calculator(i, 15)[0]\n",
    "        week_15_projections.append(projections)\n",
    "    except:\n",
    "        print(i)\n",
    "        break\n",
    "    "
   ]
  },
  {
   "cell_type": "code",
   "execution_count": 257,
   "metadata": {},
   "outputs": [
    {
     "data": {
      "text/plain": [
       "2433    0\n",
       "2705    0\n",
       "2738    2\n",
       "2752    1\n",
       "2810    2\n",
       "2838    1\n",
       "2881    0\n",
       "Name: Int, dtype: int64"
      ]
     },
     "execution_count": 257,
     "metadata": {},
     "output_type": "execute_result"
    }
   ],
   "source": [
    "data.loc[data['QB_ID']=='2017_Tom Savage']['Int']"
   ]
  },
  {
   "cell_type": "code",
   "execution_count": 51,
   "metadata": {
    "scrolled": true
   },
   "outputs": [
    {
     "ename": "NameError",
     "evalue": "name 'QB_2017' is not defined",
     "output_type": "error",
     "traceback": [
      "\u001b[1;31m---------------------------------------------------------------------------\u001b[0m",
      "\u001b[1;31mNameError\u001b[0m                                 Traceback (most recent call last)",
      "\u001b[1;32m<ipython-input-51-781db158129c>\u001b[0m in \u001b[0;36m<module>\u001b[1;34m()\u001b[0m\n\u001b[1;32m----> 1\u001b[1;33m \u001b[0mWeek_15_projections\u001b[0m \u001b[1;33m=\u001b[0m \u001b[0mFantasy_Points_Calculator\u001b[0m\u001b[1;33m(\u001b[0m\u001b[0mQB_2017\u001b[0m\u001b[1;33m,\u001b[0m \u001b[1;36m15\u001b[0m\u001b[1;33m)\u001b[0m\u001b[1;33m\u001b[0m\u001b[0m\n\u001b[0m",
      "\u001b[1;31mNameError\u001b[0m: name 'QB_2017' is not defined"
     ]
    }
   ],
   "source": [
    "Week_15_projections = Fantasy_Points_Calculator(QB_2017, 15)"
   ]
  },
  {
   "cell_type": "code",
   "execution_count": null,
   "metadata": {},
   "outputs": [],
   "source": []
  },
  {
   "cell_type": "code",
   "execution_count": 220,
   "metadata": {
    "scrolled": true
   },
   "outputs": [],
   "source": [
    "yards = yard_projections(data, '2014_Peyton Manning', 2, lr_yards, ar_yards)\n",
    "TD = TD_projections(data, '2014_Peyton Manning', 2, lr_TD, ar_TD)\n",
    "Ints = Int_projections(data, '2014_Peyton Manning', 2, lr_Int, ar_Int)"
   ]
  },
  {
   "cell_type": "code",
   "execution_count": 208,
   "metadata": {},
   "outputs": [
    {
     "data": {
      "text/plain": [
       "['g', 'a', 'c']"
      ]
     },
     "execution_count": 208,
     "metadata": {},
     "output_type": "execute_result"
    }
   ],
   "source": []
  },
  {
   "cell_type": "code",
   "execution_count": 128,
   "metadata": {},
   "outputs": [
    {
     "data": {
      "text/html": [
       "<div>\n",
       "<style scoped>\n",
       "    .dataframe tbody tr th:only-of-type {\n",
       "        vertical-align: middle;\n",
       "    }\n",
       "\n",
       "    .dataframe tbody tr th {\n",
       "        vertical-align: top;\n",
       "    }\n",
       "\n",
       "    .dataframe thead th {\n",
       "        text-align: right;\n",
       "    }\n",
       "</style>\n",
       "<table border=\"1\" class=\"dataframe\">\n",
       "  <thead>\n",
       "    <tr style=\"text-align: right;\">\n",
       "      <th></th>\n",
       "      <th>Age</th>\n",
       "      <th>Date</th>\n",
       "      <th>Tm</th>\n",
       "      <th>Opp</th>\n",
       "      <th>Result</th>\n",
       "      <th>G#</th>\n",
       "      <th>Week</th>\n",
       "      <th>Day</th>\n",
       "      <th>Cmp%</th>\n",
       "      <th>TD</th>\n",
       "      <th>...</th>\n",
       "      <th>QBR</th>\n",
       "      <th>Yds_Per_Attempt</th>\n",
       "      <th>Adj_Yd_Per_Attempt</th>\n",
       "      <th>Year</th>\n",
       "      <th>Month</th>\n",
       "      <th>Name</th>\n",
       "      <th>Home_Away</th>\n",
       "      <th>Home_Team</th>\n",
       "      <th>QB_ID</th>\n",
       "      <th>Fantasy_Points</th>\n",
       "    </tr>\n",
       "  </thead>\n",
       "  <tbody>\n",
       "    <tr>\n",
       "      <th>599</th>\n",
       "      <td>38-167</td>\n",
       "      <td>2014-09-07</td>\n",
       "      <td>DEN</td>\n",
       "      <td>IND</td>\n",
       "      <td>W 31-24</td>\n",
       "      <td>1</td>\n",
       "      <td>1</td>\n",
       "      <td>Sun</td>\n",
       "      <td>61.11</td>\n",
       "      <td>3</td>\n",
       "      <td>...</td>\n",
       "      <td>111.9</td>\n",
       "      <td>7.47</td>\n",
       "      <td>9.14</td>\n",
       "      <td>2014</td>\n",
       "      <td>9</td>\n",
       "      <td>Peyton Manning</td>\n",
       "      <td>Home</td>\n",
       "      <td>1</td>\n",
       "      <td>2014_Peyton Manning</td>\n",
       "      <td>28.76</td>\n",
       "    </tr>\n",
       "    <tr>\n",
       "      <th>634</th>\n",
       "      <td>38-230</td>\n",
       "      <td>2014-11-09</td>\n",
       "      <td>DEN</td>\n",
       "      <td>OAK</td>\n",
       "      <td>W 41-17</td>\n",
       "      <td>9</td>\n",
       "      <td>10</td>\n",
       "      <td>Sun</td>\n",
       "      <td>70.45</td>\n",
       "      <td>5</td>\n",
       "      <td>...</td>\n",
       "      <td>111.9</td>\n",
       "      <td>7.73</td>\n",
       "      <td>7.95</td>\n",
       "      <td>2014</td>\n",
       "      <td>11</td>\n",
       "      <td>Peyton Manning</td>\n",
       "      <td>Away</td>\n",
       "      <td>0</td>\n",
       "      <td>2014_Peyton Manning</td>\n",
       "      <td>39.60</td>\n",
       "    </tr>\n",
       "    <tr>\n",
       "      <th>685</th>\n",
       "      <td>38-237</td>\n",
       "      <td>2014-11-16</td>\n",
       "      <td>DEN</td>\n",
       "      <td>STL</td>\n",
       "      <td>L 7-22</td>\n",
       "      <td>10</td>\n",
       "      <td>11</td>\n",
       "      <td>Sun</td>\n",
       "      <td>62.96</td>\n",
       "      <td>1</td>\n",
       "      <td>...</td>\n",
       "      <td>75.3</td>\n",
       "      <td>7.20</td>\n",
       "      <td>5.91</td>\n",
       "      <td>2014</td>\n",
       "      <td>11</td>\n",
       "      <td>Peyton Manning</td>\n",
       "      <td>Away</td>\n",
       "      <td>0</td>\n",
       "      <td>2014_Peyton Manning</td>\n",
       "      <td>17.56</td>\n",
       "    </tr>\n",
       "    <tr>\n",
       "      <th>694</th>\n",
       "      <td>38-244</td>\n",
       "      <td>2014-11-23</td>\n",
       "      <td>DEN</td>\n",
       "      <td>MIA</td>\n",
       "      <td>W 39-36</td>\n",
       "      <td>11</td>\n",
       "      <td>12</td>\n",
       "      <td>Sun</td>\n",
       "      <td>80.00</td>\n",
       "      <td>4</td>\n",
       "      <td>...</td>\n",
       "      <td>135.4</td>\n",
       "      <td>7.34</td>\n",
       "      <td>9.63</td>\n",
       "      <td>2014</td>\n",
       "      <td>11</td>\n",
       "      <td>Peyton Manning</td>\n",
       "      <td>Home</td>\n",
       "      <td>1</td>\n",
       "      <td>2014_Peyton Manning</td>\n",
       "      <td>34.28</td>\n",
       "    </tr>\n",
       "    <tr>\n",
       "      <th>746</th>\n",
       "      <td>38-251</td>\n",
       "      <td>2014-11-30</td>\n",
       "      <td>DEN</td>\n",
       "      <td>KAN</td>\n",
       "      <td>W 29-16</td>\n",
       "      <td>12</td>\n",
       "      <td>13</td>\n",
       "      <td>Sun</td>\n",
       "      <td>50.00</td>\n",
       "      <td>2</td>\n",
       "      <td>...</td>\n",
       "      <td>85.3</td>\n",
       "      <td>5.26</td>\n",
       "      <td>6.44</td>\n",
       "      <td>2014</td>\n",
       "      <td>11</td>\n",
       "      <td>Peyton Manning</td>\n",
       "      <td>Away</td>\n",
       "      <td>0</td>\n",
       "      <td>2014_Peyton Manning</td>\n",
       "      <td>19.16</td>\n",
       "    </tr>\n",
       "    <tr>\n",
       "      <th>793</th>\n",
       "      <td>38-258</td>\n",
       "      <td>2014-12-07</td>\n",
       "      <td>DEN</td>\n",
       "      <td>BUF</td>\n",
       "      <td>W 24-17</td>\n",
       "      <td>13</td>\n",
       "      <td>14</td>\n",
       "      <td>Sun</td>\n",
       "      <td>70.00</td>\n",
       "      <td>0</td>\n",
       "      <td>...</td>\n",
       "      <td>56.9</td>\n",
       "      <td>8.65</td>\n",
       "      <td>4.15</td>\n",
       "      <td>2014</td>\n",
       "      <td>12</td>\n",
       "      <td>Peyton Manning</td>\n",
       "      <td>Home</td>\n",
       "      <td>1</td>\n",
       "      <td>2014_Peyton Manning</td>\n",
       "      <td>2.92</td>\n",
       "    </tr>\n",
       "    <tr>\n",
       "      <th>802</th>\n",
       "      <td>38-265</td>\n",
       "      <td>2014-12-14</td>\n",
       "      <td>DEN</td>\n",
       "      <td>SDG</td>\n",
       "      <td>W 22-10</td>\n",
       "      <td>14</td>\n",
       "      <td>15</td>\n",
       "      <td>Sun</td>\n",
       "      <td>70.00</td>\n",
       "      <td>1</td>\n",
       "      <td>...</td>\n",
       "      <td>125.6</td>\n",
       "      <td>11.65</td>\n",
       "      <td>12.65</td>\n",
       "      <td>2014</td>\n",
       "      <td>12</td>\n",
       "      <td>Peyton Manning</td>\n",
       "      <td>Away</td>\n",
       "      <td>0</td>\n",
       "      <td>2014_Peyton Manning</td>\n",
       "      <td>15.32</td>\n",
       "    </tr>\n",
       "    <tr>\n",
       "      <th>870</th>\n",
       "      <td>38-273</td>\n",
       "      <td>2014-12-22</td>\n",
       "      <td>DEN</td>\n",
       "      <td>CIN</td>\n",
       "      <td>L 28-37</td>\n",
       "      <td>15</td>\n",
       "      <td>16</td>\n",
       "      <td>Mon</td>\n",
       "      <td>63.64</td>\n",
       "      <td>2</td>\n",
       "      <td>...</td>\n",
       "      <td>61.8</td>\n",
       "      <td>7.07</td>\n",
       "      <td>3.89</td>\n",
       "      <td>2014</td>\n",
       "      <td>12</td>\n",
       "      <td>Peyton Manning</td>\n",
       "      <td>Away</td>\n",
       "      <td>0</td>\n",
       "      <td>2014_Peyton Manning</td>\n",
       "      <td>16.44</td>\n",
       "    </tr>\n",
       "    <tr>\n",
       "      <th>901</th>\n",
       "      <td>38-279</td>\n",
       "      <td>2014-12-28</td>\n",
       "      <td>DEN</td>\n",
       "      <td>OAK</td>\n",
       "      <td>W 47-14</td>\n",
       "      <td>16</td>\n",
       "      <td>17</td>\n",
       "      <td>Sun</td>\n",
       "      <td>56.76</td>\n",
       "      <td>0</td>\n",
       "      <td>...</td>\n",
       "      <td>80.1</td>\n",
       "      <td>7.38</td>\n",
       "      <td>7.38</td>\n",
       "      <td>2014</td>\n",
       "      <td>12</td>\n",
       "      <td>Peyton Manning</td>\n",
       "      <td>Home</td>\n",
       "      <td>1</td>\n",
       "      <td>2014_Peyton Manning</td>\n",
       "      <td>10.92</td>\n",
       "    </tr>\n",
       "    <tr>\n",
       "      <th>922</th>\n",
       "      <td>38-174</td>\n",
       "      <td>2014-09-14</td>\n",
       "      <td>DEN</td>\n",
       "      <td>KAN</td>\n",
       "      <td>W 24-17</td>\n",
       "      <td>2</td>\n",
       "      <td>2</td>\n",
       "      <td>Sun</td>\n",
       "      <td>80.77</td>\n",
       "      <td>3</td>\n",
       "      <td>...</td>\n",
       "      <td>143.9</td>\n",
       "      <td>9.31</td>\n",
       "      <td>11.62</td>\n",
       "      <td>2014</td>\n",
       "      <td>9</td>\n",
       "      <td>Peyton Manning</td>\n",
       "      <td>Home</td>\n",
       "      <td>1</td>\n",
       "      <td>2014_Peyton Manning</td>\n",
       "      <td>27.68</td>\n",
       "    </tr>\n",
       "    <tr>\n",
       "      <th>982</th>\n",
       "      <td>38-181</td>\n",
       "      <td>2014-09-21</td>\n",
       "      <td>DEN</td>\n",
       "      <td>SEA</td>\n",
       "      <td>L 20-26</td>\n",
       "      <td>3</td>\n",
       "      <td>3</td>\n",
       "      <td>Sun</td>\n",
       "      <td>63.27</td>\n",
       "      <td>2</td>\n",
       "      <td>...</td>\n",
       "      <td>85.7</td>\n",
       "      <td>6.18</td>\n",
       "      <td>6.08</td>\n",
       "      <td>2014</td>\n",
       "      <td>9</td>\n",
       "      <td>Peyton Manning</td>\n",
       "      <td>Away</td>\n",
       "      <td>0</td>\n",
       "      <td>2014_Peyton Manning</td>\n",
       "      <td>22.12</td>\n",
       "    </tr>\n",
       "    <tr>\n",
       "      <th>1041</th>\n",
       "      <td>38-195</td>\n",
       "      <td>2014-10-05</td>\n",
       "      <td>DEN</td>\n",
       "      <td>ARI</td>\n",
       "      <td>W 41-20</td>\n",
       "      <td>4</td>\n",
       "      <td>5</td>\n",
       "      <td>Sun</td>\n",
       "      <td>65.96</td>\n",
       "      <td>4</td>\n",
       "      <td>...</td>\n",
       "      <td>110.2</td>\n",
       "      <td>10.19</td>\n",
       "      <td>9.98</td>\n",
       "      <td>2014</td>\n",
       "      <td>10</td>\n",
       "      <td>Peyton Manning</td>\n",
       "      <td>Home</td>\n",
       "      <td>1</td>\n",
       "      <td>2014_Peyton Manning</td>\n",
       "      <td>39.16</td>\n",
       "    </tr>\n",
       "    <tr>\n",
       "      <th>1074</th>\n",
       "      <td>38-202</td>\n",
       "      <td>2014-10-12</td>\n",
       "      <td>DEN</td>\n",
       "      <td>NYJ</td>\n",
       "      <td>W 31-17</td>\n",
       "      <td>5</td>\n",
       "      <td>6</td>\n",
       "      <td>Sun</td>\n",
       "      <td>66.67</td>\n",
       "      <td>3</td>\n",
       "      <td>...</td>\n",
       "      <td>117.9</td>\n",
       "      <td>7.18</td>\n",
       "      <td>9.00</td>\n",
       "      <td>2014</td>\n",
       "      <td>10</td>\n",
       "      <td>Peyton Manning</td>\n",
       "      <td>Away</td>\n",
       "      <td>0</td>\n",
       "      <td>2014_Peyton Manning</td>\n",
       "      <td>27.48</td>\n",
       "    </tr>\n",
       "    <tr>\n",
       "      <th>1102</th>\n",
       "      <td>38-209</td>\n",
       "      <td>2014-10-19</td>\n",
       "      <td>DEN</td>\n",
       "      <td>SFO</td>\n",
       "      <td>W 42-17</td>\n",
       "      <td>6</td>\n",
       "      <td>7</td>\n",
       "      <td>Sun</td>\n",
       "      <td>84.62</td>\n",
       "      <td>4</td>\n",
       "      <td>...</td>\n",
       "      <td>157.2</td>\n",
       "      <td>12.23</td>\n",
       "      <td>15.31</td>\n",
       "      <td>2014</td>\n",
       "      <td>10</td>\n",
       "      <td>Peyton Manning</td>\n",
       "      <td>Home</td>\n",
       "      <td>1</td>\n",
       "      <td>2014_Peyton Manning</td>\n",
       "      <td>36.72</td>\n",
       "    </tr>\n",
       "    <tr>\n",
       "      <th>1144</th>\n",
       "      <td>38-213</td>\n",
       "      <td>2014-10-23</td>\n",
       "      <td>DEN</td>\n",
       "      <td>SDG</td>\n",
       "      <td>W 35-21</td>\n",
       "      <td>7</td>\n",
       "      <td>8</td>\n",
       "      <td>Thu</td>\n",
       "      <td>71.43</td>\n",
       "      <td>3</td>\n",
       "      <td>...</td>\n",
       "      <td>124.2</td>\n",
       "      <td>8.17</td>\n",
       "      <td>9.89</td>\n",
       "      <td>2014</td>\n",
       "      <td>10</td>\n",
       "      <td>Peyton Manning</td>\n",
       "      <td>Home</td>\n",
       "      <td>1</td>\n",
       "      <td>2014_Peyton Manning</td>\n",
       "      <td>29.44</td>\n",
       "    </tr>\n",
       "    <tr>\n",
       "      <th>1194</th>\n",
       "      <td>38-223</td>\n",
       "      <td>2014-11-02</td>\n",
       "      <td>DEN</td>\n",
       "      <td>NWE</td>\n",
       "      <td>L 21-43</td>\n",
       "      <td>8</td>\n",
       "      <td>9</td>\n",
       "      <td>Sun</td>\n",
       "      <td>59.65</td>\n",
       "      <td>2</td>\n",
       "      <td>...</td>\n",
       "      <td>80.9</td>\n",
       "      <td>7.68</td>\n",
       "      <td>6.81</td>\n",
       "      <td>2014</td>\n",
       "      <td>11</td>\n",
       "      <td>Peyton Manning</td>\n",
       "      <td>Away</td>\n",
       "      <td>0</td>\n",
       "      <td>2014_Peyton Manning</td>\n",
       "      <td>25.52</td>\n",
       "    </tr>\n",
       "  </tbody>\n",
       "</table>\n",
       "<p>16 rows × 27 columns</p>\n",
       "</div>"
      ],
      "text/plain": [
       "         Age        Date   Tm  Opp   Result  G#  Week  Day   Cmp%  TD  \\\n",
       "599   38-167  2014-09-07  DEN  IND  W 31-24   1     1  Sun  61.11   3   \n",
       "634   38-230  2014-11-09  DEN  OAK  W 41-17   9    10  Sun  70.45   5   \n",
       "685   38-237  2014-11-16  DEN  STL   L 7-22  10    11  Sun  62.96   1   \n",
       "694   38-244  2014-11-23  DEN  MIA  W 39-36  11    12  Sun  80.00   4   \n",
       "746   38-251  2014-11-30  DEN  KAN  W 29-16  12    13  Sun  50.00   2   \n",
       "793   38-258  2014-12-07  DEN  BUF  W 24-17  13    14  Sun  70.00   0   \n",
       "802   38-265  2014-12-14  DEN  SDG  W 22-10  14    15  Sun  70.00   1   \n",
       "870   38-273  2014-12-22  DEN  CIN  L 28-37  15    16  Mon  63.64   2   \n",
       "901   38-279  2014-12-28  DEN  OAK  W 47-14  16    17  Sun  56.76   0   \n",
       "922   38-174  2014-09-14  DEN  KAN  W 24-17   2     2  Sun  80.77   3   \n",
       "982   38-181  2014-09-21  DEN  SEA  L 20-26   3     3  Sun  63.27   2   \n",
       "1041  38-195  2014-10-05  DEN  ARI  W 41-20   4     5  Sun  65.96   4   \n",
       "1074  38-202  2014-10-12  DEN  NYJ  W 31-17   5     6  Sun  66.67   3   \n",
       "1102  38-209  2014-10-19  DEN  SFO  W 42-17   6     7  Sun  84.62   4   \n",
       "1144  38-213  2014-10-23  DEN  SDG  W 35-21   7     8  Thu  71.43   3   \n",
       "1194  38-223  2014-11-02  DEN  NWE  L 21-43   8     9  Sun  59.65   2   \n",
       "\n",
       "           ...          QBR  Yds_Per_Attempt  Adj_Yd_Per_Attempt  Year  Month  \\\n",
       "599        ...        111.9             7.47                9.14  2014      9   \n",
       "634        ...        111.9             7.73                7.95  2014     11   \n",
       "685        ...         75.3             7.20                5.91  2014     11   \n",
       "694        ...        135.4             7.34                9.63  2014     11   \n",
       "746        ...         85.3             5.26                6.44  2014     11   \n",
       "793        ...         56.9             8.65                4.15  2014     12   \n",
       "802        ...        125.6            11.65               12.65  2014     12   \n",
       "870        ...         61.8             7.07                3.89  2014     12   \n",
       "901        ...         80.1             7.38                7.38  2014     12   \n",
       "922        ...        143.9             9.31               11.62  2014      9   \n",
       "982        ...         85.7             6.18                6.08  2014      9   \n",
       "1041       ...        110.2            10.19                9.98  2014     10   \n",
       "1074       ...        117.9             7.18                9.00  2014     10   \n",
       "1102       ...        157.2            12.23               15.31  2014     10   \n",
       "1144       ...        124.2             8.17                9.89  2014     10   \n",
       "1194       ...         80.9             7.68                6.81  2014     11   \n",
       "\n",
       "                Name  Home_Away  Home_Team                QB_ID  \\\n",
       "599   Peyton Manning       Home          1  2014_Peyton Manning   \n",
       "634   Peyton Manning       Away          0  2014_Peyton Manning   \n",
       "685   Peyton Manning       Away          0  2014_Peyton Manning   \n",
       "694   Peyton Manning       Home          1  2014_Peyton Manning   \n",
       "746   Peyton Manning       Away          0  2014_Peyton Manning   \n",
       "793   Peyton Manning       Home          1  2014_Peyton Manning   \n",
       "802   Peyton Manning       Away          0  2014_Peyton Manning   \n",
       "870   Peyton Manning       Away          0  2014_Peyton Manning   \n",
       "901   Peyton Manning       Home          1  2014_Peyton Manning   \n",
       "922   Peyton Manning       Home          1  2014_Peyton Manning   \n",
       "982   Peyton Manning       Away          0  2014_Peyton Manning   \n",
       "1041  Peyton Manning       Home          1  2014_Peyton Manning   \n",
       "1074  Peyton Manning       Away          0  2014_Peyton Manning   \n",
       "1102  Peyton Manning       Home          1  2014_Peyton Manning   \n",
       "1144  Peyton Manning       Home          1  2014_Peyton Manning   \n",
       "1194  Peyton Manning       Away          0  2014_Peyton Manning   \n",
       "\n",
       "      Fantasy_Points  \n",
       "599            28.76  \n",
       "634            39.60  \n",
       "685            17.56  \n",
       "694            34.28  \n",
       "746            19.16  \n",
       "793             2.92  \n",
       "802            15.32  \n",
       "870            16.44  \n",
       "901            10.92  \n",
       "922            27.68  \n",
       "982            22.12  \n",
       "1041           39.16  \n",
       "1074           27.48  \n",
       "1102           36.72  \n",
       "1144           29.44  \n",
       "1194           25.52  \n",
       "\n",
       "[16 rows x 27 columns]"
      ]
     },
     "execution_count": 128,
     "metadata": {},
     "output_type": "execute_result"
    }
   ],
   "source": [
    "data.loc[data['QB_ID']=='2014_Peyton Manning']"
   ]
  },
  {
   "cell_type": "code",
   "execution_count": 97,
   "metadata": {},
   "outputs": [
    {
     "data": {
      "text/plain": [
       "599     269\n",
       "634     340\n",
       "685     389\n",
       "694     257\n",
       "746     179\n",
       "793     173\n",
       "802     233\n",
       "870     311\n",
       "901     273\n",
       "922     242\n",
       "982     303\n",
       "1041    479\n",
       "1074    237\n",
       "1102    318\n",
       "1144    286\n",
       "1194    438\n",
       "Name: Passing_Yards, dtype: int64"
      ]
     },
     "execution_count": 97,
     "metadata": {},
     "output_type": "execute_result"
    }
   ],
   "source": [
    "data['Passing_Yards'].loc[data['QB_ID']=='2014_Peyton Manning']"
   ]
  },
  {
   "cell_type": "code",
   "execution_count": 74,
   "metadata": {},
   "outputs": [
    {
     "data": {
      "text/plain": [
       "0    462\n",
       "Name: Passing_Yards, dtype: int64"
      ]
     },
     "execution_count": 74,
     "metadata": {},
     "output_type": "execute_result"
    }
   ],
   "source": [
    "data['Passing_Yards'][]"
   ]
  },
  {
   "cell_type": "code",
   "execution_count": 242,
   "metadata": {},
   "outputs": [],
   "source": [
    "p_13_hat = lr_yards.predict(peyton_13)"
   ]
  },
  {
   "cell_type": "code",
   "execution_count": 243,
   "metadata": {},
   "outputs": [
    {
     "data": {
      "text/plain": [
       "array([ 332.25375778,  321.20055572,  275.37970925,  205.20029177,\n",
       "        320.42678748,  397.25766565,  297.78777995,  354.3627831 ,\n",
       "        271.76038609,  315.26899881,  340.52211455,  330.59862009,\n",
       "        383.98076174,  305.25320622,  338.63383161,  362.27231315])"
      ]
     },
     "execution_count": 243,
     "metadata": {},
     "output_type": "execute_result"
    }
   ],
   "source": [
    "p_13_hat"
   ]
  },
  {
   "cell_type": "code",
   "execution_count": 252,
   "metadata": {},
   "outputs": [
    {
     "data": {
      "text/html": [
       "<div>\n",
       "<style scoped>\n",
       "    .dataframe tbody tr th:only-of-type {\n",
       "        vertical-align: middle;\n",
       "    }\n",
       "\n",
       "    .dataframe tbody tr th {\n",
       "        vertical-align: top;\n",
       "    }\n",
       "\n",
       "    .dataframe thead th {\n",
       "        text-align: right;\n",
       "    }\n",
       "</style>\n",
       "<table border=\"1\" class=\"dataframe\">\n",
       "  <thead>\n",
       "    <tr style=\"text-align: right;\">\n",
       "      <th></th>\n",
       "      <th>Cmp%</th>\n",
       "      <th>TD</th>\n",
       "      <th>Int</th>\n",
       "      <th>Sack</th>\n",
       "      <th>Completions</th>\n",
       "      <th>Attempts</th>\n",
       "      <th>Sack_Yards</th>\n",
       "      <th>QBR</th>\n",
       "    </tr>\n",
       "  </thead>\n",
       "  <tbody>\n",
       "    <tr>\n",
       "      <th>0</th>\n",
       "      <td>64.29</td>\n",
       "      <td>7</td>\n",
       "      <td>0</td>\n",
       "      <td>3</td>\n",
       "      <td>27</td>\n",
       "      <td>42</td>\n",
       "      <td>17</td>\n",
       "      <td>141.1</td>\n",
       "    </tr>\n",
       "    <tr>\n",
       "      <th>37</th>\n",
       "      <td>69.44</td>\n",
       "      <td>4</td>\n",
       "      <td>0</td>\n",
       "      <td>2</td>\n",
       "      <td>25</td>\n",
       "      <td>36</td>\n",
       "      <td>17</td>\n",
       "      <td>135.2</td>\n",
       "    </tr>\n",
       "    <tr>\n",
       "      <th>78</th>\n",
       "      <td>60.00</td>\n",
       "      <td>1</td>\n",
       "      <td>0</td>\n",
       "      <td>0</td>\n",
       "      <td>24</td>\n",
       "      <td>40</td>\n",
       "      <td>0</td>\n",
       "      <td>94.1</td>\n",
       "    </tr>\n",
       "    <tr>\n",
       "      <th>127</th>\n",
       "      <td>52.78</td>\n",
       "      <td>2</td>\n",
       "      <td>1</td>\n",
       "      <td>2</td>\n",
       "      <td>19</td>\n",
       "      <td>36</td>\n",
       "      <td>18</td>\n",
       "      <td>70.4</td>\n",
       "    </tr>\n",
       "    <tr>\n",
       "      <th>141</th>\n",
       "      <td>62.86</td>\n",
       "      <td>5</td>\n",
       "      <td>2</td>\n",
       "      <td>0</td>\n",
       "      <td>22</td>\n",
       "      <td>35</td>\n",
       "      <td>0</td>\n",
       "      <td>118.2</td>\n",
       "    </tr>\n",
       "  </tbody>\n",
       "</table>\n",
       "</div>"
      ],
      "text/plain": [
       "      Cmp%  TD  Int  Sack  Completions  Attempts  Sack_Yards    QBR\n",
       "0    64.29   7    0     3           27        42          17  141.1\n",
       "37   69.44   4    0     2           25        36          17  135.2\n",
       "78   60.00   1    0     0           24        40           0   94.1\n",
       "127  52.78   2    1     2           19        36          18   70.4\n",
       "141  62.86   5    2     0           22        35           0  118.2"
      ]
     },
     "execution_count": 252,
     "metadata": {},
     "output_type": "execute_result"
    }
   ],
   "source": [
    "peyton_13.head()"
   ]
  },
  {
   "cell_type": "code",
   "execution_count": 280,
   "metadata": {},
   "outputs": [],
   "source": [
    "## Break Down By Week\n",
    "Week1_df = data.loc[data['Week']==1]\n",
    "Week2_df = data.loc[data['Week']==2]\n",
    "Week3_df = data.loc[data['Week']==3]\n",
    "Week4_df = data.loc[data['Week']==4]\n",
    "Week5_df = data.loc[data['Week']==5]\n",
    "Week6_df = data.loc[data['Week']==6]\n",
    "Week7_df = data.loc[data['Week']==7]\n",
    "Week8_df = data.loc[data['Week']==8]\n",
    "Week9_df = data.loc[data['Week']==9]\n",
    "Week10_df = data.loc[data['Week']==10]\n",
    "Week11_df = data.loc[data['Week']==11]\n",
    "Week12_df = data.loc[data['Week']==12]\n",
    "Week13_df = data.loc[data['Week']==13]\n",
    "Week14_df = data.loc[data['Week']==14]\n",
    "Week15_df = data.loc[data['Week']==15]\n",
    "Week16_df = data.loc[data['Week']==16]\n",
    "Week17_df = data.loc[data['Week']==17]\n",
    "\n",
    "## Break Down By Season\n",
    "df_2017 = data.loc[data['Year']==2017]\n",
    "df_2016 = data.loc[data['Year']==2016]\n",
    "df_2015 = data.loc[data['Year']==2015]\n",
    "df_2014 = data.loc[data['Year']==2014]\n",
    "df_2013 = data.loc[data['Year']==2013]"
   ]
  },
  {
   "cell_type": "markdown",
   "metadata": {},
   "source": [
    "average out of sample prediction streams"
   ]
  },
  {
   "cell_type": "code",
   "execution_count": null,
   "metadata": {},
   "outputs": [],
   "source": []
  }
 ],
 "metadata": {
  "kernelspec": {
   "display_name": "Python 3",
   "language": "python",
   "name": "python3"
  },
  "language_info": {
   "codemirror_mode": {
    "name": "ipython",
    "version": 3
   },
   "file_extension": ".py",
   "mimetype": "text/x-python",
   "name": "python",
   "nbconvert_exporter": "python",
   "pygments_lexer": "ipython3",
   "version": "3.6.3"
  }
 },
 "nbformat": 4,
 "nbformat_minor": 2
}
