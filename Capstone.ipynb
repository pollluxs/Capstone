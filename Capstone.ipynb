{
 "cells": [
  {
   "cell_type": "code",
   "execution_count": 71,
   "metadata": {},
   "outputs": [],
   "source": [
    "import pandas as pd\n",
    "import numpy as np\n",
    "import os\n",
    "from statsmodels.tsa.arima_model import _arma_predict_out_of_sample\n",
    "from sklearn.linear_model import LinearRegression\n",
    "from statsmodels.tsa.arima_model import ARMA\n",
    "from statsmodels.tsa.stattools import adfuller"
   ]
  },
  {
   "cell_type": "markdown",
   "metadata": {},
   "source": [
    "### Importing & Building Raw Data Set"
   ]
  },
  {
   "cell_type": "code",
   "execution_count": 20,
   "metadata": {},
   "outputs": [],
   "source": [
    "file_lst = os.listdir('./raw_data_nfl_QB/')\n",
    "for idx,f in enumerate(file_lst):\n",
    "    if idx == 0:\n",
    "        data = pd.read_csv('./raw_data_nfl_QB/{}'.format(f))\n",
    "    else:\n",
    "        temp_df = pd.read_csv('./raw_data_nfl_QB/{}'.format(f))\n",
    "        data = pd.concat([data,temp_df],axis = 0)"
   ]
  },
  {
   "cell_type": "code",
   "execution_count": 21,
   "metadata": {},
   "outputs": [],
   "source": [
    "data.reset_index(inplace=True)"
   ]
  },
  {
   "cell_type": "markdown",
   "metadata": {},
   "source": [
    "### Renaming"
   ]
  },
  {
   "cell_type": "code",
   "execution_count": 22,
   "metadata": {},
   "outputs": [],
   "source": [
    "data['Rank_QBR'] = data['Rk']\n",
    "data['Sack'] = data['Sk']\n",
    "data['Completions'] = data['Cmp']\n",
    "data['Attempts'] = data['Att']\n",
    "data['Passing_Yards'] = data['Yds']\n",
    "data['Sack_Yards'] = data['Yds.1']\n",
    "data['QBR'] = data['Rate']\n",
    "data['Yds_Per_Attempt'] =  data['Y/A']\n",
    "data['Adj_Yd_Per_Attempt'] = data['AY/A']"
   ]
  },
  {
   "cell_type": "markdown",
   "metadata": {},
   "source": [
    "### Feature Engineering"
   ]
  },
  {
   "cell_type": "markdown",
   "metadata": {},
   "source": [
    "Assuming basic scoring for calculation of fantasy points column \n",
    "\n",
    "    25 yards = 1 pt\n",
    "    1 TD = 6 pts\n",
    "    1 Int = -2 pts"
   ]
  },
  {
   "cell_type": "code",
   "execution_count": 23,
   "metadata": {},
   "outputs": [],
   "source": [
    "data['Year'] = data['Date'].str.split('-', 1, expand=True)[0]\n",
    "data['Year'] = data['Year'].astype(str).astype(int)\n",
    "data['Month'] = data['Date'].str.split('-', 2, expand=True)[1]\n",
    "data['Month'] = data['Month'].astype(str).astype(int)\n",
    "data['Name'] = data['Unnamed: 1'].str.split('\\\\', 1, expand=True)[0]\n",
    "data['Home_Away'] = (data['Unnamed: 6']=='@').map({False:'Home', True:'Away'})\n",
    "data['Home_Team'] = (data['Home_Away']=='Home').map({True:1, False:0})\n",
    "data['Fantasy_Points'] = (data['Passing_Yards']/25)+(data['TD']*6)-(data['Int']*2)"
   ]
  },
  {
   "cell_type": "code",
   "execution_count": 24,
   "metadata": {},
   "outputs": [],
   "source": [
    "QB_ID = []\n",
    "for a, b in zip(data['Year'], data['Name']):\n",
    "    Qid = '{}_{}'.format(a,b)\n",
    "    QB_ID.append(Qid)\n",
    "    \n",
    "data['QB_ID'] = QB_ID"
   ]
  },
  {
   "cell_type": "markdown",
   "metadata": {},
   "source": [
    "### Dropping Irrelevant & Redundant Columns"
   ]
  },
  {
   "cell_type": "code",
   "execution_count": 25,
   "metadata": {},
   "outputs": [],
   "source": [
    "## Dropping Columns that have been renamed or are irrelevant('Lg')\n",
    "drop_cols = ['Rk', 'Sk', 'Cmp', 'Yds', 'Lg', 'Att', 'Yds', 'Yds.1',\n",
    "             'Rate', 'Y/A', 'AY/A', 'index', 'Unnamed: 1', 'Unnamed: 6']\n",
    "data.drop(drop_cols, axis=1, inplace=True)"
   ]
  },
  {
   "cell_type": "markdown",
   "metadata": {},
   "source": [
    "### Trimming Dataframe to Passing Attempts >= 10"
   ]
  },
  {
   "cell_type": "code",
   "execution_count": 30,
   "metadata": {},
   "outputs": [],
   "source": [
    "## Dropping Attempts Below 5\n",
    "data = data.loc[data['Attempts']>=10]"
   ]
  },
  {
   "cell_type": "code",
   "execution_count": 31,
   "metadata": {},
   "outputs": [
    {
     "data": {
      "text/plain": [
       "Index(['Age', 'Date', 'Tm', 'Opp', 'Result', 'G#', 'Week', 'Day', 'Cmp%', 'TD',\n",
       "       'Int', 'Rank_QBR', 'Sack', 'Completions', 'Attempts', 'Passing_Yards',\n",
       "       'Sack_Yards', 'QBR', 'Yds_Per_Attempt', 'Adj_Yd_Per_Attempt', 'Year',\n",
       "       'Month', 'Name', 'Home_Away', 'Home_Team', 'Fantasy_Points', 'QB_ID'],\n",
       "      dtype='object')"
      ]
     },
     "execution_count": 31,
     "metadata": {},
     "output_type": "execute_result"
    }
   ],
   "source": [
    "data.columns"
   ]
  },
  {
   "cell_type": "markdown",
   "metadata": {},
   "source": [
    "### Check for Stationarity"
   ]
  },
  {
   "cell_type": "code",
   "execution_count": 32,
   "metadata": {},
   "outputs": [],
   "source": [
    "results_Yds = adfuller(data['Passing_Yards'].values)\n",
    "results_TD = adfuller(data['TD'].values)\n",
    "results_Int = adfuller(data['Int'].values)"
   ]
  },
  {
   "cell_type": "code",
   "execution_count": 33,
   "metadata": {
    "scrolled": true
   },
   "outputs": [
    {
     "name": "stdout",
     "output_type": "stream",
     "text": [
      "Yards Dickey Fuller Test\n",
      "-9.9578607912 T-Statistic\n",
      "2.41723576211e-17 P_value\n",
      "{'1%': -3.4329527780962255, '5%': -2.8626898965523724, '10%': -2.567382133955709} Critical Values\n",
      "TD Dickey Fuller Test\n",
      "-11.2758637549 T-Statistic\n",
      "1.49719912924e-20 P_value\n",
      "{'1%': -3.4329527780962255, '5%': -2.8626898965523724, '10%': -2.567382133955709} Critical Values\n",
      "Int Dickey Fuller Test\n",
      "-11.7313487594 T-Statistic\n",
      "1.33935739303e-21 P_value\n",
      "{'1%': -3.4329527780962255, '5%': -2.8626898965523724, '10%': -2.567382133955709} Critical Values\n"
     ]
    }
   ],
   "source": [
    "print('Yards Dickey Fuller Test')\n",
    "print(results_Yds[0], 'T-Statistic')\n",
    "print(results_Yds[1], 'P_value')\n",
    "print(results_Yds[4], 'Critical Values')\n",
    "print('TD Dickey Fuller Test')\n",
    "print(results_TD[0], 'T-Statistic')\n",
    "print(results_TD[1], 'P_value')\n",
    "print(results_TD[4], 'Critical Values')\n",
    "print('Int Dickey Fuller Test')\n",
    "print(results_Int[0], 'T-Statistic')\n",
    "print(results_Int[1], 'P_value')\n",
    "print(results_Int[4], 'Critical Values')"
   ]
  },
  {
   "cell_type": "markdown",
   "metadata": {},
   "source": [
    "##### shows variables are stationary"
   ]
  },
  {
   "cell_type": "markdown",
   "metadata": {},
   "source": [
    "### Setting Functions & Models For Fantasy Relevant Statistics"
   ]
  },
  {
   "cell_type": "markdown",
   "metadata": {},
   "source": [
    "#### Yards"
   ]
  },
  {
   "cell_type": "code",
   "execution_count": 72,
   "metadata": {},
   "outputs": [],
   "source": [
    "X = data[['Cmp%', 'TD', 'Int', 'Sack', 'Completions', 'Attempts','Sack_Yards', 'QBR']]\n",
    "y = data['Passing_Yards']\n",
    "lr_yards = LinearRegression()\n",
    "lr_yards.fit(X,y)\n",
    "predict_yards = lr_yards.predict(X)\n",
    "residuals = predict_yards - y.values\n",
    "ar_yards = ARMA(residuals, (2,1)).fit()"
   ]
  },
  {
   "cell_type": "code",
   "execution_count": 73,
   "metadata": {},
   "outputs": [],
   "source": [
    "def yard_projections(mstr_df,qb_id,week,lr_yards,ar_yards):\n",
    "    '''\n",
    "    mstr_df: Pandas DF; master df with all qbs in all years and all weeks\n",
    "    qb_id: string; the id of the QB you want to make a prediction\n",
    "    week: int, predicting week\n",
    "    lr_yards: linear regression model for yards\n",
    "    ar_yards: ARMA model object for yards residuals\n",
    "    \n",
    "    '''\n",
    "    ycol = ['Passing_Yards'] ## Target Variable\n",
    "    Xcols = ['Cmp%', 'TD', 'Int', 'Sack', 'Completions', 'Attempts','Sack_Yards', 'QBR'] ## predictors\n",
    "    ## create temp df for each QB by Year and week\n",
    "    ## then reset index\n",
    "    temp_df = mstr_df[mstr_df['QB_ID'] == qb_id]\n",
    "    temp_df = temp_df.sort_values('G#')\n",
    "    temp_df.reset_index(inplace=True)\n",
    "    X = temp_df[Xcols]\n",
    "    y = temp_df[ycol]\n",
    "    ## grabbing the weeks before the week specified\n",
    "    w = week-1\n",
    "    prev_weeks = temp_df[:w][Xcols]\n",
    "    y_pred = lr_yards.predict(prev_weeks)\n",
    "    resid = np.array(y[ycol][:w]).flatten()-y_pred\n",
    "    dates = temp_df.index\n",
    "    params = ar_yards.params\n",
    "    residuals = ar_yards.resid\n",
    "    p = ar_yards.k_ar\n",
    "    q = ar_yards.k_ma\n",
    "    k_exog = ar_yards.k_exog\n",
    "    k_trend = ar_yards.k_trend\n",
    "    steps = 1\n",
    "\n",
    "    \n",
    "    oos_predictions_yards_resid = _arma_predict_out_of_sample(params, steps, residuals, \n",
    "                                    p, q, k_trend, k_exog, \n",
    "                                    endog=resid, exog=None, start=w+1)\n",
    "    \n",
    "    pred_yds = oos_predictions_yards_resid + (y_pred.sum()/week)\n",
    "    return pred_yds"
   ]
  },
  {
   "cell_type": "markdown",
   "metadata": {},
   "source": [
    "#### Touchdowns"
   ]
  },
  {
   "cell_type": "code",
   "execution_count": 74,
   "metadata": {},
   "outputs": [],
   "source": [
    "X = data[['Cmp%', 'Passing_Yards', 'Int', 'Sack', 'Completions', 'Attempts','Sack_Yards', 'QBR']]\n",
    "y = data['TD']\n",
    "lr_TD = LinearRegression()\n",
    "lr_TD.fit(X,y)\n",
    "predict_TD = lr_TD.predict(X)\n",
    "residuals = predict_TD - y.values\n",
    "ar_TD = ARMA(residuals, (2,1)).fit()"
   ]
  },
  {
   "cell_type": "code",
   "execution_count": 75,
   "metadata": {},
   "outputs": [],
   "source": [
    "def TD_projections(mstr_df,qb_id,week,lr_TD,ar_TD):\n",
    "    '''\n",
    "    mstr_df: Pandas DF; master df with all qbs in all years and all weeks\n",
    "    qb_id: string; the id of the qq you want to make a prediction\n",
    "    week: int, predicting week\n",
    "    lr_TD: linear regression model for touchdowns\n",
    "    ar_TD: ARMA model object for touchdowns residuals\n",
    "    \n",
    "    '''\n",
    "    ycol = ['TD'] ## Target Variable\n",
    "    Xcols = ['Cmp%', 'Passing_Yards', 'Int', 'Sack', 'Completions', 'Attempts','Sack_Yards', 'QBR'] ## predictors\n",
    "    ## create temp df for each QB by Year and week\n",
    "    ## then reset index\n",
    "    temp_df = mstr_df[mstr_df['QB_ID'] == qb_id]\n",
    "    temp_df = temp_df.sort_values('G#')\n",
    "    temp_df.reset_index(inplace=True)\n",
    "    X = temp_df[Xcols]\n",
    "    y = temp_df[ycol]\n",
    "    ## grabbing the weeks before the week specified\n",
    "    w = week-1\n",
    "    prev_weeks = temp_df[:w][Xcols]\n",
    "    y_pred = lr_TD.predict(prev_weeks)\n",
    "    resid = np.array(y[ycol][:w]).flatten()-y_pred\n",
    "    dates = temp_df.index\n",
    "    params = ar_TD.params\n",
    "    residuals = ar_TD.resid\n",
    "    p = ar_TD.k_ar\n",
    "    q = ar_TD.k_ma\n",
    "    k_exog = ar_TD.k_exog\n",
    "    k_trend = ar_TD.k_trend\n",
    "    steps = 1\n",
    "    \n",
    "    oos_predictions_TD_resid = _arma_predict_out_of_sample(params, steps, residuals, \n",
    "                                    p, q, k_trend, k_exog, \n",
    "                                    endog=resid, exog=None, start=w+1)\n",
    "    \n",
    "    pred_TD = oos_predictions_TD_resid + (y_pred.sum()/week)\n",
    "    return pred_TD"
   ]
  },
  {
   "cell_type": "markdown",
   "metadata": {},
   "source": [
    "#### Interceptions"
   ]
  },
  {
   "cell_type": "code",
   "execution_count": 76,
   "metadata": {},
   "outputs": [],
   "source": [
    "X = data[['Cmp%', 'Passing_Yards', 'TD', 'Sack', 'Completions', 'Attempts','Sack_Yards', 'QBR']]\n",
    "y = data['Int']\n",
    "lr_Int = LinearRegression()\n",
    "lr_Int.fit(X,y)\n",
    "predict_Int = lr_Int.predict(X)\n",
    "residuals = predict_Int - y.values\n",
    "ar_Int = ARMA(residuals, (2,1)).fit()"
   ]
  },
  {
   "cell_type": "code",
   "execution_count": 77,
   "metadata": {},
   "outputs": [],
   "source": [
    "def Int_projections(mstr_df,qb_id,week,lr_Int,ar_Int):\n",
    "    '''\n",
    "    mstr_df: Pandas DF; master df with all qbs in all years and all weeks\n",
    "    qb_id: string; the id of the qq you want to make a prediction\n",
    "    week: int, predicting week\n",
    "    lr_Int: linear regression model for interceptions\n",
    "    ar_Int: ARMA model object for interceptions residuals\n",
    "    \n",
    "    '''\n",
    "    ycol = ['Int'] ## Target Variable\n",
    "    Xcols = ['Cmp%', 'Passing_Yards', 'TD', 'Sack', 'Completions', 'Attempts','Sack_Yards', 'QBR'] ## predictors\n",
    "    ## create temp df for each QB by Year and week\n",
    "    ## then reset index\n",
    "    temp_df = mstr_df[mstr_df['QB_ID'] == qb_id]\n",
    "    temp_df = temp_df.sort_values('G#')\n",
    "    temp_df.reset_index(inplace=True)\n",
    "    X = temp_df[Xcols]\n",
    "    y = temp_df[ycol]\n",
    "    ## grabbing the weeks before the week specified\n",
    "    w = week-1\n",
    "    prev_weeks = temp_df[:w][Xcols]\n",
    "    y_pred = lr_Int.predict(prev_weeks)\n",
    "    resid = np.array(y[ycol][:w]).flatten()-y_pred\n",
    "    dates = temp_df.index\n",
    "    params = ar_Int.params\n",
    "    residuals = ar_Int.resid\n",
    "    p = ar_Int.k_ar\n",
    "    q = ar_Int.k_ma\n",
    "    k_exog = ar_Int.k_exog\n",
    "    k_trend = ar_Int.k_trend\n",
    "    steps = 1\n",
    "\n",
    "    oos_predictions_Int_resid = _arma_predict_out_of_sample(params, steps, residuals, \n",
    "                                    p, q, k_trend, k_exog, \n",
    "                                    endog=resid, exog=None, start=w+1)\n",
    "\n",
    "    pred_Int = oos_predictions_Int_resid + (y_pred.sum()/week)\n",
    "    return pred_Int"
   ]
  },
  {
   "cell_type": "markdown",
   "metadata": {},
   "source": [
    "### Calculating Fantasy Point Projections"
   ]
  },
  {
   "cell_type": "markdown",
   "metadata": {},
   "source": [
    "#### Function "
   ]
  },
  {
   "cell_type": "code",
   "execution_count": 78,
   "metadata": {},
   "outputs": [],
   "source": [
    "def Fantasy_Points_Calculator(QB_ID, week):\n",
    "    Fantasy_point_prediction = (((yard_projections(data, QB_ID, week, lr_yards, ar_yards))/25)\n",
    "    +((TD_projections(data, QB_ID, week, lr_TD, ar_TD))*6)\n",
    "    -((Int_projections(data, QB_ID, week, lr_Int, ar_Int))*2))\n",
    "    return Fantasy_point_prediction"
   ]
  },
  {
   "cell_type": "code",
   "execution_count": 79,
   "metadata": {},
   "outputs": [],
   "source": [
    "## Break Down By Week\n",
    "Week1_df = data.loc[data['Week']==1]\n",
    "Week2_df = data.loc[data['Week']==2]\n",
    "Week3_df = data.loc[data['Week']==3]\n",
    "Week4_df = data.loc[data['Week']==4]\n",
    "Week5_df = data.loc[data['Week']==5]\n",
    "Week6_df = data.loc[data['Week']==6]\n",
    "Week7_df = data.loc[data['Week']==7]\n",
    "Week8_df = data.loc[data['Week']==8]\n",
    "Week9_df = data.loc[data['Week']==9]\n",
    "Week10_df = data.loc[data['Week']==10]\n",
    "Week11_df = data.loc[data['Week']==11]\n",
    "Week12_df = data.loc[data['Week']==12]\n",
    "Week13_df = data.loc[data['Week']==13]\n",
    "Week14_df = data.loc[data['Week']==14]\n",
    "Week15_df = data.loc[data['Week']==15]\n",
    "Week16_df = data.loc[data['Week']==16]\n",
    "Week17_df = data.loc[data['Week']==17]\n",
    "\n",
    "## Break Down By Season\n",
    "\n",
    "df_2016 = data.loc[data['Year']==2016]\n",
    "df_2015 = data.loc[data['Year']==2015]\n",
    "df_2014 = data.loc[data['Year']==2014]\n",
    "df_2013 = data.loc[data['Year']==2013]"
   ]
  },
  {
   "cell_type": "code",
   "execution_count": 80,
   "metadata": {},
   "outputs": [],
   "source": [
    "qbs_2017_14 = Week14_df.loc[Week14_df['QB_ID'].str.split('_', 1, expand=True)[0]=='2017']\n",
    "qbs_2017_13 = Week13_df.loc[Week13_df['QB_ID'].str.split('_', 1, expand=True)[0]=='2017']\n",
    "qbs_2017_12 = Week12_df.loc[Week12_df['QB_ID'].str.split('_', 1, expand=True)[0]=='2017']\n",
    "qbs_2017_11 = Week11_df.loc[Week11_df['QB_ID'].str.split('_', 1, expand=True)[0]=='2017']"
   ]
  },
  {
   "cell_type": "code",
   "execution_count": 81,
   "metadata": {},
   "outputs": [],
   "source": [
    "qbs14 = np.array(qbs_2017_14['QB_ID'])\n",
    "qbs13 = np.array(qbs_2017_13['QB_ID'])\n",
    "qbs12 = np.array(qbs_2017_12['QB_ID'])\n",
    "qbs11 = np.array(qbs_2017_11['QB_ID'])"
   ]
  },
  {
   "cell_type": "code",
   "execution_count": 82,
   "metadata": {},
   "outputs": [],
   "source": [
    "qbs_1merge = list(set(qbs14).intersection(qbs13))\n",
    "qbs_2merge = list(set(qbs_1merge).intersection(qbs12))\n",
    "qbs = list(set(qbs_2merge).intersection(qbs11))"
   ]
  },
  {
   "cell_type": "code",
   "execution_count": 83,
   "metadata": {},
   "outputs": [],
   "source": [
    "qbs_working= ['2017_Tom Brady', '2017_Blake Bortles', \n",
    "              '2017_Alex Smith', '2017_Russell Wilson', '2017_Drew Brees', \n",
    "              '2017_Joe Flacco', '2017_Philip Rivers', \n",
    "              '2017_Matthew Stafford', '2017_Kirk Cousins', '2017_Jared Goff']"
   ]
  },
  {
   "cell_type": "code",
   "execution_count": 84,
   "metadata": {},
   "outputs": [],
   "source": [
    "week_15_projections = []\n",
    "for i in qbs_working:\n",
    "    projections = Fantasy_Points_Calculator(i, 15)[0]\n",
    "    week_15_projections.append(projections)"
   ]
  },
  {
   "cell_type": "code",
   "execution_count": 85,
   "metadata": {},
   "outputs": [],
   "source": [
    "proj_df = pd.DataFrame(week_15_projections)\n",
    "proj_df['Projections'] = proj_df[0]"
   ]
  },
  {
   "cell_type": "code",
   "execution_count": 86,
   "metadata": {},
   "outputs": [],
   "source": [
    "proj_df.drop([0], axis=1, inplace=True)"
   ]
  },
  {
   "cell_type": "code",
   "execution_count": 87,
   "metadata": {},
   "outputs": [
    {
     "data": {
      "text/html": [
       "<div>\n",
       "<style scoped>\n",
       "    .dataframe tbody tr th:only-of-type {\n",
       "        vertical-align: middle;\n",
       "    }\n",
       "\n",
       "    .dataframe tbody tr th {\n",
       "        vertical-align: top;\n",
       "    }\n",
       "\n",
       "    .dataframe thead th {\n",
       "        text-align: right;\n",
       "    }\n",
       "</style>\n",
       "<table border=\"1\" class=\"dataframe\">\n",
       "  <thead>\n",
       "    <tr style=\"text-align: right;\">\n",
       "      <th></th>\n",
       "      <th>Projections</th>\n",
       "      <th>QB</th>\n",
       "    </tr>\n",
       "  </thead>\n",
       "  <tbody>\n",
       "    <tr>\n",
       "      <th>0</th>\n",
       "      <td>20.953711</td>\n",
       "      <td>2017_Tom Brady</td>\n",
       "    </tr>\n",
       "    <tr>\n",
       "      <th>1</th>\n",
       "      <td>10.881225</td>\n",
       "      <td>2017_Blake Bortles</td>\n",
       "    </tr>\n",
       "    <tr>\n",
       "      <th>2</th>\n",
       "      <td>18.072424</td>\n",
       "      <td>2017_Alex Smith</td>\n",
       "    </tr>\n",
       "    <tr>\n",
       "      <th>3</th>\n",
       "      <td>15.081776</td>\n",
       "      <td>2017_Russell Wilson</td>\n",
       "    </tr>\n",
       "    <tr>\n",
       "      <th>4</th>\n",
       "      <td>16.215238</td>\n",
       "      <td>2017_Drew Brees</td>\n",
       "    </tr>\n",
       "    <tr>\n",
       "      <th>5</th>\n",
       "      <td>8.745236</td>\n",
       "      <td>2017_Joe Flacco</td>\n",
       "    </tr>\n",
       "    <tr>\n",
       "      <th>6</th>\n",
       "      <td>18.134847</td>\n",
       "      <td>2017_Philip Rivers</td>\n",
       "    </tr>\n",
       "    <tr>\n",
       "      <th>7</th>\n",
       "      <td>16.840742</td>\n",
       "      <td>2017_Matthew Stafford</td>\n",
       "    </tr>\n",
       "    <tr>\n",
       "      <th>8</th>\n",
       "      <td>15.741082</td>\n",
       "      <td>2017_Kirk Cousins</td>\n",
       "    </tr>\n",
       "    <tr>\n",
       "      <th>9</th>\n",
       "      <td>16.840403</td>\n",
       "      <td>2017_Jared Goff</td>\n",
       "    </tr>\n",
       "  </tbody>\n",
       "</table>\n",
       "</div>"
      ],
      "text/plain": [
       "   Projections                     QB\n",
       "0    20.953711         2017_Tom Brady\n",
       "1    10.881225     2017_Blake Bortles\n",
       "2    18.072424        2017_Alex Smith\n",
       "3    15.081776    2017_Russell Wilson\n",
       "4    16.215238        2017_Drew Brees\n",
       "5     8.745236        2017_Joe Flacco\n",
       "6    18.134847     2017_Philip Rivers\n",
       "7    16.840742  2017_Matthew Stafford\n",
       "8    15.741082      2017_Kirk Cousins\n",
       "9    16.840403        2017_Jared Goff"
      ]
     },
     "execution_count": 87,
     "metadata": {},
     "output_type": "execute_result"
    }
   ],
   "source": [
    "proj_df['QB'] = qbs_working\n",
    "proj_df"
   ]
  },
  {
   "cell_type": "code",
   "execution_count": 88,
   "metadata": {},
   "outputs": [
    {
     "data": {
      "text/plain": [
       "9.3489926493359796"
      ]
     },
     "execution_count": 88,
     "metadata": {},
     "output_type": "execute_result"
    }
   ],
   "source": [
    "actual_fantasy_pts = [33.92, 31.04, 19.24, 15.68, 19.40, 21.52, 9.08, 21.48, 19.84, 14.80]\n",
    "\n",
    "\n",
    "proj_df['actual_pts'] = actual_fantasy_pts\n",
    "proj_df['se'] = (proj_df['Projections'] - proj_df['actual_pts'])**2\n",
    "rmse = np.sqrt(proj_df['se'].mean())\n",
    "rmse"
   ]
  },
  {
   "cell_type": "code",
   "execution_count": null,
   "metadata": {},
   "outputs": [],
   "source": []
  }
 ],
 "metadata": {
  "kernelspec": {
   "display_name": "Python 3",
   "language": "python",
   "name": "python3"
  },
  "language_info": {
   "codemirror_mode": {
    "name": "ipython",
    "version": 3
   },
   "file_extension": ".py",
   "mimetype": "text/x-python",
   "name": "python",
   "nbconvert_exporter": "python",
   "pygments_lexer": "ipython3",
   "version": "3.6.3"
  }
 },
 "nbformat": 4,
 "nbformat_minor": 2
}
