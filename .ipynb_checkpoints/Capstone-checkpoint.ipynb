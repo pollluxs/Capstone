{
 "cells": [
  {
   "cell_type": "code",
   "execution_count": 35,
   "metadata": {},
   "outputs": [],
   "source": [
    "import pandas as pd\n",
    "import numpy as np\n",
    "import os\n",
    "from sklearn.linear_model import LinearRegression\n",
    "from statsmodels.tsa.arima_model import ARMA\n",
    "from statsmodels.tsa.stattools import adfuller"
   ]
  },
  {
   "cell_type": "markdown",
   "metadata": {},
   "source": [
    "### Importing & Building Raw Data Set"
   ]
  },
  {
   "cell_type": "code",
   "execution_count": 36,
   "metadata": {},
   "outputs": [],
   "source": [
    "file_lst = os.listdir('./raw_data_nfl_QB/')\n",
    "for idx,f in enumerate(file_lst):\n",
    "    if idx == 0:\n",
    "        data = pd.read_csv('./raw_data_nfl_QB/{}'.format(f))\n",
    "    else:\n",
    "        temp_df = pd.read_csv('./raw_data_nfl_QB/{}'.format(f))\n",
    "        data = pd.concat([data,temp_df],axis = 0)"
   ]
  },
  {
   "cell_type": "code",
   "execution_count": 37,
   "metadata": {},
   "outputs": [],
   "source": [
    "data.reset_index(inplace=True)"
   ]
  },
  {
   "cell_type": "markdown",
   "metadata": {},
   "source": [
    "### Renaming"
   ]
  },
  {
   "cell_type": "code",
   "execution_count": 38,
   "metadata": {},
   "outputs": [],
   "source": [
    "data['Rank_QBR'] = data['Rk']\n",
    "data['Sack'] = data['Sk']\n",
    "data['Completions'] = data['Cmp']\n",
    "data['Attempts'] = data['Att']\n",
    "data['Passing_Yards'] = data['Yds']\n",
    "data['Sack_Yards'] = data['Yds.1']\n",
    "data['QBR'] = data['Rate']\n",
    "data['Yds_Per_Attempt'] =  data['Y/A']\n",
    "data['Adj_Yd_Per_Attempt'] = data['AY/A']"
   ]
  },
  {
   "cell_type": "markdown",
   "metadata": {},
   "source": [
    "### Feature Engineering"
   ]
  },
  {
   "cell_type": "markdown",
   "metadata": {},
   "source": [
    "Assuming basic scoring for calculation of fantasy points column \n",
    "\n",
    "    25 yards = 1 pt\n",
    "    1 TD = 6 pts\n",
    "    1 Int = -2 pts"
   ]
  },
  {
   "cell_type": "code",
   "execution_count": 39,
   "metadata": {},
   "outputs": [],
   "source": [
    "data['Year'] = data['Date'].str.split('-', 1, expand=True)[0]\n",
    "data['Year'] = data['Year'].astype(str).astype(int)\n",
    "data['Month'] = data['Date'].str.split('-', 2, expand=True)[1]\n",
    "data['Month'] = data['Month'].astype(str).astype(int)\n",
    "data['Name'] = data['Unnamed: 1'].str.split('\\\\', 1, expand=True)[0]\n",
    "data['Home_Away'] = (data['Unnamed: 6']=='@').map({False:'Home', True:'Away'})\n",
    "data['Home_Team'] = (data['Home_Away']=='Home').map({True:1, False:0})\n",
    "data['Fantasy_Points'] = (data['Passing_Yards']/25)+(data['TD']*6)-(data['Int']*2)"
   ]
  },
  {
   "cell_type": "code",
   "execution_count": 40,
   "metadata": {},
   "outputs": [],
   "source": [
    "QB_ID = []\n",
    "for a, b in zip(data['Year'], data['Name']):\n",
    "    Qid = '{}_{}'.format(a,b)\n",
    "    QB_ID.append(Qid)\n",
    "    \n",
    "data['QB_ID'] = QB_ID"
   ]
  },
  {
   "cell_type": "markdown",
   "metadata": {},
   "source": [
    "### Dropping Irrelevant & Redundant Columns"
   ]
  },
  {
   "cell_type": "code",
   "execution_count": 41,
   "metadata": {},
   "outputs": [],
   "source": [
    "## Dropping Columns that have been renamed or are irrelevant('Lg')\n",
    "drop_cols = ['Rk', 'Sk', 'Cmp', 'Yds', 'Lg', 'Att', 'Yds', 'Yds.1',\n",
    "             'Rate', 'Y/A', 'AY/A', 'index', 'Unnamed: 1', 'Unnamed: 6']\n",
    "data.drop(drop_cols, axis=1, inplace=True)"
   ]
  },
  {
   "cell_type": "markdown",
   "metadata": {},
   "source": [
    "### Trimming Dataframe to Passing Attempts >= 5"
   ]
  },
  {
   "cell_type": "code",
   "execution_count": 42,
   "metadata": {},
   "outputs": [],
   "source": [
    "## Dropping Attempts Below 5\n",
    "data = data.loc[data['Attempts']>=5]"
   ]
  },
  {
   "cell_type": "code",
   "execution_count": 43,
   "metadata": {},
   "outputs": [
    {
     "data": {
      "text/plain": [
       "Index(['Age', 'Date', 'Tm', 'Opp', 'Result', 'G#', 'Week', 'Day', 'Cmp%', 'TD',\n",
       "       'Int', 'Rank_QBR', 'Sack', 'Completions', 'Attempts', 'Passing_Yards',\n",
       "       'Sack_Yards', 'QBR', 'Yds_Per_Attempt', 'Adj_Yd_Per_Attempt', 'Year',\n",
       "       'Month', 'Name', 'Home_Away', 'Home_Team', 'Fantasy_Points', 'QB_ID'],\n",
       "      dtype='object')"
      ]
     },
     "execution_count": 43,
     "metadata": {},
     "output_type": "execute_result"
    }
   ],
   "source": [
    "data.columns"
   ]
  },
  {
   "cell_type": "markdown",
   "metadata": {},
   "source": [
    "### Check for Stationarity"
   ]
  },
  {
   "cell_type": "code",
   "execution_count": 44,
   "metadata": {},
   "outputs": [],
   "source": [
    "results_Yds = adfuller(data['Passing_Yards'].values)\n",
    "results_TD = adfuller(data['TD'].values)\n",
    "results_Int = adfuller(data['Int'].values)"
   ]
  },
  {
   "cell_type": "code",
   "execution_count": 45,
   "metadata": {
    "scrolled": true
   },
   "outputs": [
    {
     "name": "stdout",
     "output_type": "stream",
     "text": [
      "Yards Dickey Fuller Test\n",
      "-11.7174958949 T-Statistic\n",
      "1.43953283153e-21 P_value\n",
      "{'1%': -3.4328579475395395, '5%': -2.8626480184291183, '10%': -2.5673598376418432} Critical Values\n",
      "TD Dickey Fuller Test\n",
      "-11.4002325494 T-Statistic\n",
      "7.68020883773e-21 P_value\n",
      "{'1%': -3.4328598727101833, '5%': -2.8626488686169682, '10%': -2.5673602902877883} Critical Values\n",
      "Int Dickey Fuller Test\n",
      "-16.849530851 T-Statistic\n",
      "1.12153527086e-29 P_value\n",
      "{'1%': -3.4328541060447755, '5%': -2.8626463219585556, '10%': -2.5673589344293486} Critical Values\n"
     ]
    }
   ],
   "source": [
    "print('Yards Dickey Fuller Test')\n",
    "print(results_Yds[0], 'T-Statistic')\n",
    "print(results_Yds[1], 'P_value')\n",
    "print(results_Yds[4], 'Critical Values')\n",
    "print('TD Dickey Fuller Test')\n",
    "print(results_TD[0], 'T-Statistic')\n",
    "print(results_TD[1], 'P_value')\n",
    "print(results_TD[4], 'Critical Values')\n",
    "print('Int Dickey Fuller Test')\n",
    "print(results_Int[0], 'T-Statistic')\n",
    "print(results_Int[1], 'P_value')\n",
    "print(results_Int[4], 'Critical Values')"
   ]
  },
  {
   "cell_type": "code",
   "execution_count": 46,
   "metadata": {},
   "outputs": [],
   "source": [
    "### shows variables are stationary"
   ]
  },
  {
   "cell_type": "markdown",
   "metadata": {},
   "source": [
    "### Setting Functions & Models For Fantasy Relevant Statistics"
   ]
  },
  {
   "cell_type": "markdown",
   "metadata": {},
   "source": [
    "#### Yards"
   ]
  },
  {
   "cell_type": "code",
   "execution_count": 47,
   "metadata": {},
   "outputs": [],
   "source": [
    "X = data[['Cmp%', 'TD', 'Int', 'Sack', 'Completions', 'Attempts','Sack_Yards', 'QBR']]\n",
    "y = data['Passing_Yards']\n",
    "lr_yards = LinearRegression()\n",
    "lr_yards.fit(X,y)\n",
    "predict_yards = lr_yards.predict(X)\n",
    "residuals = predict_yards - y.values\n",
    "ar_yards = ARMA(residuals, (4,1)).fit()"
   ]
  },
  {
   "cell_type": "code",
   "execution_count": 48,
   "metadata": {},
   "outputs": [],
   "source": [
    "def yard_projections(mstr_df,qb_id,week,lr_yards,ar_yards):\n",
    "    '''\n",
    "    mstr_df: Pandas DF; master df with all qbs in all years and all weeks\n",
    "    qb_id: string; the id of the QB you want to make a prediction\n",
    "    week: int, predicting week\n",
    "    lr_yards: linear regression model for yards\n",
    "    ar_yards: ARMA model object for yards residuals\n",
    "    \n",
    "    '''\n",
    "    ycol = ['Passing_Yards'] ## Target Variable\n",
    "    Xcols = ['Cmp%', 'TD', 'Int', 'Sack', 'Completions', 'Attempts','Sack_Yards', 'QBR'] ## predictors\n",
    "    ## create temp df for each QB by Year and week\n",
    "    ## then reset index\n",
    "    temp_df = mstr_df[mstr_df['QB_ID'] == qb_id]\n",
    "    temp_df = temp_df.sort_values('G#')\n",
    "    temp_df.reset_index(inplace=True)\n",
    "    X = temp_df[Xcols]\n",
    "    y = temp_df[ycol]\n",
    "    ## grabbing the weeks before the week specified\n",
    "    w = week-1\n",
    "    prev_weeks = temp_df[:w][Xcols]\n",
    "    y_pred = lr_yards.predict(prev_weeks)\n",
    "    resid = np.array(y[ycol][:w]).flatten()-y_pred\n",
    "    dates = temp_df.index\n",
    "    start = dates[w]\n",
    "    end = dates[w]\n",
    "    residual_prediction = ar_yards.predict(start=start, end=end)\n",
    "    pred_yds = residual_prediction + (y_pred.sum()/week)\n",
    "    return pred_yds"
   ]
  },
  {
   "cell_type": "markdown",
   "metadata": {},
   "source": [
    "#### Touchdowns"
   ]
  },
  {
   "cell_type": "code",
   "execution_count": 49,
   "metadata": {},
   "outputs": [],
   "source": [
    "X = data[['Cmp%', 'Passing_Yards', 'Int', 'Sack', 'Completions', 'Attempts','Sack_Yards', 'QBR']]\n",
    "y = data['TD']\n",
    "lr_TD = LinearRegression()\n",
    "lr_TD.fit(X,y)\n",
    "predict_TD = lr_TD.predict(X)\n",
    "residuals = predict_TD - y.values\n",
    "ar_TD = ARMA(residuals, (4,1)).fit()"
   ]
  },
  {
   "cell_type": "code",
   "execution_count": 50,
   "metadata": {},
   "outputs": [],
   "source": [
    "def TD_projections(mstr_df,qb_id,week,lr_TD,ar_TD):\n",
    "    '''\n",
    "    mstr_df: Pandas DF; master df with all qbs in all years and all weeks\n",
    "    qb_id: string; the id of the qq you want to make a prediction\n",
    "    week: int, predicting week\n",
    "    lr_TD: linear regression model for touchdowns\n",
    "    ar_TD: ARMA model object for touchdowns residuals\n",
    "    \n",
    "    '''\n",
    "    ycol = ['TD'] ## Target Variable\n",
    "    Xcols = ['Cmp%', 'Passing_Yards', 'Int', 'Sack', 'Completions', 'Attempts','Sack_Yards', 'QBR'] ## predictors\n",
    "    ## create temp df for each QB by Year and week\n",
    "    ## then reset index\n",
    "    temp_df = mstr_df[mstr_df['QB_ID'] == qb_id]\n",
    "    temp_df = temp_df.sort_values('G#')\n",
    "    temp_df.reset_index(inplace=True)\n",
    "    X = temp_df[Xcols]\n",
    "    y = temp_df[ycol]\n",
    "    ## grabbing the weeks before the week specified\n",
    "    w = week-1\n",
    "    prev_weeks = temp_df[:w][Xcols]\n",
    "    y_pred = lr_TD.predict(prev_weeks)\n",
    "    resid = np.array(y[ycol][:w]).flatten()-y_pred\n",
    "    dates = temp_df.index\n",
    "    start = dates[w]\n",
    "    end = dates[w]\n",
    "    residual_prediction = ar_TD.predict(start=start, end=end)\n",
    "    pred_TDs = residual_prediction + (y_pred.sum()/week)\n",
    "    return pred_TDs"
   ]
  },
  {
   "cell_type": "markdown",
   "metadata": {},
   "source": [
    "#### Interceptions"
   ]
  },
  {
   "cell_type": "code",
   "execution_count": 51,
   "metadata": {},
   "outputs": [],
   "source": [
    "X = data[['Cmp%', 'Passing_Yards', 'TD', 'Sack', 'Completions', 'Attempts','Sack_Yards', 'QBR']]\n",
    "y = data['Int']\n",
    "lr_Int = LinearRegression()\n",
    "lr_Int.fit(X,y)\n",
    "predict_Int = lr_Int.predict(X)\n",
    "residuals = predict_Int - y.values\n",
    "ar_Int = ARMA(residuals, (4,1)).fit()"
   ]
  },
  {
   "cell_type": "code",
   "execution_count": 52,
   "metadata": {},
   "outputs": [],
   "source": [
    "def Int_projections(mstr_df,qb_id,week,lr_Int,ar_Int):\n",
    "    '''\n",
    "    mstr_df: Pandas DF; master df with all qbs in all years and all weeks\n",
    "    qb_id: string; the id of the qq you want to make a prediction\n",
    "    week: int, predicting week\n",
    "    lr_Int: linear regression model for interceptions\n",
    "    ar_Int: ARMA model object for interceptions residuals\n",
    "    \n",
    "    '''\n",
    "    ycol = ['Int'] ## Target Variable\n",
    "    Xcols = ['Cmp%', 'Passing_Yards', 'TD', 'Sack', 'Completions', 'Attempts','Sack_Yards', 'QBR'] ## predictors\n",
    "    ## create temp df for each QB by Year and week\n",
    "    ## then reset index\n",
    "    temp_df = mstr_df[mstr_df['QB_ID'] == qb_id]\n",
    "    temp_df = temp_df.sort_values('G#')\n",
    "    temp_df.reset_index(inplace=True)\n",
    "    X = temp_df[Xcols]\n",
    "    y = temp_df[ycol]\n",
    "    ## grabbing the weeks before the week specified\n",
    "    w = week-1\n",
    "    prev_weeks = temp_df[:w][Xcols]\n",
    "    y_pred = lr_Int.predict(prev_weeks)\n",
    "    resid = np.array(y[ycol][:w]).flatten()-y_pred\n",
    "    dates = temp_df.index\n",
    "    start = dates[w]\n",
    "    end = dates[w]\n",
    "    residual_prediction = ar_Int.predict(start=start, end=end)\n",
    "    pred_Ints = residual_prediction + (y_pred.sum()/week)\n",
    "    return pred_Ints"
   ]
  },
  {
   "cell_type": "markdown",
   "metadata": {},
   "source": [
    "### Calculating Fantasy Point Projections"
   ]
  },
  {
   "cell_type": "markdown",
   "metadata": {},
   "source": [
    "#### Function "
   ]
  },
  {
   "cell_type": "code",
   "execution_count": 53,
   "metadata": {},
   "outputs": [],
   "source": [
    "def Fantasy_Points_Calculator(QB_ID, week):\n",
    "    Fantasy_point_prediction = (((yard_projections(data, QB_ID, week, lr_yards, ar_yards))/25)\n",
    "    +((TD_projections(data, QB_ID, week, lr_TD, ar_TD))*6)\n",
    "    -((Int_projections(data, QB_ID, week, lr_Int, ar_Int))*2))\n",
    "    return Fantasy_point_prediction"
   ]
  },
  {
   "cell_type": "code",
   "execution_count": null,
   "metadata": {},
   "outputs": [],
   "source": []
  },
  {
   "cell_type": "code",
   "execution_count": 54,
   "metadata": {},
   "outputs": [
    {
     "data": {
      "text/plain": [
       "array([ 25.43340525])"
      ]
     },
     "execution_count": 54,
     "metadata": {},
     "output_type": "execute_result"
    }
   ],
   "source": [
    "Fantasy_Points_Calculator(, 12)"
   ]
  },
  {
   "cell_type": "code",
   "execution_count": 33,
   "metadata": {},
   "outputs": [
    {
     "ename": "NameError",
     "evalue": "name 'y_peyton_13' is not defined",
     "output_type": "error",
     "traceback": [
      "\u001b[1;31m---------------------------------------------------------------------------\u001b[0m",
      "\u001b[1;31mNameError\u001b[0m                                 Traceback (most recent call last)",
      "\u001b[1;32m<ipython-input-33-1bd2f34efcf2>\u001b[0m in \u001b[0;36m<module>\u001b[1;34m()\u001b[0m\n\u001b[1;32m----> 1\u001b[1;33m \u001b[0my_peyton_13\u001b[0m\u001b[1;33m[\u001b[0m\u001b[1;34m'Passing_Yards'\u001b[0m\u001b[1;33m]\u001b[0m\u001b[1;33m[\u001b[0m\u001b[1;33m:\u001b[0m\u001b[0mw\u001b[0m\u001b[1;33m]\u001b[0m\u001b[1;33m\u001b[0m\u001b[0m\n\u001b[0m",
      "\u001b[1;31mNameError\u001b[0m: name 'y_peyton_13' is not defined"
     ]
    }
   ],
   "source": [
    "y_peyton_13['Passing_Yards'][:w]"
   ]
  },
  {
   "cell_type": "code",
   "execution_count": 348,
   "metadata": {},
   "outputs": [],
   "source": [
    "y_pred_peyton =  lr_yards.predict(train)"
   ]
  },
  {
   "cell_type": "code",
   "execution_count": 355,
   "metadata": {},
   "outputs": [
    {
     "data": {
      "text/plain": [
       "array([ 129.74624222,   14.73100119])"
      ]
     },
     "execution_count": 355,
     "metadata": {},
     "output_type": "execute_result"
    }
   ],
   "source": [
    "np.array(y_peyton_13['Passing_Yards'][:w] - y_pred_peyton)"
   ]
  },
  {
   "cell_type": "code",
   "execution_count": 339,
   "metadata": {},
   "outputs": [
    {
     "data": {
      "text/plain": [
       "array([462, 330], dtype=int64)"
      ]
     },
     "execution_count": 339,
     "metadata": {},
     "output_type": "execute_result"
    }
   ],
   "source": [
    "y_peyton_13[:w].values.reshape(1,2).flatten()"
   ]
  },
  {
   "cell_type": "code",
   "execution_count": 343,
   "metadata": {},
   "outputs": [],
   "source": [
    "resid = y_pred_peyton - y_peyton_13[:w].values"
   ]
  },
  {
   "cell_type": "code",
   "execution_count": null,
   "metadata": {},
   "outputs": [],
   "source": [
    "ar_yards = ARMA(residuals, (2,1), freq=).fit()"
   ]
  },
  {
   "cell_type": "code",
   "execution_count": 242,
   "metadata": {},
   "outputs": [],
   "source": [
    "p_13_hat = lr_yards.predict(peyton_13)"
   ]
  },
  {
   "cell_type": "code",
   "execution_count": 243,
   "metadata": {},
   "outputs": [
    {
     "data": {
      "text/plain": [
       "array([ 332.25375778,  321.20055572,  275.37970925,  205.20029177,\n",
       "        320.42678748,  397.25766565,  297.78777995,  354.3627831 ,\n",
       "        271.76038609,  315.26899881,  340.52211455,  330.59862009,\n",
       "        383.98076174,  305.25320622,  338.63383161,  362.27231315])"
      ]
     },
     "execution_count": 243,
     "metadata": {},
     "output_type": "execute_result"
    }
   ],
   "source": [
    "p_13_hat"
   ]
  },
  {
   "cell_type": "code",
   "execution_count": null,
   "metadata": {},
   "outputs": [],
   "source": []
  },
  {
   "cell_type": "code",
   "execution_count": null,
   "metadata": {},
   "outputs": [],
   "source": [
    "## Break Down By Week\n",
    "Week1_df = data.loc[data['Week']==1]\n",
    "Week2_df = data.loc[data['Week']==2]\n",
    "Week3_df = data.loc[data['Week']==3]\n",
    "Week4_df = data.loc[data['Week']==4]\n",
    "Week5_df = data.loc[data['Week']==5]\n",
    "Week6_df = data.loc[data['Week']==6]\n",
    "Week7_df = data.loc[data['Week']==7]\n",
    "Week8_df = data.loc[data['Week']==8]\n",
    "Week9_df = data.loc[data['Week']==9]\n",
    "Week10_df = data.loc[data['Week']==10]\n",
    "Week11_df = data.loc[data['Week']==11]\n",
    "Week12_df = data.loc[data['Week']==12]\n",
    "Week13_df = data.loc[data['Week']==13]\n",
    "Week14_df = data.loc[data['Week']==14]\n",
    "Week15_df = data.loc[data['Week']==15]\n",
    "Week16_df = data.loc[data['Week']==16]\n",
    "Week17_df = data.loc[data['Week']==17]\n",
    "\n",
    "## Break Down By Season\n",
    "df_2016 = data.loc[data['Year']==2016]\n",
    "df_2015 = data.loc[data['Year']==2015]\n",
    "df_2014 = data.loc[data['Year']==2014]\n",
    "df_2013 = data.loc[data['Year']==2013]"
   ]
  },
  {
   "cell_type": "code",
   "execution_count": 316,
   "metadata": {},
   "outputs": [],
   "source": [
    "y = ['Passing_Yards']\n",
    "X = ['Cmp%', 'TD', 'Int', 'Sack', 'Completions', 'Attempts','Sack_Yards', 'QBR']\n",
    "peyton_13 = df_2013[df_2013['QB_ID'] == '2013_Peyton Manning']\n",
    "X_peyton_13 = peyton_13[X]\n",
    "y_peyton_13 = peyton_13[y]\n",
    "\n",
    "peyton_13 = peyton_13.sort_values('G#')\n",
    "\n",
    "peyton_13.reset_index(inplace=True)\n",
    "\n",
    "week = 3\n",
    "w = week-1\n",
    "train = peyton_13[:w][X]\n",
    "train"
   ]
  },
  {
   "cell_type": "markdown",
   "metadata": {},
   "source": [
    "list of every qb by season"
   ]
  }
 ],
 "metadata": {
  "kernelspec": {
   "display_name": "Python 3",
   "language": "python",
   "name": "python3"
  },
  "language_info": {
   "codemirror_mode": {
    "name": "ipython",
    "version": 3
   },
   "file_extension": ".py",
   "mimetype": "text/x-python",
   "name": "python",
   "nbconvert_exporter": "python",
   "pygments_lexer": "ipython3",
   "version": "3.6.3"
  }
 },
 "nbformat": 4,
 "nbformat_minor": 2
}
