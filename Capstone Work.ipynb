{
 "cells": [
  {
   "cell_type": "markdown",
   "metadata": {
    "collapsed": true
   },
   "source": [
    "### Tim Moriarity Capstone"
   ]
  },
  {
   "cell_type": "markdown",
   "metadata": {
    "collapsed": true
   },
   "source": [
    "For my capstone I plan on generating projections for fantasy football, specifically quarterbacks.  If there is time I will expand to the other positions, but intitally the focus will be on quarterbacks. I plan to generate my model from historical football data.  I will convert actual game statistics into fantasy points to compare the accuracy of my projections, witht the end result being projections for unplayed weeks."
   ]
  },
  {
   "cell_type": "markdown",
   "metadata": {},
   "source": [
    "I will draw my data from https://www.pro-football-reference.com which will give me data for each week of the 3 NFL seasons going back through 2015. This gives me access to all the historical stats from the NFL games in the last 3 years.  I will intially try to use an API to gather the data, but if necessary I can manually acquire the data I need. The site has access to data by position as well as, defensive data that will be included in calculating the projections."
   ]
  },
  {
   "cell_type": "markdown",
   "metadata": {},
   "source": [
    "I plan to use the player statistics to calculate their past fantasy scores and compare them to the projections I made for that week. I will have to combine multiple datasets to generate the correct dataframe to create projections.  "
   ]
  },
  {
   "cell_type": "markdown",
   "metadata": {},
   "source": [
    "I will use the weekly defensive player stats generate defensive variables that impact the projections. I will take into account the past play up to 3 years for players in the league. Rookies and Sophmores will be taken into account using dummy tags.  I plan to use whatever domain knowledge on projection generation I can find, as well as my own for independent variable generation."
   ]
  }
 ],
 "metadata": {
  "kernelspec": {
   "display_name": "Python 3",
   "language": "python",
   "name": "python3"
  },
  "language_info": {
   "codemirror_mode": {
    "name": "ipython",
    "version": 3
   },
   "file_extension": ".py",
   "mimetype": "text/x-python",
   "name": "python",
   "nbconvert_exporter": "python",
   "pygments_lexer": "ipython3",
   "version": "3.6.1"
  }
 },
 "nbformat": 4,
 "nbformat_minor": 2
}
